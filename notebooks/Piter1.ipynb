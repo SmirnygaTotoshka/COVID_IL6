{
 "cells": [
  {
   "cell_type": "markdown",
   "id": "acd17572",
   "metadata": {},
   "source": [
    "# Данные о пациентах"
   ]
  },
  {
   "cell_type": "code",
   "execution_count": 1,
   "id": "c63b0f7a",
   "metadata": {},
   "outputs": [],
   "source": [
    "import pandas as pd\n",
    "import datetime\n",
    "import seaborn as sns\n",
    "import matplotlib.pyplot as plt"
   ]
  },
  {
   "cell_type": "code",
   "execution_count": 2,
   "id": "2163b207",
   "metadata": {},
   "outputs": [],
   "source": [
    "pd.set_option('display.max_columns', 500)"
   ]
  },
  {
   "cell_type": "code",
   "execution_count": 4,
   "id": "01502400",
   "metadata": {
    "scrolled": true
   },
   "outputs": [
    {
     "name": "stdout",
     "output_type": "stream",
     "text": [
      "(1741, 24)\n"
     ]
    },
    {
     "data": {
      "text/html": [
       "<div>\n",
       "<style scoped>\n",
       "    .dataframe tbody tr th:only-of-type {\n",
       "        vertical-align: middle;\n",
       "    }\n",
       "\n",
       "    .dataframe tbody tr th {\n",
       "        vertical-align: top;\n",
       "    }\n",
       "\n",
       "    .dataframe thead th {\n",
       "        text-align: right;\n",
       "    }\n",
       "</style>\n",
       "<table border=\"1\" class=\"dataframe\">\n",
       "  <thead>\n",
       "    <tr style=\"text-align: right;\">\n",
       "      <th></th>\n",
       "      <th>ID</th>\n",
       "      <th>Manifistation_Date</th>\n",
       "      <th>Hospitalization_Date</th>\n",
       "      <th>Disease_Day</th>\n",
       "      <th>Outcome</th>\n",
       "      <th>Age</th>\n",
       "      <th>Sex</th>\n",
       "      <th>Full_Vaccination</th>\n",
       "      <th>Second_Component_Date</th>\n",
       "      <th>Vaccine_Code</th>\n",
       "      <th>Days_Beetween_Vaccination_Disease</th>\n",
       "      <th>CT</th>\n",
       "      <th>Saturation</th>\n",
       "      <th>Lung_Damage</th>\n",
       "      <th>Saturation_at_discharge</th>\n",
       "      <th>Heaviness</th>\n",
       "      <th>Etiotropy</th>\n",
       "      <th>Steroids</th>\n",
       "      <th>Target_therapy</th>\n",
       "      <th>Anticoagulants</th>\n",
       "      <th>Non_steroid_antiinfflam</th>\n",
       "      <th>Comments</th>\n",
       "      <th>Omicron</th>\n",
       "      <th>Comments2</th>\n",
       "    </tr>\n",
       "  </thead>\n",
       "  <tbody>\n",
       "    <tr>\n",
       "      <th>0</th>\n",
       "      <td>С-1</td>\n",
       "      <td>2021-06-12 00:00:00</td>\n",
       "      <td>2021-06-15</td>\n",
       "      <td>3.0</td>\n",
       "      <td>выписана</td>\n",
       "      <td>60.0</td>\n",
       "      <td>2.0</td>\n",
       "      <td>0.0</td>\n",
       "      <td>NaN</td>\n",
       "      <td>NaN</td>\n",
       "      <td>NaN</td>\n",
       "      <td>1</td>\n",
       "      <td>95</td>\n",
       "      <td>2.0</td>\n",
       "      <td>97</td>\n",
       "      <td>1.0</td>\n",
       "      <td>0</td>\n",
       "      <td>1</td>\n",
       "      <td>1</td>\n",
       "      <td>1</td>\n",
       "      <td>1</td>\n",
       "      <td>NaN</td>\n",
       "      <td>NaN</td>\n",
       "      <td>NaN</td>\n",
       "    </tr>\n",
       "    <tr>\n",
       "      <th>1</th>\n",
       "      <td>С-2</td>\n",
       "      <td>2021-06-06 00:00:00</td>\n",
       "      <td>2021-06-15</td>\n",
       "      <td>9.0</td>\n",
       "      <td>выписана</td>\n",
       "      <td>24.0</td>\n",
       "      <td>2.0</td>\n",
       "      <td>0.0</td>\n",
       "      <td>NaN</td>\n",
       "      <td>NaN</td>\n",
       "      <td>NaN</td>\n",
       "      <td>2</td>\n",
       "      <td>92</td>\n",
       "      <td>1.0</td>\n",
       "      <td>96</td>\n",
       "      <td>1.0</td>\n",
       "      <td>1</td>\n",
       "      <td>1</td>\n",
       "      <td>1</td>\n",
       "      <td>1</td>\n",
       "      <td>1</td>\n",
       "      <td>NaN</td>\n",
       "      <td>NaN</td>\n",
       "      <td>NaN</td>\n",
       "    </tr>\n",
       "    <tr>\n",
       "      <th>2</th>\n",
       "      <td>С-3</td>\n",
       "      <td>2021-06-11 00:00:00</td>\n",
       "      <td>2021-06-15</td>\n",
       "      <td>4.0</td>\n",
       "      <td>выписана</td>\n",
       "      <td>75.0</td>\n",
       "      <td>2.0</td>\n",
       "      <td>1.0</td>\n",
       "      <td>2021-03-14 00:00:00</td>\n",
       "      <td>1</td>\n",
       "      <td>NaN</td>\n",
       "      <td>0.12</td>\n",
       "      <td>0.96</td>\n",
       "      <td>0.0</td>\n",
       "      <td>0.96</td>\n",
       "      <td>1.0</td>\n",
       "      <td>NaN</td>\n",
       "      <td>1</td>\n",
       "      <td>0</td>\n",
       "      <td>1</td>\n",
       "      <td>NaN</td>\n",
       "      <td>NaN</td>\n",
       "      <td>NaN</td>\n",
       "      <td>NaN</td>\n",
       "    </tr>\n",
       "    <tr>\n",
       "      <th>3</th>\n",
       "      <td>С-4</td>\n",
       "      <td>2021-06-08 00:00:00</td>\n",
       "      <td>2021-06-15</td>\n",
       "      <td>7.0</td>\n",
       "      <td>выписана</td>\n",
       "      <td>64.0</td>\n",
       "      <td>2.0</td>\n",
       "      <td>0.0</td>\n",
       "      <td>2021-05-27 00:00:00</td>\n",
       "      <td>1 однокр</td>\n",
       "      <td>NaN</td>\n",
       "      <td>КТ2 от 14.06, 24.06-40%, 05.07-40%</td>\n",
       "      <td>91</td>\n",
       "      <td>NaN</td>\n",
       "      <td>94</td>\n",
       "      <td>1.0</td>\n",
       "      <td>NaN</td>\n",
       "      <td>1</td>\n",
       "      <td>1</td>\n",
       "      <td>1</td>\n",
       "      <td>NaN</td>\n",
       "      <td>NaN</td>\n",
       "      <td>NaN</td>\n",
       "      <td>NaN</td>\n",
       "    </tr>\n",
       "    <tr>\n",
       "      <th>4</th>\n",
       "      <td>С-5</td>\n",
       "      <td>2021-06-04 00:00:00</td>\n",
       "      <td>2021-06-15</td>\n",
       "      <td>11.0</td>\n",
       "      <td>выписан</td>\n",
       "      <td>29.0</td>\n",
       "      <td>1.0</td>\n",
       "      <td>0.0</td>\n",
       "      <td>NaN</td>\n",
       "      <td>NaN</td>\n",
       "      <td>NaN</td>\n",
       "      <td>3</td>\n",
       "      <td>92</td>\n",
       "      <td>2.0</td>\n",
       "      <td>96</td>\n",
       "      <td>1.0</td>\n",
       "      <td>1</td>\n",
       "      <td>1</td>\n",
       "      <td>0</td>\n",
       "      <td>1</td>\n",
       "      <td>1</td>\n",
       "      <td>NaN</td>\n",
       "      <td>NaN</td>\n",
       "      <td>NaN</td>\n",
       "    </tr>\n",
       "  </tbody>\n",
       "</table>\n",
       "</div>"
      ],
      "text/plain": [
       "    ID   Manifistation_Date Hospitalization_Date  Disease_Day   Outcome   Age  \\\n",
       "0  С-1  2021-06-12 00:00:00           2021-06-15          3.0  выписана  60.0   \n",
       "1  С-2  2021-06-06 00:00:00           2021-06-15          9.0  выписана  24.0   \n",
       "2  С-3  2021-06-11 00:00:00           2021-06-15          4.0  выписана  75.0   \n",
       "3  С-4  2021-06-08 00:00:00           2021-06-15          7.0  выписана  64.0   \n",
       "4  С-5  2021-06-04 00:00:00           2021-06-15         11.0   выписан  29.0   \n",
       "\n",
       "   Sex  Full_Vaccination Second_Component_Date Vaccine_Code  \\\n",
       "0  2.0               0.0                   NaN          NaN   \n",
       "1  2.0               0.0                   NaN          NaN   \n",
       "2  2.0               1.0   2021-03-14 00:00:00            1   \n",
       "3  2.0               0.0   2021-05-27 00:00:00     1 однокр   \n",
       "4  1.0               0.0                   NaN          NaN   \n",
       "\n",
       "   Days_Beetween_Vaccination_Disease                                  CT  \\\n",
       "0                                NaN                                   1   \n",
       "1                                NaN                                   2   \n",
       "2                                NaN                                0.12   \n",
       "3                                NaN  КТ2 от 14.06, 24.06-40%, 05.07-40%   \n",
       "4                                NaN                                   3   \n",
       "\n",
       "  Saturation  Lung_Damage Saturation_at_discharge  Heaviness Etiotropy  \\\n",
       "0         95          2.0                      97        1.0         0   \n",
       "1         92          1.0                      96        1.0         1   \n",
       "2       0.96          0.0                    0.96        1.0       NaN   \n",
       "3         91          NaN                      94        1.0       NaN   \n",
       "4         92          2.0                      96        1.0         1   \n",
       "\n",
       "  Steroids Target_therapy Anticoagulants Non_steroid_antiinfflam Comments  \\\n",
       "0        1              1              1                       1      NaN   \n",
       "1        1              1              1                       1      NaN   \n",
       "2        1              0              1                     NaN      NaN   \n",
       "3        1              1              1                     NaN      NaN   \n",
       "4        1              0              1                       1      NaN   \n",
       "\n",
       "   Omicron Comments2  \n",
       "0      NaN       NaN  \n",
       "1      NaN       NaN  \n",
       "2      NaN       NaN  \n",
       "3      NaN       NaN  \n",
       "4      NaN       NaN  "
      ]
     },
     "execution_count": 4,
     "metadata": {},
     "output_type": "execute_result"
    }
   ],
   "source": [
    "data = pd.read_excel(\"~/Documents/Piter/Immunology/Patients_data.xlsx\")\n",
    "print(data.shape)\n",
    "data.head()"
   ]
  },
  {
   "cell_type": "markdown",
   "id": "9aea2328",
   "metadata": {},
   "source": [
    "# Проверить даты"
   ]
  },
  {
   "cell_type": "code",
   "execution_count": 22,
   "id": "5f41bb19",
   "metadata": {},
   "outputs": [
    {
     "data": {
      "text/plain": [
       "(1684, 26)"
      ]
     },
     "execution_count": 22,
     "metadata": {},
     "output_type": "execute_result"
    }
   ],
   "source": [
    "for i in data.index:\n",
    "    if not (isinstance(data.loc[i, \"Manifistation_Date\"],datetime.date) and isinstance(data.loc[i, \"Hospitalization_Date\"],datetime.date)):\n",
    "        data.drop(index = i, inplace = True)\n",
    "data.shape"
   ]
  },
  {
   "cell_type": "code",
   "execution_count": 23,
   "id": "4452d6a4",
   "metadata": {},
   "outputs": [
    {
     "data": {
      "text/plain": [
       "(1664, 26)"
      ]
     },
     "execution_count": 23,
     "metadata": {},
     "output_type": "execute_result"
    }
   ],
   "source": [
    "data = data[data[\"Manifistation_Date\"] < data[\"Hospitalization_Date\"]]\n",
    "data.shape"
   ]
  },
  {
   "cell_type": "markdown",
   "id": "8a5c4d87",
   "metadata": {},
   "source": [
    "# Критерии включения"
   ]
  },
  {
   "cell_type": "markdown",
   "id": "16801a7b",
   "metadata": {},
   "source": [
    "- День заболевания = [5;10] день\n",
    "- Возраст = [40;70] лет\n",
    "- Не вакцинирован\n",
    "- Не Омикрон"
   ]
  },
  {
   "cell_type": "code",
   "execution_count": 24,
   "id": "a59e025b",
   "metadata": {},
   "outputs": [
    {
     "data": {
      "text/plain": [
       "(901, 26)"
      ]
     },
     "execution_count": 24,
     "metadata": {},
     "output_type": "execute_result"
    }
   ],
   "source": [
    "data = data[(data[\"Disease_Day\"] >= 5) & (data[\"Disease_Day\"] <= 10)]\n",
    "data.shape"
   ]
  },
  {
   "cell_type": "code",
   "execution_count": 25,
   "id": "b38c4b33",
   "metadata": {},
   "outputs": [
    {
     "data": {
      "text/plain": [
       "(580, 26)"
      ]
     },
     "execution_count": 25,
     "metadata": {},
     "output_type": "execute_result"
    }
   ],
   "source": [
    "data = data[(data[\"Age\"] >= 40) & (data[\"Age\"] <= 70)]\n",
    "data.shape"
   ]
  },
  {
   "cell_type": "code",
   "execution_count": 26,
   "id": "32b1fda5",
   "metadata": {},
   "outputs": [
    {
     "data": {
      "text/plain": [
       "(412, 26)"
      ]
     },
     "execution_count": 26,
     "metadata": {},
     "output_type": "execute_result"
    }
   ],
   "source": [
    "data = data[(data[\"Full_Vaccination\"] == 0) & (data[\"Second_Component_Date\"].isna()) & (data[\"Vaccine_Code\"].isna()) & (data[\"Days_Beetween_Vaccination_Disease\"].isna())]\n",
    "data.shape"
   ]
  },
  {
   "cell_type": "code",
   "execution_count": 27,
   "id": "8faad6e9",
   "metadata": {},
   "outputs": [
    {
     "data": {
      "text/plain": [
       "(412, 26)"
      ]
     },
     "execution_count": 27,
     "metadata": {},
     "output_type": "execute_result"
    }
   ],
   "source": [
    "data = data[(data[\"Omicron\"] == 0) | (data[\"Omicron\"].isna())]\n",
    "data.shape"
   ]
  },
  {
   "cell_type": "code",
   "execution_count": 29,
   "id": "1eac7f19",
   "metadata": {},
   "outputs": [
    {
     "data": {
      "text/plain": [
       "2.0    218\n",
       "1.0    194\n",
       "Name: Sex, dtype: int64"
      ]
     },
     "execution_count": 29,
     "metadata": {},
     "output_type": "execute_result"
    }
   ],
   "source": [
    "data[\"Sex\"].value_counts()"
   ]
  },
  {
   "cell_type": "markdown",
   "id": "6346a409",
   "metadata": {},
   "source": [
    "# Факторизовать исходы"
   ]
  },
  {
   "cell_type": "code",
   "execution_count": 28,
   "id": "89d7ed3f",
   "metadata": {},
   "outputs": [
    {
     "data": {
      "text/plain": [
       "выписана                   201\n",
       "выписан                    182\n",
       "амбул                        4\n",
       "умер                         1\n",
       "умерла 17.10                 1\n",
       "умерла 01.01                 1\n",
       "умерла 12.12                 1\n",
       "умерла 17.11                 1\n",
       "переведена на реабил         1\n",
       "умер 08.10.2021              1\n",
       "умер 07.10.2021              1\n",
       "умерла 06.10                 1\n",
       "переведена реаб.25.10        1\n",
       "умерла 16.09                 1\n",
       "переведен на реаб.15.10      1\n",
       "умер 14.08.2021              1\n",
       "умерла 25.08                 1\n",
       "умерла 08.09                 1\n",
       "умер 20.07.2021              1\n",
       "умерла 17.08                 1\n",
       "умер 21.07.2021              1\n",
       "умерла 06.08                 1\n",
       "умерла 31.08                 1\n",
       "умер 17.07.2021              1\n",
       "умер 13.06.2021              1\n",
       "умер 16.07.2021              1\n",
       "умер 13.07.2021              1\n",
       "умер 07.02                   1\n",
       "Name: Outcome, dtype: int64"
      ]
     },
     "execution_count": 28,
     "metadata": {},
     "output_type": "execute_result"
    }
   ],
   "source": [
    "data[\"Outcome\"].value_counts()"
   ]
  },
  {
   "cell_type": "code",
   "execution_count": 32,
   "id": "8d50da6f",
   "metadata": {},
   "outputs": [],
   "source": [
    "data.loc[data['Outcome'].str.contains(\"выписан\"),\"Outcome\"] = \"выписка\"\n",
    "data.loc[data['Outcome'].str.contains(\"амбул\"),\"Outcome\"] = \"амбулаторно\"\n",
    "data.loc[data['Outcome'].str.contains(\"умер\"),\"Outcome\"] = \"смерть\"\n",
    "data.loc[data['Outcome'].str.contains(\"реаб\"),\"Outcome\"] = \"реабилитация\""
   ]
  },
  {
   "cell_type": "code",
   "execution_count": 33,
   "id": "134048d9",
   "metadata": {},
   "outputs": [
    {
     "data": {
      "text/plain": [
       "выписка         383\n",
       "смерть           22\n",
       "амбулаторно       4\n",
       "реабилитация      3\n",
       "Name: Outcome, dtype: int64"
      ]
     },
     "execution_count": 33,
     "metadata": {},
     "output_type": "execute_result"
    }
   ],
   "source": [
    "data[\"Outcome\"].value_counts()"
   ]
  },
  {
   "cell_type": "markdown",
   "id": "1b5929bf",
   "metadata": {},
   "source": [
    "# Отбор образцов"
   ]
  },
  {
   "cell_type": "markdown",
   "id": "d4533b85",
   "metadata": {},
   "source": [
    "Необходимо, чтобы распределения возраста и пола в группах примерно совпадали по форме и группы с благоприятным исходом было несколько больше образцов, чем в группе с неблагоприятным"
   ]
  },
  {
   "cell_type": "code",
   "execution_count": 51,
   "id": "2611fc77",
   "metadata": {},
   "outputs": [
    {
     "data": {
      "text/plain": [
       "<AxesSubplot:xlabel='Age', ylabel='Count'>"
      ]
     },
     "execution_count": 51,
     "metadata": {},
     "output_type": "execute_result"
    },
    {
     "data": {
      "image/png": "[encoded data removed]",
      "text/plain": [
       "<Figure size 432x288 with 1 Axes>"
      ]
     },
     "metadata": {
      "needs_background": "light"
     },
     "output_type": "display_data"
    }
   ],
   "source": [
    "sns.histplot(data.loc[data[\"Outcome\"] == \"смерть\",\"Age\"],binwidth = 5)"
   ]
  },
  {
   "cell_type": "code",
   "execution_count": 54,
   "id": "42bd1cbb",
   "metadata": {},
   "outputs": [
    {
     "data": {
      "text/plain": [
       "42.0    1\n",
       "50.0    1\n",
       "53.0    1\n",
       "55.0    1\n",
       "57.0    2\n",
       "59.0    3\n",
       "60.0    1\n",
       "61.0    1\n",
       "62.0    1\n",
       "65.0    3\n",
       "66.0    1\n",
       "68.0    3\n",
       "69.0    2\n",
       "70.0    1\n",
       "Name: Age, dtype: int64"
      ]
     },
     "execution_count": 54,
     "metadata": {},
     "output_type": "execute_result"
    }
   ],
   "source": [
    "data.loc[data[\"Outcome\"] == \"смерть\",\"Age\"].value_counts().sort_index()"
   ]
  },
  {
   "cell_type": "code",
   "execution_count": 56,
   "id": "70ac18d8",
   "metadata": {},
   "outputs": [
    {
     "data": {
      "text/plain": [
       "40.0    13\n",
       "41.0    10\n",
       "42.0     3\n",
       "43.0    13\n",
       "44.0    13\n",
       "45.0    10\n",
       "46.0    12\n",
       "47.0    14\n",
       "48.0     5\n",
       "49.0    11\n",
       "50.0     8\n",
       "51.0    14\n",
       "52.0     8\n",
       "53.0    10\n",
       "54.0    12\n",
       "55.0    10\n",
       "56.0    10\n",
       "57.0    17\n",
       "58.0    13\n",
       "59.0    12\n",
       "60.0    18\n",
       "61.0    16\n",
       "62.0    22\n",
       "63.0    22\n",
       "64.0    15\n",
       "65.0    14\n",
       "66.0    14\n",
       "67.0    11\n",
       "68.0    16\n",
       "69.0    10\n",
       "70.0    10\n",
       "Name: Age, dtype: int64"
      ]
     },
     "execution_count": 56,
     "metadata": {},
     "output_type": "execute_result"
    }
   ],
   "source": [
    "favorable = data[(data[\"Outcome\"] == \"выписка\") | (data[\"Outcome\"] == \"реабилитация\")]\n",
    "favorable[\"Age\"].value_counts().sort_index()"
   ]
  },
  {
   "cell_type": "code",
   "execution_count": 57,
   "id": "f00ab05d",
   "metadata": {},
   "outputs": [],
   "source": [
    "k = 3"
   ]
  },
  {
   "cell_type": "code",
   "execution_count": 73,
   "id": "e8e04f31",
   "metadata": {},
   "outputs": [],
   "source": [
    "# Случайный выбор образцов из возрастных групп\n",
    "age40_45 = favorable[(favorable[\"Age\"] > 40) & (favorable[\"Age\"] <= 45)].sample(n = 1 * k,random_state = 555)\n",
    "age45_50 = favorable[(favorable[\"Age\"] > 45) & (favorable[\"Age\"] <= 50)].sample(n = 1 * k,random_state = 555)\n",
    "age50_55 = favorable[(favorable[\"Age\"] > 50) & (favorable[\"Age\"] <= 55)].sample(n = 2 * k,random_state = 555)\n",
    "age55_60 = favorable[(favorable[\"Age\"] > 55) & (favorable[\"Age\"] <= 60)].sample(n = 6 * k,random_state = 555)\n",
    "age60_65 = favorable[(favorable[\"Age\"] > 60) & (favorable[\"Age\"] <= 65)].sample(n = 5 * k,random_state = 555)\n",
    "age65_70 = favorable[(favorable[\"Age\"] > 65) & (favorable[\"Age\"] <= 70)].sample(n = 7 * k,random_state = 555)"
   ]
  },
  {
   "cell_type": "code",
   "execution_count": 74,
   "id": "bd1d9592",
   "metadata": {},
   "outputs": [
    {
     "data": {
      "text/plain": [
       "41.0    1\n",
       "44.0    1\n",
       "45.0    1\n",
       "47.0    1\n",
       "49.0    2\n",
       "51.0    1\n",
       "52.0    1\n",
       "53.0    1\n",
       "54.0    1\n",
       "55.0    2\n",
       "56.0    3\n",
       "57.0    4\n",
       "58.0    3\n",
       "59.0    4\n",
       "60.0    4\n",
       "61.0    1\n",
       "62.0    6\n",
       "63.0    5\n",
       "64.0    2\n",
       "65.0    1\n",
       "66.0    4\n",
       "67.0    3\n",
       "68.0    5\n",
       "69.0    3\n",
       "70.0    6\n",
       "Name: Age, dtype: int64"
      ]
     },
     "execution_count": 74,
     "metadata": {},
     "output_type": "execute_result"
    }
   ],
   "source": [
    "sample_favor = pd.concat([age40_45,age45_50,age50_55,age55_60,age60_65,age65_70],axis = 0)\n",
    "sample_favor[\"Age\"].value_counts().sort_index()"
   ]
  },
  {
   "cell_type": "code",
   "execution_count": 75,
   "id": "d8943c62",
   "metadata": {},
   "outputs": [
    {
     "data": {
      "text/plain": [
       "<AxesSubplot:xlabel='Age', ylabel='Count'>"
      ]
     },
     "execution_count": 75,
     "metadata": {},
     "output_type": "execute_result"
    },
    {
     "data": {
      "image/png": "[encoded data removed]",
      "text/plain": [
       "<Figure size 432x288 with 1 Axes>"
      ]
     },
     "metadata": {
      "needs_background": "light"
     },
     "output_type": "display_data"
    }
   ],
   "source": [
    "sns.histplot(data.loc[data[\"Outcome\"] == \"смерть\",\"Age\"],binwidth = 5)\n",
    "sns.histplot(sample_favor[\"Age\"],binwidth = 5,color = \"red\",alpha = 0.3)"
   ]
  },
  {
   "cell_type": "code",
   "execution_count": 77,
   "id": "b53c889a",
   "metadata": {},
   "outputs": [
    {
     "data": {
      "text/plain": [
       "66"
      ]
     },
     "execution_count": 77,
     "metadata": {},
     "output_type": "execute_result"
    }
   ],
   "source": [
    "len(sample_favor.index)"
   ]
  },
  {
   "cell_type": "code",
   "execution_count": 76,
   "id": "3349a447",
   "metadata": {},
   "outputs": [
    {
     "data": {
      "text/plain": [
       "2.0    39\n",
       "1.0    27\n",
       "Name: Sex, dtype: int64"
      ]
     },
     "execution_count": 76,
     "metadata": {},
     "output_type": "execute_result"
    }
   ],
   "source": [
    "sample_favor[\"Sex\"].value_counts()"
   ]
  },
  {
   "cell_type": "code",
   "execution_count": 66,
   "id": "c3e60468",
   "metadata": {},
   "outputs": [
    {
     "data": {
      "text/plain": [
       "1.0    11\n",
       "2.0    11\n",
       "Name: Sex, dtype: int64"
      ]
     },
     "execution_count": 66,
     "metadata": {},
     "output_type": "execute_result"
    }
   ],
   "source": [
    "data.loc[data[\"Outcome\"] == \"смерть\",\"Sex\"].value_counts()"
   ]
  },
  {
   "cell_type": "markdown",
   "id": "11f2ba8f",
   "metadata": {},
   "source": [
    "# Сохраняем списки"
   ]
  },
  {
   "cell_type": "code",
   "execution_count": 79,
   "id": "f2f729d1",
   "metadata": {},
   "outputs": [
    {
     "data": {
      "text/html": [
       "<div>\n",
       "<style scoped>\n",
       "    .dataframe tbody tr th:only-of-type {\n",
       "        vertical-align: middle;\n",
       "    }\n",
       "\n",
       "    .dataframe tbody tr th {\n",
       "        vertical-align: top;\n",
       "    }\n",
       "\n",
       "    .dataframe thead th {\n",
       "        text-align: right;\n",
       "    }\n",
       "</style>\n",
       "<table border=\"1\" class=\"dataframe\">\n",
       "  <thead>\n",
       "    <tr style=\"text-align: right;\">\n",
       "      <th></th>\n",
       "      <th>ID</th>\n",
       "      <th>Outcome</th>\n",
       "      <th>Age</th>\n",
       "      <th>Sex</th>\n",
       "    </tr>\n",
       "  </thead>\n",
       "  <tbody>\n",
       "    <tr>\n",
       "      <th>307</th>\n",
       "      <td>С-311</td>\n",
       "      <td>выписка</td>\n",
       "      <td>41.0</td>\n",
       "      <td>1.0</td>\n",
       "    </tr>\n",
       "    <tr>\n",
       "      <th>241</th>\n",
       "      <td>C-244</td>\n",
       "      <td>выписка</td>\n",
       "      <td>44.0</td>\n",
       "      <td>1.0</td>\n",
       "    </tr>\n",
       "    <tr>\n",
       "      <th>399</th>\n",
       "      <td>С-405</td>\n",
       "      <td>выписка</td>\n",
       "      <td>45.0</td>\n",
       "      <td>2.0</td>\n",
       "    </tr>\n",
       "    <tr>\n",
       "      <th>267</th>\n",
       "      <td>С-270</td>\n",
       "      <td>выписка</td>\n",
       "      <td>47.0</td>\n",
       "      <td>1.0</td>\n",
       "    </tr>\n",
       "    <tr>\n",
       "      <th>264</th>\n",
       "      <td>С-267</td>\n",
       "      <td>выписка</td>\n",
       "      <td>49.0</td>\n",
       "      <td>1.0</td>\n",
       "    </tr>\n",
       "  </tbody>\n",
       "</table>\n",
       "</div>"
      ],
      "text/plain": [
       "        ID  Outcome   Age  Sex\n",
       "307  С-311  выписка  41.0  1.0\n",
       "241  C-244  выписка  44.0  1.0\n",
       "399  С-405  выписка  45.0  2.0\n",
       "267  С-270  выписка  47.0  1.0\n",
       "264  С-267  выписка  49.0  1.0"
      ]
     },
     "execution_count": 79,
     "metadata": {},
     "output_type": "execute_result"
    }
   ],
   "source": [
    "final = pd.concat([data[data[\"Outcome\"] == \"смерть\"],sample_favor])\n",
    "final = final[[\"ID\",\"Outcome\",\"Age\", \"Sex\"]].sort_values(by = [\"Outcome\",\"Age\",\"Sex\"])\n",
    "final.head()"
   ]
  },
  {
   "cell_type": "code",
   "execution_count": 82,
   "id": "9a9a32f9",
   "metadata": {},
   "outputs": [],
   "source": [
    "final[(final[\"Sex\"] == 1) & (final[\"Outcome\"] == \"выписка\")].sort_values(by = \"Age\").to_excel(\"~/Documents/Piter/Immunology/surv_men.xlsx\",index = False)"
   ]
  },
  {
   "cell_type": "code",
   "execution_count": 83,
   "id": "f7ec71d4",
   "metadata": {},
   "outputs": [],
   "source": [
    "final[(final[\"Sex\"] == 2) & (final[\"Outcome\"] == \"выписка\")].sort_values(by = \"Age\").to_excel(\"~/Documents/Piter/Immunology/surv_women.xlsx\",index = False)"
   ]
  },
  {
   "cell_type": "code",
   "execution_count": 84,
   "id": "4314fb25",
   "metadata": {},
   "outputs": [],
   "source": [
    "final[(final[\"Sex\"] == 1) & (final[\"Outcome\"] == \"смерть\")].sort_values(by = \"Age\").to_excel(\"~/Documents/Piter/Immunology/dead_men.xlsx\",index = False)"
   ]
  },
  {
   "cell_type": "code",
   "execution_count": 85,
   "id": "5f7067c0",
   "metadata": {},
   "outputs": [],
   "source": [
    "final[(final[\"Sex\"] == 2) & (final[\"Outcome\"] == \"смерть\")].sort_values(by = \"Age\").to_excel(\"~/Documents/Piter/Immunology/dead_women.xlsx\",index = False)"
   ]
  },
  {
   "cell_type": "markdown",
   "id": "ee8af44c",
   "metadata": {},
   "source": [
    "# Обработка результатов"
   ]
  },
  {
   "cell_type": "code",
   "execution_count": 5,
   "id": "1a588e26",
   "metadata": {},
   "outputs": [
    {
     "data": {
      "text/html": [
       "<div>\n",
       "<style scoped>\n",
       "    .dataframe tbody tr th:only-of-type {\n",
       "        vertical-align: middle;\n",
       "    }\n",
       "\n",
       "    .dataframe tbody tr th {\n",
       "        vertical-align: top;\n",
       "    }\n",
       "\n",
       "    .dataframe thead th {\n",
       "        text-align: right;\n",
       "    }\n",
       "</style>\n",
       "<table border=\"1\" class=\"dataframe\">\n",
       "  <thead>\n",
       "    <tr style=\"text-align: right;\">\n",
       "      <th></th>\n",
       "      <th>Holes</th>\n",
       "      <th>Outcome</th>\n",
       "      <th>Age</th>\n",
       "      <th>Sex</th>\n",
       "      <th>Try_1, pg/ml</th>\n",
       "      <th>Try_2, pg/ml</th>\n",
       "      <th>Mean, pg/ml</th>\n",
       "    </tr>\n",
       "    <tr>\n",
       "      <th>ID</th>\n",
       "      <th></th>\n",
       "      <th></th>\n",
       "      <th></th>\n",
       "      <th></th>\n",
       "      <th></th>\n",
       "      <th></th>\n",
       "      <th></th>\n",
       "    </tr>\n",
       "  </thead>\n",
       "  <tbody>\n",
       "    <tr>\n",
       "      <th>70</th>\n",
       "      <td>H1,B3</td>\n",
       "      <td>NaN</td>\n",
       "      <td>NaN</td>\n",
       "      <td>NaN</td>\n",
       "      <td>51.69</td>\n",
       "      <td>54.35</td>\n",
       "      <td>53.02</td>\n",
       "    </tr>\n",
       "    <tr>\n",
       "      <th>910</th>\n",
       "      <td>A2,B2</td>\n",
       "      <td>NaN</td>\n",
       "      <td>NaN</td>\n",
       "      <td>NaN</td>\n",
       "      <td>94.23</td>\n",
       "      <td>43.04</td>\n",
       "      <td>68.64</td>\n",
       "    </tr>\n",
       "    <tr>\n",
       "      <th>464</th>\n",
       "      <td>C2,D2</td>\n",
       "      <td>NaN</td>\n",
       "      <td>NaN</td>\n",
       "      <td>NaN</td>\n",
       "      <td>39.49</td>\n",
       "      <td>37.82</td>\n",
       "      <td>38.66</td>\n",
       "    </tr>\n",
       "    <tr>\n",
       "      <th>110</th>\n",
       "      <td>E2,F2</td>\n",
       "      <td>NaN</td>\n",
       "      <td>NaN</td>\n",
       "      <td>NaN</td>\n",
       "      <td>17.86</td>\n",
       "      <td>21.03</td>\n",
       "      <td>19.45</td>\n",
       "    </tr>\n",
       "    <tr>\n",
       "      <th>7</th>\n",
       "      <td>G2,H2</td>\n",
       "      <td>NaN</td>\n",
       "      <td>NaN</td>\n",
       "      <td>NaN</td>\n",
       "      <td>30.68</td>\n",
       "      <td>31.13</td>\n",
       "      <td>30.91</td>\n",
       "    </tr>\n",
       "  </tbody>\n",
       "</table>\n",
       "</div>"
      ],
      "text/plain": [
       "     Holes  Outcome  Age  Sex  Try_1, pg/ml  Try_2, pg/ml  Mean, pg/ml\n",
       "ID                                                                    \n",
       "70   H1,B3      NaN  NaN  NaN         51.69         54.35        53.02\n",
       "910  A2,B2      NaN  NaN  NaN         94.23         43.04        68.64\n",
       "464  C2,D2      NaN  NaN  NaN         39.49         37.82        38.66\n",
       "110  E2,F2      NaN  NaN  NaN         17.86         21.03        19.45\n",
       "7    G2,H2      NaN  NaN  NaN         30.68         31.13        30.91"
      ]
     },
     "execution_count": 5,
     "metadata": {},
     "output_type": "execute_result"
    }
   ],
   "source": [
    "results = pd.read_excel(\"~/Documents/Piter/Immunology/tables/results.ods\",engine = \"odf\",index_col = 0)\n",
    "results.head()"
   ]
  },
  {
   "cell_type": "code",
   "execution_count": 7,
   "id": "1a44ca13",
   "metadata": {},
   "outputs": [
    {
     "data": {
      "text/html": [
       "<div>\n",
       "<style scoped>\n",
       "    .dataframe tbody tr th:only-of-type {\n",
       "        vertical-align: middle;\n",
       "    }\n",
       "\n",
       "    .dataframe tbody tr th {\n",
       "        vertical-align: top;\n",
       "    }\n",
       "\n",
       "    .dataframe thead th {\n",
       "        text-align: right;\n",
       "    }\n",
       "</style>\n",
       "<table border=\"1\" class=\"dataframe\">\n",
       "  <thead>\n",
       "    <tr style=\"text-align: right;\">\n",
       "      <th></th>\n",
       "      <th>Outcome</th>\n",
       "      <th>Age</th>\n",
       "      <th>Sex</th>\n",
       "      <th>Exist</th>\n",
       "    </tr>\n",
       "    <tr>\n",
       "      <th>ID</th>\n",
       "      <th></th>\n",
       "      <th></th>\n",
       "      <th></th>\n",
       "      <th></th>\n",
       "    </tr>\n",
       "  </thead>\n",
       "  <tbody>\n",
       "    <tr>\n",
       "      <th>770</th>\n",
       "      <td>выписка</td>\n",
       "      <td>54</td>\n",
       "      <td>1</td>\n",
       "      <td>ИСТИНА</td>\n",
       "    </tr>\n",
       "    <tr>\n",
       "      <th>226</th>\n",
       "      <td>выписка</td>\n",
       "      <td>56</td>\n",
       "      <td>1</td>\n",
       "      <td>ИСТИНА</td>\n",
       "    </tr>\n",
       "    <tr>\n",
       "      <th>1153</th>\n",
       "      <td>выписка</td>\n",
       "      <td>56</td>\n",
       "      <td>1</td>\n",
       "      <td>ИСТИНА</td>\n",
       "    </tr>\n",
       "    <tr>\n",
       "      <th>1261</th>\n",
       "      <td>выписка</td>\n",
       "      <td>57</td>\n",
       "      <td>1</td>\n",
       "      <td>ИСТИНА</td>\n",
       "    </tr>\n",
       "    <tr>\n",
       "      <th>774</th>\n",
       "      <td>выписка</td>\n",
       "      <td>60</td>\n",
       "      <td>1</td>\n",
       "      <td>ИСТИНА</td>\n",
       "    </tr>\n",
       "  </tbody>\n",
       "</table>\n",
       "</div>"
      ],
      "text/plain": [
       "      Outcome  Age  Sex   Exist\n",
       "ID                             \n",
       "770   выписка   54    1  ИСТИНА\n",
       "226   выписка   56    1  ИСТИНА\n",
       "1153  выписка   56    1  ИСТИНА\n",
       "1261  выписка   57    1  ИСТИНА\n",
       "774   выписка   60    1  ИСТИНА"
      ]
     },
     "execution_count": 7,
     "metadata": {},
     "output_type": "execute_result"
    }
   ],
   "source": [
    "samples = pd.read_excel(\"~/Documents/Piter/Immunology/tables/samples.ods\",engine = \"odf\",index_col = 0)\n",
    "samples.head()"
   ]
  },
  {
   "cell_type": "code",
   "execution_count": 8,
   "id": "8d8a24b4",
   "metadata": {},
   "outputs": [],
   "source": [
    "for i in results.index:\n",
    "    results.loc[i,\"Outcome\"] = samples.loc[i,\"Outcome\"]\n",
    "    results.loc[i,\"Age\"] = samples.loc[i,\"Age\"]\n",
    "    results.loc[i,\"Sex\"] = samples.loc[i,\"Sex\"]"
   ]
  },
  {
   "cell_type": "code",
   "execution_count": 7,
   "id": "f586ca10",
   "metadata": {},
   "outputs": [
    {
     "data": {
      "text/html": [
       "<div>\n",
       "<style scoped>\n",
       "    .dataframe tbody tr th:only-of-type {\n",
       "        vertical-align: middle;\n",
       "    }\n",
       "\n",
       "    .dataframe tbody tr th {\n",
       "        vertical-align: top;\n",
       "    }\n",
       "\n",
       "    .dataframe thead th {\n",
       "        text-align: right;\n",
       "    }\n",
       "</style>\n",
       "<table border=\"1\" class=\"dataframe\">\n",
       "  <thead>\n",
       "    <tr style=\"text-align: right;\">\n",
       "      <th></th>\n",
       "      <th>Holes</th>\n",
       "      <th>Outcome</th>\n",
       "      <th>Age</th>\n",
       "      <th>Sex</th>\n",
       "      <th>Try_1, pg/ml</th>\n",
       "      <th>Try_2, pg/ml</th>\n",
       "      <th>Mean, pg/ml</th>\n",
       "    </tr>\n",
       "    <tr>\n",
       "      <th>ID</th>\n",
       "      <th></th>\n",
       "      <th></th>\n",
       "      <th></th>\n",
       "      <th></th>\n",
       "      <th></th>\n",
       "      <th></th>\n",
       "      <th></th>\n",
       "    </tr>\n",
       "  </thead>\n",
       "  <tbody>\n",
       "    <tr>\n",
       "      <th>70</th>\n",
       "      <td>H1,B3</td>\n",
       "      <td>смерть</td>\n",
       "      <td>50.0</td>\n",
       "      <td>1.0</td>\n",
       "      <td>51.69</td>\n",
       "      <td>54.35</td>\n",
       "      <td>53.02</td>\n",
       "    </tr>\n",
       "    <tr>\n",
       "      <th>910</th>\n",
       "      <td>A2,B2</td>\n",
       "      <td>смерть</td>\n",
       "      <td>53.0</td>\n",
       "      <td>1.0</td>\n",
       "      <td>94.23</td>\n",
       "      <td>43.04</td>\n",
       "      <td>68.64</td>\n",
       "    </tr>\n",
       "    <tr>\n",
       "      <th>464</th>\n",
       "      <td>C2,D2</td>\n",
       "      <td>смерть</td>\n",
       "      <td>55.0</td>\n",
       "      <td>1.0</td>\n",
       "      <td>39.49</td>\n",
       "      <td>37.82</td>\n",
       "      <td>38.66</td>\n",
       "    </tr>\n",
       "    <tr>\n",
       "      <th>110</th>\n",
       "      <td>E2,F2</td>\n",
       "      <td>смерть</td>\n",
       "      <td>57.0</td>\n",
       "      <td>1.0</td>\n",
       "      <td>17.86</td>\n",
       "      <td>21.03</td>\n",
       "      <td>19.45</td>\n",
       "    </tr>\n",
       "    <tr>\n",
       "      <th>7</th>\n",
       "      <td>G2,H2</td>\n",
       "      <td>смерть</td>\n",
       "      <td>59.0</td>\n",
       "      <td>1.0</td>\n",
       "      <td>30.68</td>\n",
       "      <td>31.13</td>\n",
       "      <td>30.91</td>\n",
       "    </tr>\n",
       "  </tbody>\n",
       "</table>\n",
       "</div>"
      ],
      "text/plain": [
       "     Holes Outcome   Age  Sex  Try_1, pg/ml  Try_2, pg/ml  Mean, pg/ml\n",
       "ID                                                                    \n",
       "70   H1,B3  смерть  50.0  1.0         51.69         54.35        53.02\n",
       "910  A2,B2  смерть  53.0  1.0         94.23         43.04        68.64\n",
       "464  C2,D2  смерть  55.0  1.0         39.49         37.82        38.66\n",
       "110  E2,F2  смерть  57.0  1.0         17.86         21.03        19.45\n",
       "7    G2,H2  смерть  59.0  1.0         30.68         31.13        30.91"
      ]
     },
     "execution_count": 7,
     "metadata": {},
     "output_type": "execute_result"
    }
   ],
   "source": [
    "results.head()"
   ]
  },
  {
   "cell_type": "code",
   "execution_count": 9,
   "id": "d5ef7aa4",
   "metadata": {},
   "outputs": [
    {
     "data": {
      "text/html": [
       "<div>\n",
       "<style scoped>\n",
       "    .dataframe tbody tr th:only-of-type {\n",
       "        vertical-align: middle;\n",
       "    }\n",
       "\n",
       "    .dataframe tbody tr th {\n",
       "        vertical-align: top;\n",
       "    }\n",
       "\n",
       "    .dataframe thead th {\n",
       "        text-align: right;\n",
       "    }\n",
       "</style>\n",
       "<table border=\"1\" class=\"dataframe\">\n",
       "  <thead>\n",
       "    <tr style=\"text-align: right;\">\n",
       "      <th></th>\n",
       "      <th>Holes</th>\n",
       "      <th>Outcome</th>\n",
       "      <th>Age</th>\n",
       "      <th>Sex</th>\n",
       "      <th>Try_1, pg/ml</th>\n",
       "      <th>Try_2, pg/ml</th>\n",
       "      <th>Mean, pg/ml</th>\n",
       "    </tr>\n",
       "    <tr>\n",
       "      <th>ID</th>\n",
       "      <th></th>\n",
       "      <th></th>\n",
       "      <th></th>\n",
       "      <th></th>\n",
       "      <th></th>\n",
       "      <th></th>\n",
       "      <th></th>\n",
       "    </tr>\n",
       "  </thead>\n",
       "  <tbody>\n",
       "    <tr>\n",
       "      <th>CDPS218</th>\n",
       "      <td>A11,B11</td>\n",
       "      <td>здоровый</td>\n",
       "      <td>55.0</td>\n",
       "      <td>2.0</td>\n",
       "      <td>6.815</td>\n",
       "      <td>7.806</td>\n",
       "      <td>7.31</td>\n",
       "    </tr>\n",
       "    <tr>\n",
       "      <th>CDPS241</th>\n",
       "      <td>C11,D11</td>\n",
       "      <td>здоровый</td>\n",
       "      <td>65.0</td>\n",
       "      <td>1.0</td>\n",
       "      <td>8.691</td>\n",
       "      <td>10.030</td>\n",
       "      <td>9.36</td>\n",
       "    </tr>\n",
       "    <tr>\n",
       "      <th>CDPS242</th>\n",
       "      <td>E11,F11</td>\n",
       "      <td>здоровый</td>\n",
       "      <td>64.0</td>\n",
       "      <td>2.0</td>\n",
       "      <td>8.370</td>\n",
       "      <td>9.677</td>\n",
       "      <td>9.02</td>\n",
       "    </tr>\n",
       "    <tr>\n",
       "      <th>CDPS243</th>\n",
       "      <td>G11,H11</td>\n",
       "      <td>здоровый</td>\n",
       "      <td>54.0</td>\n",
       "      <td>1.0</td>\n",
       "      <td>10.400</td>\n",
       "      <td>21.620</td>\n",
       "      <td>16.01</td>\n",
       "    </tr>\n",
       "    <tr>\n",
       "      <th>CDPS244</th>\n",
       "      <td>A12,B12</td>\n",
       "      <td>здоровый</td>\n",
       "      <td>50.0</td>\n",
       "      <td>2.0</td>\n",
       "      <td>11.780</td>\n",
       "      <td>12.840</td>\n",
       "      <td>12.31</td>\n",
       "    </tr>\n",
       "    <tr>\n",
       "      <th>CDPS250</th>\n",
       "      <td>C12,D12</td>\n",
       "      <td>здоровый</td>\n",
       "      <td>61.0</td>\n",
       "      <td>2.0</td>\n",
       "      <td>7.111</td>\n",
       "      <td>5.004</td>\n",
       "      <td>6.06</td>\n",
       "    </tr>\n",
       "    <tr>\n",
       "      <th>CDPS254</th>\n",
       "      <td>E12,F12</td>\n",
       "      <td>здоровый</td>\n",
       "      <td>51.0</td>\n",
       "      <td>2.0</td>\n",
       "      <td>4.788</td>\n",
       "      <td>4.937</td>\n",
       "      <td>4.86</td>\n",
       "    </tr>\n",
       "    <tr>\n",
       "      <th>CDPS262</th>\n",
       "      <td>G12,H12</td>\n",
       "      <td>здоровый</td>\n",
       "      <td>55.0</td>\n",
       "      <td>1.0</td>\n",
       "      <td>5.281</td>\n",
       "      <td>25.780</td>\n",
       "      <td>15.53</td>\n",
       "    </tr>\n",
       "  </tbody>\n",
       "</table>\n",
       "</div>"
      ],
      "text/plain": [
       "           Holes   Outcome   Age  Sex  Try_1, pg/ml  Try_2, pg/ml  Mean, pg/ml\n",
       "ID                                                                            \n",
       "CDPS218  A11,B11  здоровый  55.0  2.0         6.815         7.806         7.31\n",
       "CDPS241  C11,D11  здоровый  65.0  1.0         8.691        10.030         9.36\n",
       "CDPS242  E11,F11  здоровый  64.0  2.0         8.370         9.677         9.02\n",
       "CDPS243  G11,H11  здоровый  54.0  1.0        10.400        21.620        16.01\n",
       "CDPS244  A12,B12  здоровый  50.0  2.0        11.780        12.840        12.31\n",
       "CDPS250  C12,D12  здоровый  61.0  2.0         7.111         5.004         6.06\n",
       "CDPS254  E12,F12  здоровый  51.0  2.0         4.788         4.937         4.86\n",
       "CDPS262  G12,H12  здоровый  55.0  1.0         5.281        25.780        15.53"
      ]
     },
     "execution_count": 9,
     "metadata": {},
     "output_type": "execute_result"
    }
   ],
   "source": [
    "results.loc[results[\"Outcome\"] ==\"здоровый\",]"
   ]
  },
  {
   "cell_type": "code",
   "execution_count": 6,
   "id": "0638bb95",
   "metadata": {},
   "outputs": [],
   "source": [
    "results.to_excel(\"~/Documents/Piter/Immunology/samples_used.xlsx\")"
   ]
  },
  {
   "cell_type": "code",
   "execution_count": 24,
   "id": "8348f99e",
   "metadata": {},
   "outputs": [
    {
     "data": {
      "text/plain": [
       "<AxesSubplot:>"
      ]
     },
     "execution_count": 24,
     "metadata": {},
     "output_type": "execute_result"
    },
    {
     "data": {
      "image/png": "[encoded data removed]",
      "text/plain": [
       "<Figure size 432x288 with 1 Axes>"
      ]
     },
     "metadata": {
      "needs_background": "light"
     },
     "output_type": "display_data"
    }
   ],
   "source": [
    "results[\"Outcome\"].hist()"
   ]
  },
  {
   "cell_type": "code",
   "execution_count": 25,
   "id": "f4f95583",
   "metadata": {},
   "outputs": [
    {
     "data": {
      "text/plain": [
       "<AxesSubplot:>"
      ]
     },
     "execution_count": 25,
     "metadata": {},
     "output_type": "execute_result"
    },
    {
     "data": {
      "image/png": "[encoded data removed]",
      "text/plain": [
       "<Figure size 432x288 with 1 Axes>"
      ]
     },
     "metadata": {
      "needs_background": "light"
     },
     "output_type": "display_data"
    }
   ],
   "source": [
    "results[\"Age\"].hist()"
   ]
  },
  {
   "cell_type": "code",
   "execution_count": 38,
   "id": "90901ebf",
   "metadata": {},
   "outputs": [
    {
     "data": {
      "text/plain": [
       "<AxesSubplot:>"
      ]
     },
     "execution_count": 38,
     "metadata": {},
     "output_type": "execute_result"
    },
    {
     "data": {
      "image/png": "[encoded data removed]",
      "text/plain": [
       "<Figure size 432x288 with 1 Axes>"
      ]
     },
     "metadata": {
      "needs_background": "light"
     },
     "output_type": "display_data"
    }
   ],
   "source": [
    "results[\"Sex\"].hist()"
   ]
  },
  {
   "cell_type": "code",
   "execution_count": 39,
   "id": "7f6b1ce3",
   "metadata": {},
   "outputs": [
    {
     "data": {
      "text/plain": [
       "<AxesSubplot:>"
      ]
     },
     "execution_count": 39,
     "metadata": {},
     "output_type": "execute_result"
    },
    {
     "data": {
      "image/png": "[encoded data removed]",
      "text/plain": [
       "<Figure size 432x288 with 1 Axes>"
      ]
     },
     "metadata": {
      "needs_background": "light"
     },
     "output_type": "display_data"
    }
   ],
   "source": [
    "results.loc[results[\"Outcome\"] == \"выписка\",\"Age\"].hist()"
   ]
  },
  {
   "cell_type": "code",
   "execution_count": 40,
   "id": "5e8ce372",
   "metadata": {},
   "outputs": [
    {
     "data": {
      "text/plain": [
       "<AxesSubplot:>"
      ]
     },
     "execution_count": 40,
     "metadata": {},
     "output_type": "execute_result"
    },
    {
     "data": {
      "image/png": "[encoded data removed]",
      "text/plain": [
       "<Figure size 432x288 with 1 Axes>"
      ]
     },
     "metadata": {
      "needs_background": "light"
     },
     "output_type": "display_data"
    }
   ],
   "source": [
    "results.loc[results[\"Outcome\"] == \"смерть\",\"Age\"].hist()"
   ]
  },
  {
   "cell_type": "code",
   "execution_count": 41,
   "id": "58af5c6f",
   "metadata": {},
   "outputs": [
    {
     "data": {
      "text/plain": [
       "<AxesSubplot:>"
      ]
     },
     "execution_count": 41,
     "metadata": {},
     "output_type": "execute_result"
    },
    {
     "data": {
      "image/png": "[encoded data removed]",
      "text/plain": [
       "<Figure size 432x288 with 1 Axes>"
      ]
     },
     "metadata": {
      "needs_background": "light"
     },
     "output_type": "display_data"
    }
   ],
   "source": [
    "results.loc[results[\"Outcome\"] == \"здоровый\",\"Age\"].hist()"
   ]
  },
  {
   "cell_type": "code",
   "execution_count": 9,
   "id": "af97e50f",
   "metadata": {},
   "outputs": [
    {
     "data": {
      "text/plain": [
       "Text(0, 0.5, 'Возраст,года')"
      ]
     },
     "execution_count": 9,
     "metadata": {},
     "output_type": "execute_result"
    },
    {
     "data": {
      "image/png": "[encoded data removed]",
      "text/plain": [
       "<Figure size 720x864 with 1 Axes>"
      ]
     },
     "metadata": {
      "needs_background": "light"
     },
     "output_type": "display_data"
    }
   ],
   "source": [
    "fig,ax = plt.subplots(figsize = (10,12))\n",
    "sns.boxplot(data=results, x=\"Outcome\", y=\"Age\", boxprops={'alpha': 0.4},ax = ax,showfliers = False)\n",
    "sns.stripplot(data=results, x=\"Outcome\", y=\"Age\", dodge=True, ax=ax)\n",
    "ax.set_xlabel(\"Исход\")\n",
    "ax.set_ylabel(\"Возраст,года\")\n",
    "#plt.savefig(\"res.png\",dpi = 300)"
   ]
  },
  {
   "cell_type": "code",
   "execution_count": 42,
   "id": "14dab0d2",
   "metadata": {},
   "outputs": [
    {
     "data": {
      "text/plain": [
       "<AxesSubplot:>"
      ]
     },
     "execution_count": 42,
     "metadata": {},
     "output_type": "execute_result"
    },
    {
     "data": {
      "image/png": "[encoded data removed]",
      "text/plain": [
       "<Figure size 432x288 with 1 Axes>"
      ]
     },
     "metadata": {
      "needs_background": "light"
     },
     "output_type": "display_data"
    }
   ],
   "source": [
    "results.loc[results[\"Outcome\"] == \"выписка\",\"Sex\"].hist()"
   ]
  },
  {
   "cell_type": "code",
   "execution_count": 43,
   "id": "e4f8c085",
   "metadata": {},
   "outputs": [
    {
     "data": {
      "text/plain": [
       "<AxesSubplot:>"
      ]
     },
     "execution_count": 43,
     "metadata": {},
     "output_type": "execute_result"
    },
    {
     "data": {
      "image/png": "[encoded data removed]",
      "text/plain": [
       "<Figure size 432x288 with 1 Axes>"
      ]
     },
     "metadata": {
      "needs_background": "light"
     },
     "output_type": "display_data"
    }
   ],
   "source": [
    "results.loc[results[\"Outcome\"] == \"смерть\",\"Sex\"].hist()"
   ]
  },
  {
   "cell_type": "code",
   "execution_count": 44,
   "id": "b92f3753",
   "metadata": {},
   "outputs": [
    {
     "data": {
      "text/plain": [
       "<AxesSubplot:>"
      ]
     },
     "execution_count": 44,
     "metadata": {},
     "output_type": "execute_result"
    },
    {
     "data": {
      "image/png": "[encoded data removed]",
      "text/plain": [
       "<Figure size 432x288 with 1 Axes>"
      ]
     },
     "metadata": {
      "needs_background": "light"
     },
     "output_type": "display_data"
    }
   ],
   "source": [
    "results.loc[results[\"Outcome\"] == \"здоровый\",\"Sex\"].hist()"
   ]
  },
  {
   "cell_type": "code",
   "execution_count": 45,
   "id": "1632a775",
   "metadata": {},
   "outputs": [
    {
     "data": {
      "text/plain": [
       "<AxesSubplot:>"
      ]
     },
     "execution_count": 45,
     "metadata": {},
     "output_type": "execute_result"
    },
    {
     "data": {
      "image/png": "[encoded data removed]",
      "text/plain": [
       "<Figure size 432x288 with 1 Axes>"
      ]
     },
     "metadata": {
      "needs_background": "light"
     },
     "output_type": "display_data"
    }
   ],
   "source": [
    "results.loc[results[\"Outcome\"] == \"здоровый\",\"Mean, pg/ml\"].hist()"
   ]
  },
  {
   "cell_type": "code",
   "execution_count": 46,
   "id": "bbe5d758",
   "metadata": {},
   "outputs": [
    {
     "data": {
      "text/plain": [
       "<AxesSubplot:>"
      ]
     },
     "execution_count": 46,
     "metadata": {},
     "output_type": "execute_result"
    },
    {
     "data": {
      "image/png": "[encoded data removed]",
      "text/plain": [
       "<Figure size 432x288 with 1 Axes>"
      ]
     },
     "metadata": {
      "needs_background": "light"
     },
     "output_type": "display_data"
    }
   ],
   "source": [
    "results.loc[results[\"Outcome\"] == \"выписка\",\"Mean, pg/ml\"].hist()"
   ]
  },
  {
   "cell_type": "code",
   "execution_count": 47,
   "id": "c558501a",
   "metadata": {},
   "outputs": [
    {
     "data": {
      "text/plain": [
       "<AxesSubplot:>"
      ]
     },
     "execution_count": 47,
     "metadata": {},
     "output_type": "execute_result"
    },
    {
     "data": {
      "image/png": "[encoded data removed]",
      "text/plain": [
       "<Figure size 432x288 with 1 Axes>"
      ]
     },
     "metadata": {
      "needs_background": "light"
     },
     "output_type": "display_data"
    }
   ],
   "source": [
    "results.loc[results[\"Outcome\"] == \"смерть\",\"Mean, pg/ml\"].hist()"
   ]
  },
  {
   "cell_type": "markdown",
   "id": "4b95d938",
   "metadata": {},
   "source": [
    "## Проверка гипотез"
   ]
  },
  {
   "cell_type": "markdown",
   "id": "a8160629",
   "metadata": {},
   "source": [
    "1. Первая\n",
    "    * Н0: Средний уровень IL-6 у **_умерших_** равен таковому у **_выписывшихся_** пациентов\n",
    "    * Н1: Средний уровень IL-6 у **_умерших_** выше таковому у **_выписывшихся_** пациентов\n",
    "    \n",
    "2. Вторая\n",
    "    * Н0: Средний уровень IL-6 у **_выписывшихся_** равен таковому у **_здоровых_**\n",
    "    * Н1: Средний уровень IL-6 у **_выписывшихся_** выше таковому у **_здоровых_**\n",
    "    \n",
    "3. Третья\n",
    "    * Н0: Средний уровень IL-6 у **_больных_** равен таковому у **_здоровых_** пациентов\n",
    "    * Н1: Средний уровень IL-6 у **_больных_** выше таковому у **_здоровых_** пациентов"
   ]
  },
  {
   "cell_type": "code",
   "execution_count": 10,
   "id": "e2fc6714",
   "metadata": {},
   "outputs": [],
   "source": [
    "from scipy.stats import mannwhitneyu"
   ]
  },
  {
   "cell_type": "code",
   "execution_count": 14,
   "id": "2c2375cb",
   "metadata": {},
   "outputs": [
    {
     "data": {
      "text/plain": [
       "MannwhitneyuResult(statistic=190.5, pvalue=0.27107728855503743)"
      ]
     },
     "execution_count": 14,
     "metadata": {},
     "output_type": "execute_result"
    }
   ],
   "source": [
    "x = results.loc[(results[\"Outcome\"] == \"смерть\"),\"Mean, pg/ml\"]\n",
    "y = results.loc[(results[\"Outcome\"] == \"выписка\"),\"Mean, pg/ml\"]\n",
    "mannwhitneyu(x,y, use_continuity = True, alternative = \"greater\")"
   ]
  },
  {
   "cell_type": "code",
   "execution_count": 18,
   "id": "25b5007e",
   "metadata": {},
   "outputs": [
    {
     "data": {
      "text/plain": [
       "MannwhitneyuResult(statistic=150.0, pvalue=4.375656549569593e-05)"
      ]
     },
     "execution_count": 18,
     "metadata": {},
     "output_type": "execute_result"
    }
   ],
   "source": [
    "x = results.loc[(results[\"Outcome\"] == \"выписка\"),\"Mean, pg/ml\"]\n",
    "y = results.loc[(results[\"Outcome\"] == \"здоровый\"),\"Mean, pg/ml\"]\n",
    "mannwhitneyu(x,y, use_continuity = True, alternative = \"greater\")"
   ]
  },
  {
   "cell_type": "code",
   "execution_count": 12,
   "id": "4ce03276",
   "metadata": {},
   "outputs": [
    {
     "data": {
      "text/plain": [
       "MannwhitneyuResult(statistic=282.0, pvalue=3.695407164693908e-05)"
      ]
     },
     "execution_count": 12,
     "metadata": {},
     "output_type": "execute_result"
    }
   ],
   "source": [
    "x = results.loc[(results[\"Outcome\"] == \"смерть\") | (results[\"Outcome\"] == \"выписка\"),\"Mean, pg/ml\"]\n",
    "y = results.loc[results[\"Outcome\"] == \"здоровый\",\"Mean, pg/ml\"]\n",
    "mannwhitneyu(x,y, use_continuity = True, alternative = \"greater\")"
   ]
  },
  {
   "cell_type": "code",
   "execution_count": 55,
   "id": "7d145f06",
   "metadata": {},
   "outputs": [
    {
     "data": {
      "text/html": [
       "<div>\n",
       "<style scoped>\n",
       "    .dataframe tbody tr th:only-of-type {\n",
       "        vertical-align: middle;\n",
       "    }\n",
       "\n",
       "    .dataframe tbody tr th {\n",
       "        vertical-align: top;\n",
       "    }\n",
       "\n",
       "    .dataframe thead th {\n",
       "        text-align: right;\n",
       "    }\n",
       "</style>\n",
       "<table border=\"1\" class=\"dataframe\">\n",
       "  <thead>\n",
       "    <tr style=\"text-align: right;\">\n",
       "      <th></th>\n",
       "      <th>sCD40L (12)</th>\n",
       "      <th>EGF (13)</th>\n",
       "      <th>Eotaxin (14)</th>\n",
       "      <th>FGF-2 (15)</th>\n",
       "      <th>Flt-3L (18)</th>\n",
       "      <th>Fractalkine (19)</th>\n",
       "      <th>G-CSF (20)</th>\n",
       "      <th>GROa (22)</th>\n",
       "      <th>IFNa2 (25)</th>\n",
       "      <th>IFNg (26)</th>\n",
       "      <th>IL-1a (27)</th>\n",
       "      <th>IL-1b (28)</th>\n",
       "      <th>IL-1RA (29)</th>\n",
       "      <th>IL-2 (30)</th>\n",
       "      <th>IL-3 (33)</th>\n",
       "      <th>IL-4 (34)</th>\n",
       "      <th>IL-5 (35)</th>\n",
       "      <th>IL-6 (36)</th>\n",
       "      <th>IL-7 (37)</th>\n",
       "      <th>IL-8 (38)</th>\n",
       "      <th>IL-9 (39)</th>\n",
       "      <th>IL-10 (42)</th>\n",
       "      <th>IL-12(p40) (43)</th>\n",
       "      <th>IL-12(p70) (44)</th>\n",
       "      <th>IL-13 (46)</th>\n",
       "      <th>IL-15 (47)</th>\n",
       "      <th>IL-17A (48)</th>\n",
       "      <th>IL-17E/IL-25 (51)</th>\n",
       "      <th>IL-17F (53)</th>\n",
       "      <th>IL-18 (54)</th>\n",
       "      <th>Unnamed: 31</th>\n",
       "      <th>IL-27 (56)</th>\n",
       "      <th>IP-10 (57)</th>\n",
       "      <th>MCP-1 (61)</th>\n",
       "      <th>MCP-3 (62)</th>\n",
       "      <th>M-CSF (63)</th>\n",
       "      <th>MDC (64)</th>\n",
       "      <th>MIG/CXCL9 (65)</th>\n",
       "      <th>MIP-1a (66)</th>\n",
       "      <th>MIP-1b (67)</th>\n",
       "      <th>PDGF-AA (72)</th>\n",
       "      <th>PDGF-AB/BB (73)</th>\n",
       "      <th>TGF a (75)</th>\n",
       "      <th>TNF a (76)</th>\n",
       "      <th>TNF b (77)</th>\n",
       "      <th>VEGF-A (78)</th>\n",
       "      <th>IL-22 (55)</th>\n",
       "      <th>GM-CSF (21)</th>\n",
       "    </tr>\n",
       "    <tr>\n",
       "      <th>Sample</th>\n",
       "      <th></th>\n",
       "      <th></th>\n",
       "      <th></th>\n",
       "      <th></th>\n",
       "      <th></th>\n",
       "      <th></th>\n",
       "      <th></th>\n",
       "      <th></th>\n",
       "      <th></th>\n",
       "      <th></th>\n",
       "      <th></th>\n",
       "      <th></th>\n",
       "      <th></th>\n",
       "      <th></th>\n",
       "      <th></th>\n",
       "      <th></th>\n",
       "      <th></th>\n",
       "      <th></th>\n",
       "      <th></th>\n",
       "      <th></th>\n",
       "      <th></th>\n",
       "      <th></th>\n",
       "      <th></th>\n",
       "      <th></th>\n",
       "      <th></th>\n",
       "      <th></th>\n",
       "      <th></th>\n",
       "      <th></th>\n",
       "      <th></th>\n",
       "      <th></th>\n",
       "      <th></th>\n",
       "      <th></th>\n",
       "      <th></th>\n",
       "      <th></th>\n",
       "      <th></th>\n",
       "      <th></th>\n",
       "      <th></th>\n",
       "      <th></th>\n",
       "      <th></th>\n",
       "      <th></th>\n",
       "      <th></th>\n",
       "      <th></th>\n",
       "      <th></th>\n",
       "      <th></th>\n",
       "      <th></th>\n",
       "      <th></th>\n",
       "      <th></th>\n",
       "      <th></th>\n",
       "    </tr>\n",
       "  </thead>\n",
       "  <tbody>\n",
       "    <tr>\n",
       "      <th>546.0</th>\n",
       "      <td>4735.379</td>\n",
       "      <td>199.142600</td>\n",
       "      <td>56.25480</td>\n",
       "      <td>44.71625</td>\n",
       "      <td>3.765309</td>\n",
       "      <td>131.45290</td>\n",
       "      <td>72.38761</td>\n",
       "      <td>87.50420</td>\n",
       "      <td>31.79050</td>\n",
       "      <td>2.38324</td>\n",
       "      <td>6.455840</td>\n",
       "      <td>5.076273</td>\n",
       "      <td>14.964850</td>\n",
       "      <td>0.728805</td>\n",
       "      <td>1.239405</td>\n",
       "      <td>2.354653</td>\n",
       "      <td>2.250741</td>\n",
       "      <td>61.19382</td>\n",
       "      <td>9.681900</td>\n",
       "      <td>28.640190</td>\n",
       "      <td>7.537803</td>\n",
       "      <td>19.22701</td>\n",
       "      <td>26.56493</td>\n",
       "      <td>4.862956</td>\n",
       "      <td>46.55725</td>\n",
       "      <td>11.763500</td>\n",
       "      <td>3.379161</td>\n",
       "      <td>160.28060</td>\n",
       "      <td>27.28690</td>\n",
       "      <td>453.2738</td>\n",
       "      <td>NaN</td>\n",
       "      <td>8497.798</td>\n",
       "      <td>138249.900</td>\n",
       "      <td>918.2180</td>\n",
       "      <td>25.317570</td>\n",
       "      <td>241.95730</td>\n",
       "      <td>387.6014</td>\n",
       "      <td>2406.433</td>\n",
       "      <td>11.591100</td>\n",
       "      <td>12.64192</td>\n",
       "      <td>3587.185</td>\n",
       "      <td>29637.59</td>\n",
       "      <td>3.071599</td>\n",
       "      <td>119.96540</td>\n",
       "      <td>6.094970</td>\n",
       "      <td>101.14250</td>\n",
       "      <td>0.0</td>\n",
       "      <td>0.0</td>\n",
       "    </tr>\n",
       "    <tr>\n",
       "      <th>577.0</th>\n",
       "      <td>4243.735</td>\n",
       "      <td>9.049793</td>\n",
       "      <td>117.33180</td>\n",
       "      <td>39.32560</td>\n",
       "      <td>11.161680</td>\n",
       "      <td>78.41877</td>\n",
       "      <td>182.99860</td>\n",
       "      <td>171.46240</td>\n",
       "      <td>36.76734</td>\n",
       "      <td>42.37721</td>\n",
       "      <td>0.046928</td>\n",
       "      <td>4.342502</td>\n",
       "      <td>114.845800</td>\n",
       "      <td>0.837913</td>\n",
       "      <td>0.950580</td>\n",
       "      <td>2.457084</td>\n",
       "      <td>1.470934</td>\n",
       "      <td>167.2522</td>\n",
       "      <td>3.468563</td>\n",
       "      <td>55.768360</td>\n",
       "      <td>4.297981</td>\n",
       "      <td>53.56606</td>\n",
       "      <td>49.20442</td>\n",
       "      <td>4.862956</td>\n",
       "      <td>38.76379</td>\n",
       "      <td>16.221320</td>\n",
       "      <td>1.227497</td>\n",
       "      <td>125.38190</td>\n",
       "      <td>25.22708</td>\n",
       "      <td>353.7754</td>\n",
       "      <td>NaN</td>\n",
       "      <td>5760.764</td>\n",
       "      <td>261706.600</td>\n",
       "      <td>1584.6420</td>\n",
       "      <td>22.113930</td>\n",
       "      <td>374.37400</td>\n",
       "      <td>393.0840</td>\n",
       "      <td>4595.521</td>\n",
       "      <td>11.591100</td>\n",
       "      <td>15.41848</td>\n",
       "      <td>3342.615</td>\n",
       "      <td>27570.72</td>\n",
       "      <td>4.891874</td>\n",
       "      <td>132.31420</td>\n",
       "      <td>8.533460</td>\n",
       "      <td>275.82750</td>\n",
       "      <td>0.0</td>\n",
       "      <td>0.0</td>\n",
       "    </tr>\n",
       "    <tr>\n",
       "      <th>695.0</th>\n",
       "      <td>3110.253</td>\n",
       "      <td>47.814400</td>\n",
       "      <td>68.43403</td>\n",
       "      <td>47.38342</td>\n",
       "      <td>4.258966</td>\n",
       "      <td>189.73750</td>\n",
       "      <td>50.12771</td>\n",
       "      <td>21.54733</td>\n",
       "      <td>46.22119</td>\n",
       "      <td>21.17868</td>\n",
       "      <td>4.798429</td>\n",
       "      <td>5.442971</td>\n",
       "      <td>72.715010</td>\n",
       "      <td>0.893033</td>\n",
       "      <td>1.657492</td>\n",
       "      <td>4.021199</td>\n",
       "      <td>2.857858</td>\n",
       "      <td>44.66227</td>\n",
       "      <td>3.791186</td>\n",
       "      <td>14.477610</td>\n",
       "      <td>12.767640</td>\n",
       "      <td>62.69871</td>\n",
       "      <td>57.22725</td>\n",
       "      <td>13.438040</td>\n",
       "      <td>90.93730</td>\n",
       "      <td>7.767109</td>\n",
       "      <td>8.162403</td>\n",
       "      <td>454.46460</td>\n",
       "      <td>28.87629</td>\n",
       "      <td>154.0887</td>\n",
       "      <td>NaN</td>\n",
       "      <td>3230.805</td>\n",
       "      <td>9162.438</td>\n",
       "      <td>1079.1690</td>\n",
       "      <td>26.844700</td>\n",
       "      <td>177.71070</td>\n",
       "      <td>610.5281</td>\n",
       "      <td>2798.264</td>\n",
       "      <td>17.209750</td>\n",
       "      <td>24.40166</td>\n",
       "      <td>3654.242</td>\n",
       "      <td>24238.19</td>\n",
       "      <td>2.930364</td>\n",
       "      <td>61.25769</td>\n",
       "      <td>8.533460</td>\n",
       "      <td>128.32690</td>\n",
       "      <td>0.0</td>\n",
       "      <td>0.0</td>\n",
       "    </tr>\n",
       "    <tr>\n",
       "      <th>731.0</th>\n",
       "      <td>2516.231</td>\n",
       "      <td>144.209800</td>\n",
       "      <td>41.00422</td>\n",
       "      <td>42.03081</td>\n",
       "      <td>1.398762</td>\n",
       "      <td>56.86760</td>\n",
       "      <td>55.72710</td>\n",
       "      <td>57.39148</td>\n",
       "      <td>30.08505</td>\n",
       "      <td>0.00000</td>\n",
       "      <td>0.000000</td>\n",
       "      <td>0.000000</td>\n",
       "      <td>14.119530</td>\n",
       "      <td>0.000000</td>\n",
       "      <td>0.950580</td>\n",
       "      <td>0.956448</td>\n",
       "      <td>1.097248</td>\n",
       "      <td>26.95535</td>\n",
       "      <td>1.890922</td>\n",
       "      <td>4.075204</td>\n",
       "      <td>1.000954</td>\n",
       "      <td>9.35116</td>\n",
       "      <td>22.31873</td>\n",
       "      <td>1.109059</td>\n",
       "      <td>13.98396</td>\n",
       "      <td>7.525135</td>\n",
       "      <td>1.227497</td>\n",
       "      <td>52.39677</td>\n",
       "      <td>22.74888</td>\n",
       "      <td>174.1827</td>\n",
       "      <td>NaN</td>\n",
       "      <td>1544.654</td>\n",
       "      <td>18343.890</td>\n",
       "      <td>338.4619</td>\n",
       "      <td>4.277423</td>\n",
       "      <td>161.56670</td>\n",
       "      <td>416.3359</td>\n",
       "      <td>2199.346</td>\n",
       "      <td>3.002720</td>\n",
       "      <td>15.66350</td>\n",
       "      <td>1224.850</td>\n",
       "      <td>12043.15</td>\n",
       "      <td>1.490340</td>\n",
       "      <td>64.74691</td>\n",
       "      <td>2.585945</td>\n",
       "      <td>79.23200</td>\n",
       "      <td>0.0</td>\n",
       "      <td>0.0</td>\n",
       "    </tr>\n",
       "    <tr>\n",
       "      <th>777.0</th>\n",
       "      <td>1779.697</td>\n",
       "      <td>30.959830</td>\n",
       "      <td>30.51114</td>\n",
       "      <td>39.32560</td>\n",
       "      <td>3.156209</td>\n",
       "      <td>97.52692</td>\n",
       "      <td>55.72710</td>\n",
       "      <td>10.70681</td>\n",
       "      <td>30.08505</td>\n",
       "      <td>0.00000</td>\n",
       "      <td>0.000000</td>\n",
       "      <td>2.873132</td>\n",
       "      <td>5.898078</td>\n",
       "      <td>0.311650</td>\n",
       "      <td>0.950580</td>\n",
       "      <td>1.746285</td>\n",
       "      <td>1.470934</td>\n",
       "      <td>10.06107</td>\n",
       "      <td>1.286427</td>\n",
       "      <td>2.555777</td>\n",
       "      <td>3.707229</td>\n",
       "      <td>12.53433</td>\n",
       "      <td>22.31873</td>\n",
       "      <td>4.862956</td>\n",
       "      <td>22.56755</td>\n",
       "      <td>4.260228</td>\n",
       "      <td>2.673379</td>\n",
       "      <td>228.19800</td>\n",
       "      <td>24.22284</td>\n",
       "      <td>107.4381</td>\n",
       "      <td>NaN</td>\n",
       "      <td>1377.922</td>\n",
       "      <td>13367.520</td>\n",
       "      <td>336.9850</td>\n",
       "      <td>14.818010</td>\n",
       "      <td>64.98027</td>\n",
       "      <td>282.4567</td>\n",
       "      <td>1241.533</td>\n",
       "      <td>8.365783</td>\n",
       "      <td>13.61402</td>\n",
       "      <td>1490.806</td>\n",
       "      <td>16262.19</td>\n",
       "      <td>1.612257</td>\n",
       "      <td>54.33135</td>\n",
       "      <td>3.153988</td>\n",
       "      <td>20.48664</td>\n",
       "      <td>0.0</td>\n",
       "      <td>0.0</td>\n",
       "    </tr>\n",
       "  </tbody>\n",
       "</table>\n",
       "</div>"
      ],
      "text/plain": [
       "        sCD40L (12)    EGF (13)  Eotaxin (14)  FGF-2 (15)  Flt-3L (18)  \\\n",
       "Sample                                                                   \n",
       "546.0      4735.379  199.142600      56.25480    44.71625     3.765309   \n",
       "577.0      4243.735    9.049793     117.33180    39.32560    11.161680   \n",
       "695.0      3110.253   47.814400      68.43403    47.38342     4.258966   \n",
       "731.0      2516.231  144.209800      41.00422    42.03081     1.398762   \n",
       "777.0      1779.697   30.959830      30.51114    39.32560     3.156209   \n",
       "\n",
       "        Fractalkine (19)  G-CSF (20)  GROa (22)  IFNa2 (25)  IFNg (26)  \\\n",
       "Sample                                                                   \n",
       "546.0          131.45290    72.38761   87.50420    31.79050    2.38324   \n",
       "577.0           78.41877   182.99860  171.46240    36.76734   42.37721   \n",
       "695.0          189.73750    50.12771   21.54733    46.22119   21.17868   \n",
       "731.0           56.86760    55.72710   57.39148    30.08505    0.00000   \n",
       "777.0           97.52692    55.72710   10.70681    30.08505    0.00000   \n",
       "\n",
       "        IL-1a (27)  IL-1b (28)  IL-1RA (29)  IL-2 (30)  IL-3 (33)  IL-4 (34)  \\\n",
       "Sample                                                                         \n",
       "546.0     6.455840    5.076273    14.964850   0.728805   1.239405   2.354653   \n",
       "577.0     0.046928    4.342502   114.845800   0.837913   0.950580   2.457084   \n",
       "695.0     4.798429    5.442971    72.715010   0.893033   1.657492   4.021199   \n",
       "731.0     0.000000    0.000000    14.119530   0.000000   0.950580   0.956448   \n",
       "777.0     0.000000    2.873132     5.898078   0.311650   0.950580   1.746285   \n",
       "\n",
       "        IL-5 (35) IL-6 (36)  IL-7 (37)  IL-8 (38)  IL-9 (39) IL-10 (42)  \\\n",
       "Sample                                                                    \n",
       "546.0    2.250741  61.19382   9.681900  28.640190   7.537803   19.22701   \n",
       "577.0    1.470934  167.2522   3.468563  55.768360   4.297981   53.56606   \n",
       "695.0    2.857858  44.66227   3.791186  14.477610  12.767640   62.69871   \n",
       "731.0    1.097248  26.95535   1.890922   4.075204   1.000954    9.35116   \n",
       "777.0    1.470934  10.06107   1.286427   2.555777   3.707229   12.53433   \n",
       "\n",
       "        IL-12(p40) (43)  IL-12(p70) (44)  IL-13 (46)  IL-15 (47)  IL-17A (48)  \\\n",
       "Sample                                                                          \n",
       "546.0          26.56493         4.862956    46.55725   11.763500     3.379161   \n",
       "577.0          49.20442         4.862956    38.76379   16.221320     1.227497   \n",
       "695.0          57.22725        13.438040    90.93730    7.767109     8.162403   \n",
       "731.0          22.31873         1.109059    13.98396    7.525135     1.227497   \n",
       "777.0          22.31873         4.862956    22.56755    4.260228     2.673379   \n",
       "\n",
       "        IL-17E/IL-25 (51)  IL-17F (53)  IL-18 (54)  Unnamed: 31  IL-27 (56)  \\\n",
       "Sample                                                                        \n",
       "546.0           160.28060     27.28690    453.2738          NaN    8497.798   \n",
       "577.0           125.38190     25.22708    353.7754          NaN    5760.764   \n",
       "695.0           454.46460     28.87629    154.0887          NaN    3230.805   \n",
       "731.0            52.39677     22.74888    174.1827          NaN    1544.654   \n",
       "777.0           228.19800     24.22284    107.4381          NaN    1377.922   \n",
       "\n",
       "        IP-10 (57)  MCP-1 (61)  MCP-3 (62)  M-CSF (63)  MDC (64)  \\\n",
       "Sample                                                             \n",
       "546.0   138249.900    918.2180   25.317570   241.95730  387.6014   \n",
       "577.0   261706.600   1584.6420   22.113930   374.37400  393.0840   \n",
       "695.0     9162.438   1079.1690   26.844700   177.71070  610.5281   \n",
       "731.0    18343.890    338.4619    4.277423   161.56670  416.3359   \n",
       "777.0    13367.520    336.9850   14.818010    64.98027  282.4567   \n",
       "\n",
       "        MIG/CXCL9 (65)  MIP-1a (66)  MIP-1b (67)  PDGF-AA (72)  \\\n",
       "Sample                                                           \n",
       "546.0         2406.433    11.591100     12.64192      3587.185   \n",
       "577.0         4595.521    11.591100     15.41848      3342.615   \n",
       "695.0         2798.264    17.209750     24.40166      3654.242   \n",
       "731.0         2199.346     3.002720     15.66350      1224.850   \n",
       "777.0         1241.533     8.365783     13.61402      1490.806   \n",
       "\n",
       "        PDGF-AB/BB (73)  TGF a (75)  TNF a (76)  TNF b (77)  VEGF-A (78)  \\\n",
       "Sample                                                                     \n",
       "546.0          29637.59    3.071599   119.96540    6.094970    101.14250   \n",
       "577.0          27570.72    4.891874   132.31420    8.533460    275.82750   \n",
       "695.0          24238.19    2.930364    61.25769    8.533460    128.32690   \n",
       "731.0          12043.15    1.490340    64.74691    2.585945     79.23200   \n",
       "777.0          16262.19    1.612257    54.33135    3.153988     20.48664   \n",
       "\n",
       "        IL-22 (55)  GM-CSF (21)  \n",
       "Sample                           \n",
       "546.0          0.0          0.0  \n",
       "577.0          0.0          0.0  \n",
       "695.0          0.0          0.0  \n",
       "731.0          0.0          0.0  \n",
       "777.0          0.0          0.0  "
      ]
     },
     "execution_count": 55,
     "metadata": {},
     "output_type": "execute_result"
    }
   ],
   "source": [
    "df = pd.read_excel(\"~/Downloads/цитокины воспроизводимость хех.xlsx\",index_col = 0)\n",
    "df.head()"
   ]
  },
  {
   "cell_type": "code",
   "execution_count": 57,
   "id": "56b291ea",
   "metadata": {},
   "outputs": [],
   "source": [
    "ind = list(set(df.index).intersection(results.index))"
   ]
  },
  {
   "cell_type": "code",
   "execution_count": 58,
   "id": "b993c669",
   "metadata": {},
   "outputs": [
    {
     "data": {
      "text/plain": [
       "ID\n",
       "865    13.65\n",
       "546    57.35\n",
       "998    57.40\n",
       "910    68.64\n",
       "822    13.60\n",
       "Name: Mean, pg/ml, dtype: float64"
      ]
     },
     "execution_count": 58,
     "metadata": {},
     "output_type": "execute_result"
    }
   ],
   "source": [
    "results.loc[ind,\"Mean, pg/ml\"]"
   ]
  },
  {
   "cell_type": "code",
   "execution_count": 59,
   "id": "2b2fea67",
   "metadata": {},
   "outputs": [
    {
     "data": {
      "text/plain": [
       "Sample\n",
       "865    6.766606\n",
       "546    61.19382\n",
       "998    1194.005\n",
       "910    37.52565\n",
       "822     4.06904\n",
       "Name: IL-6 (36), dtype: object"
      ]
     },
     "execution_count": 59,
     "metadata": {},
     "output_type": "execute_result"
    }
   ],
   "source": [
    "df.loc[ind,\"IL-6 (36)\"]"
   ]
  },
  {
   "cell_type": "code",
   "execution_count": 60,
   "id": "b5c1e0d2",
   "metadata": {},
   "outputs": [
    {
     "data": {
      "text/plain": [
       "ID\n",
       "865     смерть\n",
       "546     смерть\n",
       "998    выписка\n",
       "910     смерть\n",
       "822     смерть\n",
       "Name: Outcome, dtype: object"
      ]
     },
     "execution_count": 60,
     "metadata": {},
     "output_type": "execute_result"
    }
   ],
   "source": [
    "results.loc[ind,\"Outcome\"]"
   ]
  },
  {
   "cell_type": "code",
   "execution_count": 7,
   "id": "9b6f4311",
   "metadata": {},
   "outputs": [
    {
     "data": {
      "text/html": [
       "<div>\n",
       "<style scoped>\n",
       "    .dataframe tbody tr th:only-of-type {\n",
       "        vertical-align: middle;\n",
       "    }\n",
       "\n",
       "    .dataframe tbody tr th {\n",
       "        vertical-align: top;\n",
       "    }\n",
       "\n",
       "    .dataframe thead th {\n",
       "        text-align: right;\n",
       "    }\n",
       "</style>\n",
       "<table border=\"1\" class=\"dataframe\">\n",
       "  <thead>\n",
       "    <tr style=\"text-align: right;\">\n",
       "      <th></th>\n",
       "      <th>Holes</th>\n",
       "      <th>Outcome</th>\n",
       "      <th>Age</th>\n",
       "      <th>Sex</th>\n",
       "      <th>Try_1, pg/ml</th>\n",
       "      <th>Try_2, pg/ml</th>\n",
       "      <th>Mean, pg/ml</th>\n",
       "    </tr>\n",
       "    <tr>\n",
       "      <th>ID</th>\n",
       "      <th></th>\n",
       "      <th></th>\n",
       "      <th></th>\n",
       "      <th></th>\n",
       "      <th></th>\n",
       "      <th></th>\n",
       "      <th></th>\n",
       "    </tr>\n",
       "  </thead>\n",
       "  <tbody>\n",
       "    <tr>\n",
       "      <th>70</th>\n",
       "      <td>H1,B3</td>\n",
       "      <td>смерть</td>\n",
       "      <td>50.0</td>\n",
       "      <td>1.0</td>\n",
       "      <td>51.69</td>\n",
       "      <td>54.35</td>\n",
       "      <td>53.02</td>\n",
       "    </tr>\n",
       "    <tr>\n",
       "      <th>910</th>\n",
       "      <td>A2,B2</td>\n",
       "      <td>смерть</td>\n",
       "      <td>53.0</td>\n",
       "      <td>1.0</td>\n",
       "      <td>94.23</td>\n",
       "      <td>43.04</td>\n",
       "      <td>68.64</td>\n",
       "    </tr>\n",
       "    <tr>\n",
       "      <th>464</th>\n",
       "      <td>C2,D2</td>\n",
       "      <td>смерть</td>\n",
       "      <td>55.0</td>\n",
       "      <td>1.0</td>\n",
       "      <td>39.49</td>\n",
       "      <td>37.82</td>\n",
       "      <td>38.66</td>\n",
       "    </tr>\n",
       "    <tr>\n",
       "      <th>110</th>\n",
       "      <td>E2,F2</td>\n",
       "      <td>смерть</td>\n",
       "      <td>57.0</td>\n",
       "      <td>1.0</td>\n",
       "      <td>17.86</td>\n",
       "      <td>21.03</td>\n",
       "      <td>19.45</td>\n",
       "    </tr>\n",
       "    <tr>\n",
       "      <th>7</th>\n",
       "      <td>G2,H2</td>\n",
       "      <td>смерть</td>\n",
       "      <td>59.0</td>\n",
       "      <td>1.0</td>\n",
       "      <td>30.68</td>\n",
       "      <td>31.13</td>\n",
       "      <td>30.91</td>\n",
       "    </tr>\n",
       "  </tbody>\n",
       "</table>\n",
       "</div>"
      ],
      "text/plain": [
       "     Holes Outcome   Age  Sex  Try_1, pg/ml  Try_2, pg/ml  Mean, pg/ml\n",
       "ID                                                                    \n",
       "70   H1,B3  смерть  50.0  1.0         51.69         54.35        53.02\n",
       "910  A2,B2  смерть  53.0  1.0         94.23         43.04        68.64\n",
       "464  C2,D2  смерть  55.0  1.0         39.49         37.82        38.66\n",
       "110  E2,F2  смерть  57.0  1.0         17.86         21.03        19.45\n",
       "7    G2,H2  смерть  59.0  1.0         30.68         31.13        30.91"
      ]
     },
     "execution_count": 7,
     "metadata": {},
     "output_type": "execute_result"
    }
   ],
   "source": [
    "results.head()"
   ]
  },
  {
   "cell_type": "code",
   "execution_count": 10,
   "id": "f2b5aa93",
   "metadata": {},
   "outputs": [
    {
     "name": "stdout",
     "output_type": "stream",
     "text": [
      "<class 'pandas.core.frame.DataFrame'>\n",
      "Index: 45 entries, 70 to CDPS262\n",
      "Data columns (total 7 columns):\n",
      " #   Column        Non-Null Count  Dtype  \n",
      "---  ------        --------------  -----  \n",
      " 0   Holes         45 non-null     object \n",
      " 1   Outcome       45 non-null     object \n",
      " 2   Age           45 non-null     float64\n",
      " 3   Sex           45 non-null     float64\n",
      " 4   Try_1, pg/ml  45 non-null     float64\n",
      " 5   Try_2, pg/ml  44 non-null     float64\n",
      " 6   Mean, pg/ml   45 non-null     float64\n",
      "dtypes: float64(5), object(2)\n",
      "memory usage: 3.9+ KB\n"
     ]
    }
   ],
   "source": [
    "results.info()"
   ]
  },
  {
   "cell_type": "code",
   "execution_count": 31,
   "id": "6a5e99a8",
   "metadata": {},
   "outputs": [
    {
     "data": {
      "image/png": "[encoded data removed]",
      "text/plain": [
       "<Figure size 720x864 with 1 Axes>"
      ]
     },
     "metadata": {
      "needs_background": "light"
     },
     "output_type": "display_data"
    }
   ],
   "source": [
    "fig,ax = plt.subplots(figsize = (10,12))\n",
    "sns.boxplot(data=results, x=\"Outcome\", y=\"Mean, pg/ml\", boxprops={'alpha': 0.4},ax = ax,showfliers = False)\n",
    "sns.stripplot(data=results, x=\"Outcome\", y=\"Mean, pg/ml\", dodge=True, ax=ax)\n",
    "ax.set_xlabel(\"Исход\")\n",
    "ax.set_ylabel(\"ИЛ-6, пг/мл\")\n",
    "plt.savefig(\"res.png\",dpi = 300)"
   ]
  },
  {
   "cell_type": "code",
   "execution_count": 21,
   "id": "b17fde27",
   "metadata": {},
   "outputs": [
    {
     "data": {
      "text/plain": [
       "Outcome   Sex\n",
       "выписка   2.0    11\n",
       "          1.0     9\n",
       "смерть    1.0     9\n",
       "          2.0     8\n",
       "здоровый  2.0     5\n",
       "          1.0     3\n",
       "dtype: int64"
      ]
     },
     "execution_count": 21,
     "metadata": {},
     "output_type": "execute_result"
    }
   ],
   "source": [
    "results[[\"Outcome\",\"Sex\"]].value_counts()"
   ]
  },
  {
   "cell_type": "code",
   "execution_count": 43,
   "id": "49bbd8c3",
   "metadata": {},
   "outputs": [
    {
     "data": {
      "image/png": "[encoded data removed]",
      "text/plain": [
       "<Figure size 720x864 with 1 Axes>"
      ]
     },
     "metadata": {
      "needs_background": "light"
     },
     "output_type": "display_data"
    }
   ],
   "source": [
    "fig,ax = plt.subplots(figsize = (10,12))\n",
    "sns.boxplot(data=results, x=\"Outcome\", y=\"Age\", boxprops={'alpha': 0.4},ax = ax,showfliers = False)\n",
    "sns.stripplot(data=results, x=\"Outcome\", y=\"Age\", dodge=True, ax=ax)\n",
    "ax.set_xlabel(\"Исход\")\n",
    "ax.set_ylabel(\"Возраст, года\")\n",
    "plt.savefig(\"age.png\",dpi = 300)"
   ]
  },
  {
   "cell_type": "code",
   "execution_count": 8,
   "id": "47106086",
   "metadata": {},
   "outputs": [],
   "source": [
    "r1 = results.copy()"
   ]
  },
  {
   "cell_type": "code",
   "execution_count": 9,
   "id": "051501da",
   "metadata": {},
   "outputs": [],
   "source": [
    "for i in r1.index:\n",
    "    if samples.loc[i,\"Outcome\"] == \"здоровый\":    \n",
    "        r1.loc[i,\"Outcome\"] = samples.loc[i,\"Outcome\"]\n",
    "    else:\n",
    "        r1.loc[i,\"Outcome\"] = \"больной\"\n",
    "    r1.loc[i,\"Age\"] = samples.loc[i,\"Age\"]\n",
    "    r1.loc[i,\"Sex\"] = samples.loc[i,\"Sex\"]"
   ]
  },
  {
   "cell_type": "code",
   "execution_count": 10,
   "id": "2cc993af",
   "metadata": {},
   "outputs": [
    {
     "data": {
      "image/png": "[encoded data removed]",
      "text/plain": [
       "<Figure size 720x864 with 1 Axes>"
      ]
     },
     "metadata": {
      "needs_background": "light"
     },
     "output_type": "display_data"
    }
   ],
   "source": [
    "fig,ax = plt.subplots(figsize = (10,12))\n",
    "sns.boxplot(data=r1, x=\"Outcome\", y=\"Mean, pg/ml\", boxprops={'alpha': 0.4},ax = ax,showfliers = False)\n",
    "sns.stripplot(data=r1, x=\"Outcome\", y=\"Mean, pg/ml\", dodge=True, ax=ax)\n",
    "ax.set_xlabel(\"Исход\")\n",
    "ax.set_ylabel(\"ИЛ-6, пг/мл\")\n",
    "plt.savefig(\"il6_1.png\",dpi = 300)"
   ]
  },
  {
   "cell_type": "code",
   "execution_count": 12,
   "id": "59526367",
   "metadata": {},
   "outputs": [
    {
     "name": "stdout",
     "output_type": "stream",
     "text": [
      "49.93499999999999\n",
      "48.86176470588236\n",
      "10.057500000000001\n",
      "10.057500000000001\n",
      "49.4418918918919\n"
     ]
    }
   ],
   "source": [
    "print(results.loc[(results[\"Outcome\"] == \"выписка\"),\"Mean, pg/ml\"].mean())\n",
    "print(results.loc[(results[\"Outcome\"] == \"смерть\"),\"Mean, pg/ml\"].mean())\n",
    "print(results.loc[(results[\"Outcome\"] == \"здоровый\"),\"Mean, pg/ml\"].mean())\n",
    "print(results.loc[(r1[\"Outcome\"] == \"здоровый\"),\"Mean, pg/ml\"].mean())\n",
    "print(results.loc[(r1[\"Outcome\"] == \"больной\"),\"Mean, pg/ml\"].mean())"
   ]
  },
  {
   "cell_type": "code",
   "execution_count": null,
   "id": "54ed528c",
   "metadata": {},
   "outputs": [],
   "source": []
  }
 ],
 "metadata": {
  "kernelspec": {
   "display_name": "Python 3 (ipykernel)",
   "language": "python",
   "name": "python3"
  },
  "language_info": {
   "codemirror_mode": {
    "name": "ipython",
    "version": 3
   },
   "file_extension": ".py",
   "mimetype": "text/x-python",
   "name": "python",
   "nbconvert_exporter": "python",
   "pygments_lexer": "ipython3",
   "version": "3.9.12"
  },
  "latex_envs": {
   "LaTeX_envs_menu_present": true,
   "autoclose": false,
   "autocomplete": true,
   "bibliofile": "biblio.bib",
   "cite_by": "apalike",
   "current_citInitial": 1,
   "eqLabelWithNumbers": true,
   "eqNumInitial": 1,
   "hotkeys": {
    "equation": "Ctrl-E",
    "itemize": "Ctrl-I"
   },
   "labels_anchors": false,
   "latex_user_defs": false,
   "report_style_numbering": false,
   "user_envs_cfg": false
  },
  "toc": {
   "base_numbering": 1,
   "nav_menu": {},
   "number_sections": true,
   "sideBar": true,
   "skip_h1_title": false,
   "title_cell": "Table of Contents",
   "title_sidebar": "Contents",
   "toc_cell": false,
   "toc_position": {},
   "toc_section_display": true,
   "toc_window_display": false
  },
  "varInspector": {
   "cols": {
    "lenName": 16,
    "lenType": 16,
    "lenVar": 40
   },
   "kernels_config": {
    "python": {
     "delete_cmd_postfix": "",
     "delete_cmd_prefix": "del ",
     "library": "var_list.py",
     "varRefreshCmd": "print(var_dic_list())"
    },
    "r": {
     "delete_cmd_postfix": ") ",
     "delete_cmd_prefix": "rm(",
     "library": "var_list.r",
     "varRefreshCmd": "cat(var_dic_list()) "
    }
   },
   "types_to_exclude": [
    "module",
    "function",
    "builtin_function_or_method",
    "instance",
    "_Feature"
   ],
   "window_display": false
  }
 },
 "nbformat": 4,
 "nbformat_minor": 5
}
