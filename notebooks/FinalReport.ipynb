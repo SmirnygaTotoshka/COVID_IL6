{
 "cells": [
  {
   "cell_type": "markdown",
   "id": "d9f234df",
   "metadata": {
    "tags": []
   },
   "source": [
    "# Сравнение концентраций ИЛ-6 в плазме больных COVID-19 в зависимости от исхода заболевания"
   ]
  },
  {
   "cell_type": "markdown",
   "id": "2e5de69a",
   "metadata": {},
   "source": [
    "<i> А.С. Смирнов<sup>1</sup>, З.Р. Коробова<sup>2</sup></i>"
   ]
  },
  {
   "cell_type": "markdown",
   "id": "4ce0e36d",
   "metadata": {},
   "source": [
    "<sup>1</sup> - Кафедра биоинформатики МБФ РНИМУ им. Н.И. Пирогова\n",
    "\n",
    "<sup>2</sup> - Лаборатория молекулярной иммунологии НИИЭМ им. Пастера"
   ]
  },
  {
   "cell_type": "markdown",
   "id": "680be8a4",
   "metadata": {},
   "source": [
    "Работа выполнена на базе Лаборатория молекулярной иммунологии НИИЭМ им. Пастера в рамках Летней школы \"Наука - врачам будущего\" 4-19 июля 2022 года\n",
    "\n",
    "Научный руководитель - З.Р. Коробова"
   ]
  },
  {
   "cell_type": "markdown",
   "id": "c5ac1b44",
   "metadata": {},
   "source": [
    "Дата составления отчета - 18 сентября 2022 года"
   ]
  },
  {
   "cell_type": "markdown",
   "id": "1baa5ccd",
   "metadata": {},
   "source": [
    "# Введение"
   ]
  },
  {
   "cell_type": "markdown",
   "id": "8e5f6de4",
   "metadata": {
    "citation-manager": {
     "citations": {
      "863c8": [
       {
        "id": "13080035/ZF4M2P6U",
        "source": "zotero"
       }
      ],
      "fseab": [
       {
        "id": "13080035/NRUIAVCN",
        "source": "zotero"
       }
      ],
      "nai2d": [
       {
        "id": "13080035/DV7XQA97",
        "source": "zotero"
       }
      ],
      "nao9i": [
       {
        "id": "13080035/KMLHMQK2",
        "source": "zotero"
       }
      ]
     }
    },
    "tags": []
   },
   "source": [
    "**COVID-19** — опасное инфекционное заболевание, вызываемое вирусом **SARS-CoV-2** из рода *Betacoronavirus*<cite id=\"nai2d\"><a href=\"#zotero%7C13080035%2FDV7XQA97\">(Nitin et al., 2022)</a></cite>. Для этого заболевания характерны тяжелые поражения лёгких вследствие атипичной пневмонии и сравнительно высокая летальность, особенно у лиц старшей возрастной группы (старше 50 лет)<cite id=\"nao9i\"><a href=\"#zotero%7C13080035%2FKMLHMQK2\">(Siordia, 2020)</a></cite>. В качестве основной причины смерти выделяют неадекватный иммунный ответ на возбудителя —  цитокиновый шторм<cite id=\"863c8\"><a href=\"#zotero%7C13080035%2FZF4M2P6U\">(Hu et al., 2021)</a></cite>. Цитокины — это большая группа гликопротеиновых молекул, отвечающая за гуморальную регуляцию жизнедеятельности клеток. С их помощью осуществляется межклеточное и межсистемное взаимодействие. Цитокины делят на две большие группы: провоспалительные и противовоспалительные. В литературе<cite id=\"fseab\"><a href=\"#zotero%7C13080035%2FNRUIAVCN\">(Santa Cruz et al., 2021)</a></cite> существуют данные, что концентрация провоспалительных цитокинов в плазме крови может быть важным прогностическим фактором. Цель нашего исследования: проверить, может ли являться концентрация **интерлейкина-6**, одного из главных провоспалительных цитокинов, в плазме крови прогностическим фактором исхода у больных старшей возрастной группы."
   ]
  },
  {
   "cell_type": "markdown",
   "id": "76050322",
   "metadata": {},
   "source": [
    "**Уровень значимости при проверке гипотез = 0.05**"
   ]
  },
  {
   "cell_type": "markdown",
   "id": "92dfaf99",
   "metadata": {},
   "source": [
    "# Априорные гипотезы"
   ]
  },
  {
   "cell_type": "markdown",
   "id": "6b70ddec",
   "metadata": {},
   "source": [
    "1. Первая\n",
    "    * Н0: Средний уровень IL-6 у **_умерших_** равен таковому у **_выписывшихся_** пациентов\n",
    "    * Н1: Средний уровень IL-6 у **_умерших_** выше таковому у **_выписывшихся_** пациентов\n",
    "    \n",
    "2. Вторая\n",
    "    * Н0: Средний уровень IL-6 у **_выписывшихся_** равен таковому у **_здоровых_**\n",
    "    * Н1: Средний уровень IL-6 у **_выписывшихся_** выше таковому у **_здоровых_**\n",
    "    \n",
    "3. Третья\n",
    "    * Н0: Средний уровень IL-6 у **_больных_** равен таковому у **_здоровых_** пациентов\n",
    "    * Н1: Средний уровень IL-6 у **_больных_** выше таковому у **_здоровых_** пациентов"
   ]
  },
  {
   "cell_type": "markdown",
   "id": "aede283a",
   "metadata": {},
   "source": [
    "# Апостериорные гипотезы"
   ]
  },
  {
   "cell_type": "markdown",
   "id": "df93bd01",
   "metadata": {},
   "source": [
    "1. Результаты, полученные с помощью метода иммуноферментного анализа (набор Вектор Бест, Новосибирск, Россия), сопоставимы с результатами, полученными с помощью метода мультиплесного анализа Luminex Magpix (набор для определения 47 цитокинов и ростовых факторов, Millipore, Burlington, Massachusetts).\n",
    "2. Присутствует корреляция уровня ИЛ-6 с возрастом\n",
    "3. Различия в концентрациях ИЛ-6 в группах, с разной степенью тяжести\n",
    "    * Н0: Средний уровень IL-6 у больных с разной степенью тяжести <b>не отличается</b>\n",
    "    * Н1: Средний уровень IL-6 у больных с разной степенью тяжести <b>отличается</b>"
   ]
  },
  {
   "cell_type": "markdown",
   "id": "2e53500c",
   "metadata": {},
   "source": [
    "# Дизайн эксперимента"
   ]
  },
  {
   "cell_type": "markdown",
   "id": "1a5e689d",
   "metadata": {},
   "source": [
    "## Материалы"
   ]
  },
  {
   "cell_type": "markdown",
   "id": "829f2dde",
   "metadata": {},
   "source": [
    "Образцы крови были получены от пациентов, проходивших лечение в *СЗОНКЦ им. Л.Г. Соколова ФМБА России* на базе инфекционного COVID-специализированного отделения. Всем пациентам впервые был установлен диагноз \"COVID-19\" (U07.1), **подтвержденный c помощью качественного ПЦР**. Сбор периферической крови для образцов осуществлялся в пробирки с ЭДТА **в приёмном покое**. Для отделения плазмы осуществлялось центрифугирование образцов при 350g в течение 10 мин. В дальнейшем образцы плазмы замораживались при температуре -80C.\n",
    "\n",
    "От всех пациентов было получено информированное добровольное согласие, исследование проводилось в соответствии с Хельсинской декларацией; проведение исследования было одобрено этическим комитетом СЗОНКЦ."
   ]
  },
  {
   "cell_type": "markdown",
   "id": "a89ed0d6",
   "metadata": {},
   "source": [
    "## Методы"
   ]
  },
  {
   "cell_type": "markdown",
   "id": "a47be51a",
   "metadata": {},
   "source": [
    "Определение уровня ИЛ-6 проводилось двумя методами:\n",
    "1. Методом ИФА на наборе Интерлейкин-6-ИФА-БЕСТ (Вектор Бест, Новосибирск, Россия) в соответствии с инструкцией производителя. Для регистрации результатов был использован ИФА анализатор Multiskan FC (Thermo Scientific, MA, USA).\n",
    "2. Методом мультиплексного анализа по технологии xMAP (Luminex, Austin, Texas), для определения цитокинов использовался набор для определения 47 цитокинов и ростовых факторов (Millipore, Burlington, Massachusetts).\n",
    "\n",
    "\n",
    "Cтатистическая обработка данных была выполнена с помощью языка программирования Python."
   ]
  },
  {
   "cell_type": "markdown",
   "id": "16d2a89f",
   "metadata": {},
   "source": [
    "Версия Python"
   ]
  },
  {
   "cell_type": "code",
   "execution_count": 2,
   "id": "b9fad4dd",
   "metadata": {},
   "outputs": [
    {
     "name": "stdout",
     "output_type": "stream",
     "text": [
      "3.8.10 (default, Jun 22 2022, 20:18:18) \n",
      "[GCC 9.4.0]\n"
     ]
    }
   ],
   "source": [
    "import sys\n",
    "print(sys.version)"
   ]
  },
  {
   "cell_type": "markdown",
   "id": "b39ba956",
   "metadata": {},
   "source": [
    "Версии используемых библиотек"
   ]
  },
  {
   "cell_type": "code",
   "execution_count": 10,
   "id": "35301f7f",
   "metadata": {},
   "outputs": [
    {
     "name": "stdout",
     "output_type": "stream",
     "text": [
      "pandas = 1.3.4\n",
      "seaborn = 0.11.2\n",
      "matplotlib = 3.5.1\n",
      "scipy = 1.7.3\n",
      "statsmodels = 0.13.2\n"
     ]
    }
   ],
   "source": [
    "import pandas as pd\n",
    "import datetime\n",
    "import seaborn as sns\n",
    "import matplotlib\n",
    "import matplotlib.pyplot as plt\n",
    "import scipy as sp\n",
    "import statsmodels.api as sm\n",
    "\n",
    "print(\"pandas = \" + pd.__version__)\n",
    "print(\"seaborn = \" + sns.__version__)\n",
    "print(\"matplotlib = \" + matplotlib.__version__)\n",
    "print(\"scipy = \" + sp.__version__)\n",
    "print(\"statsmodels = \" + sm.__version__)"
   ]
  },
  {
   "cell_type": "markdown",
   "id": "8ae0920c",
   "metadata": {},
   "source": [
    "## Критерии включения"
   ]
  },
  {
   "cell_type": "markdown",
   "id": "6e4d8bc9",
   "metadata": {},
   "source": [
    "1. Возраст пациента от 50 до 70 лет включительно\n",
    "2. Госпитализация на 5-10 сутки заболевания"
   ]
  },
  {
   "cell_type": "markdown",
   "id": "3f2b8885",
   "metadata": {},
   "source": [
    "## Критерии исключения"
   ]
  },
  {
   "cell_type": "markdown",
   "id": "e345a5e4",
   "metadata": {},
   "source": [
    "1. Наличие перенесенного COVID-19 или соответствующей вакцинации в анамнезе\n",
    "2. Выявленный геновариант “Омикрон”\n",
    "3. Наличие иммуннокомпрометирующих состояний: беременность, онкологические заболевания, хронические заболевания в стадии обострения, аутоиммунные и аутовоспалительные заболевания, гепатиты В, С, ВИЧ-инфекция\n"
   ]
  },
  {
   "cell_type": "markdown",
   "id": "ee5c5940",
   "metadata": {},
   "source": [
    "## Отбор пациентов"
   ]
  },
  {
   "cell_type": "code",
   "execution_count": 11,
   "id": "c423286c",
   "metadata": {},
   "outputs": [],
   "source": [
    "pd.set_option('display.max_columns', 500)"
   ]
  },
  {
   "cell_type": "code",
   "execution_count": 20,
   "id": "7c7ae831",
   "metadata": {},
   "outputs": [
    {
     "name": "stdout",
     "output_type": "stream",
     "text": [
      "(1741, 24)\n"
     ]
    },
    {
     "data": {
      "text/html": [
       "<div>\n",
       "<style scoped>\n",
       "    .dataframe tbody tr th:only-of-type {\n",
       "        vertical-align: middle;\n",
       "    }\n",
       "\n",
       "    .dataframe tbody tr th {\n",
       "        vertical-align: top;\n",
       "    }\n",
       "\n",
       "    .dataframe thead th {\n",
       "        text-align: right;\n",
       "    }\n",
       "</style>\n",
       "<table border=\"1\" class=\"dataframe\">\n",
       "  <thead>\n",
       "    <tr style=\"text-align: right;\">\n",
       "      <th></th>\n",
       "      <th>ID</th>\n",
       "      <th>Manifistation_Date</th>\n",
       "      <th>Hospitalization_Date</th>\n",
       "      <th>Disease_Day</th>\n",
       "      <th>Outcome</th>\n",
       "      <th>Age</th>\n",
       "      <th>Sex</th>\n",
       "      <th>Full_Vaccination</th>\n",
       "      <th>Second_Component_Date</th>\n",
       "      <th>Vaccine_Code</th>\n",
       "      <th>Days_Beetween_Vaccination_Disease</th>\n",
       "      <th>CT</th>\n",
       "      <th>Saturation</th>\n",
       "      <th>Lung_Damage</th>\n",
       "      <th>Saturation_at_discharge</th>\n",
       "      <th>Heaviness</th>\n",
       "      <th>Etiotropy</th>\n",
       "      <th>Steroids</th>\n",
       "      <th>Target_therapy</th>\n",
       "      <th>Anticoagulants</th>\n",
       "      <th>Non_steroid_antiinfflam</th>\n",
       "      <th>Comments</th>\n",
       "      <th>Omicron</th>\n",
       "      <th>Comments2</th>\n",
       "    </tr>\n",
       "  </thead>\n",
       "  <tbody>\n",
       "    <tr>\n",
       "      <th>0</th>\n",
       "      <td>С-1</td>\n",
       "      <td>2021-06-12 00:00:00</td>\n",
       "      <td>2021-06-15</td>\n",
       "      <td>3.0</td>\n",
       "      <td>выписана</td>\n",
       "      <td>60.0</td>\n",
       "      <td>2.0</td>\n",
       "      <td>0.0</td>\n",
       "      <td>NaN</td>\n",
       "      <td>NaN</td>\n",
       "      <td>NaN</td>\n",
       "      <td>1</td>\n",
       "      <td>95</td>\n",
       "      <td>2.0</td>\n",
       "      <td>97</td>\n",
       "      <td>1.0</td>\n",
       "      <td>0</td>\n",
       "      <td>1</td>\n",
       "      <td>1</td>\n",
       "      <td>1</td>\n",
       "      <td>1</td>\n",
       "      <td>NaN</td>\n",
       "      <td>NaN</td>\n",
       "      <td>NaN</td>\n",
       "    </tr>\n",
       "    <tr>\n",
       "      <th>1</th>\n",
       "      <td>С-2</td>\n",
       "      <td>2021-06-06 00:00:00</td>\n",
       "      <td>2021-06-15</td>\n",
       "      <td>9.0</td>\n",
       "      <td>выписана</td>\n",
       "      <td>24.0</td>\n",
       "      <td>2.0</td>\n",
       "      <td>0.0</td>\n",
       "      <td>NaN</td>\n",
       "      <td>NaN</td>\n",
       "      <td>NaN</td>\n",
       "      <td>2</td>\n",
       "      <td>92</td>\n",
       "      <td>1.0</td>\n",
       "      <td>96</td>\n",
       "      <td>1.0</td>\n",
       "      <td>1</td>\n",
       "      <td>1</td>\n",
       "      <td>1</td>\n",
       "      <td>1</td>\n",
       "      <td>1</td>\n",
       "      <td>NaN</td>\n",
       "      <td>NaN</td>\n",
       "      <td>NaN</td>\n",
       "    </tr>\n",
       "    <tr>\n",
       "      <th>2</th>\n",
       "      <td>С-3</td>\n",
       "      <td>2021-06-11 00:00:00</td>\n",
       "      <td>2021-06-15</td>\n",
       "      <td>4.0</td>\n",
       "      <td>выписана</td>\n",
       "      <td>75.0</td>\n",
       "      <td>2.0</td>\n",
       "      <td>1.0</td>\n",
       "      <td>2021-03-14 00:00:00</td>\n",
       "      <td>1</td>\n",
       "      <td>NaN</td>\n",
       "      <td>0.12</td>\n",
       "      <td>0.96</td>\n",
       "      <td>0.0</td>\n",
       "      <td>0.96</td>\n",
       "      <td>1.0</td>\n",
       "      <td>NaN</td>\n",
       "      <td>1</td>\n",
       "      <td>0</td>\n",
       "      <td>1</td>\n",
       "      <td>NaN</td>\n",
       "      <td>NaN</td>\n",
       "      <td>NaN</td>\n",
       "      <td>NaN</td>\n",
       "    </tr>\n",
       "    <tr>\n",
       "      <th>3</th>\n",
       "      <td>С-4</td>\n",
       "      <td>2021-06-08 00:00:00</td>\n",
       "      <td>2021-06-15</td>\n",
       "      <td>7.0</td>\n",
       "      <td>выписана</td>\n",
       "      <td>64.0</td>\n",
       "      <td>2.0</td>\n",
       "      <td>0.0</td>\n",
       "      <td>2021-05-27 00:00:00</td>\n",
       "      <td>1 однокр</td>\n",
       "      <td>NaN</td>\n",
       "      <td>КТ2 от 14.06, 24.06-40%, 05.07-40%</td>\n",
       "      <td>91</td>\n",
       "      <td>NaN</td>\n",
       "      <td>94</td>\n",
       "      <td>1.0</td>\n",
       "      <td>NaN</td>\n",
       "      <td>1</td>\n",
       "      <td>1</td>\n",
       "      <td>1</td>\n",
       "      <td>NaN</td>\n",
       "      <td>NaN</td>\n",
       "      <td>NaN</td>\n",
       "      <td>NaN</td>\n",
       "    </tr>\n",
       "    <tr>\n",
       "      <th>4</th>\n",
       "      <td>С-5</td>\n",
       "      <td>2021-06-04 00:00:00</td>\n",
       "      <td>2021-06-15</td>\n",
       "      <td>11.0</td>\n",
       "      <td>выписан</td>\n",
       "      <td>29.0</td>\n",
       "      <td>1.0</td>\n",
       "      <td>0.0</td>\n",
       "      <td>NaN</td>\n",
       "      <td>NaN</td>\n",
       "      <td>NaN</td>\n",
       "      <td>3</td>\n",
       "      <td>92</td>\n",
       "      <td>2.0</td>\n",
       "      <td>96</td>\n",
       "      <td>1.0</td>\n",
       "      <td>1</td>\n",
       "      <td>1</td>\n",
       "      <td>0</td>\n",
       "      <td>1</td>\n",
       "      <td>1</td>\n",
       "      <td>NaN</td>\n",
       "      <td>NaN</td>\n",
       "      <td>NaN</td>\n",
       "    </tr>\n",
       "  </tbody>\n",
       "</table>\n",
       "</div>"
      ],
      "text/plain": [
       "    ID   Manifistation_Date Hospitalization_Date  Disease_Day   Outcome   Age  \\\n",
       "0  С-1  2021-06-12 00:00:00           2021-06-15          3.0  выписана  60.0   \n",
       "1  С-2  2021-06-06 00:00:00           2021-06-15          9.0  выписана  24.0   \n",
       "2  С-3  2021-06-11 00:00:00           2021-06-15          4.0  выписана  75.0   \n",
       "3  С-4  2021-06-08 00:00:00           2021-06-15          7.0  выписана  64.0   \n",
       "4  С-5  2021-06-04 00:00:00           2021-06-15         11.0   выписан  29.0   \n",
       "\n",
       "   Sex  Full_Vaccination Second_Component_Date Vaccine_Code  \\\n",
       "0  2.0               0.0                   NaN          NaN   \n",
       "1  2.0               0.0                   NaN          NaN   \n",
       "2  2.0               1.0   2021-03-14 00:00:00            1   \n",
       "3  2.0               0.0   2021-05-27 00:00:00     1 однокр   \n",
       "4  1.0               0.0                   NaN          NaN   \n",
       "\n",
       "   Days_Beetween_Vaccination_Disease                                  CT  \\\n",
       "0                                NaN                                   1   \n",
       "1                                NaN                                   2   \n",
       "2                                NaN                                0.12   \n",
       "3                                NaN  КТ2 от 14.06, 24.06-40%, 05.07-40%   \n",
       "4                                NaN                                   3   \n",
       "\n",
       "  Saturation  Lung_Damage Saturation_at_discharge  Heaviness Etiotropy  \\\n",
       "0         95          2.0                      97        1.0         0   \n",
       "1         92          1.0                      96        1.0         1   \n",
       "2       0.96          0.0                    0.96        1.0       NaN   \n",
       "3         91          NaN                      94        1.0       NaN   \n",
       "4         92          2.0                      96        1.0         1   \n",
       "\n",
       "  Steroids Target_therapy Anticoagulants Non_steroid_antiinfflam Comments  \\\n",
       "0        1              1              1                       1      NaN   \n",
       "1        1              1              1                       1      NaN   \n",
       "2        1              0              1                     NaN      NaN   \n",
       "3        1              1              1                     NaN      NaN   \n",
       "4        1              0              1                       1      NaN   \n",
       "\n",
       "   Omicron Comments2  \n",
       "0      NaN       NaN  \n",
       "1      NaN       NaN  \n",
       "2      NaN       NaN  \n",
       "3      NaN       NaN  \n",
       "4      NaN       NaN  "
      ]
     },
     "execution_count": 20,
     "metadata": {},
     "output_type": "execute_result"
    }
   ],
   "source": [
    "data = pd.read_excel(\"~/Documents/Piter/Immunology/tables/raw_Patients_data.xlsx\")\n",
    "print(data.shape)\n",
    "data.head()"
   ]
  },
  {
   "cell_type": "markdown",
   "id": "7b865b31",
   "metadata": {},
   "source": [
    "### Проверка дат"
   ]
  },
  {
   "cell_type": "code",
   "execution_count": 21,
   "id": "e30bc97c",
   "metadata": {},
   "outputs": [
    {
     "data": {
      "text/plain": [
       "(1684, 24)"
      ]
     },
     "execution_count": 21,
     "metadata": {},
     "output_type": "execute_result"
    }
   ],
   "source": [
    "for i in data.index:\n",
    "    if not (isinstance(data.loc[i, \"Manifistation_Date\"],datetime.date) and isinstance(data.loc[i, \"Hospitalization_Date\"],datetime.date)):\n",
    "        data.drop(index = i, inplace = True)\n",
    "data.shape"
   ]
  },
  {
   "cell_type": "code",
   "execution_count": 22,
   "id": "e397e2bc",
   "metadata": {},
   "outputs": [
    {
     "data": {
      "text/plain": [
       "(1664, 24)"
      ]
     },
     "execution_count": 22,
     "metadata": {},
     "output_type": "execute_result"
    }
   ],
   "source": [
    "data = data[data[\"Manifistation_Date\"] < data[\"Hospitalization_Date\"]]\n",
    "data.shape"
   ]
  },
  {
   "cell_type": "markdown",
   "id": "3909e08b",
   "metadata": {},
   "source": [
    "### Проверка по критериям включения"
   ]
  },
  {
   "cell_type": "code",
   "execution_count": 23,
   "id": "3559f133",
   "metadata": {},
   "outputs": [
    {
     "data": {
      "text/plain": [
       "(901, 24)"
      ]
     },
     "execution_count": 23,
     "metadata": {},
     "output_type": "execute_result"
    }
   ],
   "source": [
    "data = data[(data[\"Disease_Day\"] >= 5) & (data[\"Disease_Day\"] <= 10)]\n",
    "data.shape"
   ]
  },
  {
   "cell_type": "markdown",
   "id": "8b891838",
   "metadata": {},
   "source": [
    "<b>Примечание: изначально планировалось брать пациентов с 40 лет, но не набралось достаточное количество образцов с достаточным количеством плазмы. Поэтому отбор образцов ниже проводился с 40 лет, но потом вручную были исключены пациенты моложе 50 лет</b>"
   ]
  },
  {
   "cell_type": "code",
   "execution_count": 25,
   "id": "1865bb9d",
   "metadata": {},
   "outputs": [
    {
     "data": {
      "text/plain": [
       "(580, 24)"
      ]
     },
     "execution_count": 25,
     "metadata": {},
     "output_type": "execute_result"
    }
   ],
   "source": [
    "# сначала планировалась брать пациентов с 40 лет, но не нашлось достаточное количество образцов\n",
    "data = data[(data[\"Age\"] >= 40) & (data[\"Age\"] <= 70)]\n",
    "data.shape"
   ]
  },
  {
   "cell_type": "markdown",
   "id": "361181ac",
   "metadata": {},
   "source": [
    "### Проверка по критериям исключения"
   ]
  },
  {
   "cell_type": "code",
   "execution_count": 26,
   "id": "9f59f623",
   "metadata": {},
   "outputs": [
    {
     "data": {
      "text/plain": [
       "(412, 24)"
      ]
     },
     "execution_count": 26,
     "metadata": {},
     "output_type": "execute_result"
    }
   ],
   "source": [
    "data = data[(data[\"Full_Vaccination\"] == 0) & (data[\"Second_Component_Date\"].isna()) & (data[\"Vaccine_Code\"].isna()) & (data[\"Days_Beetween_Vaccination_Disease\"].isna())]\n",
    "data.shape"
   ]
  },
  {
   "cell_type": "code",
   "execution_count": 27,
   "id": "7b3ccadd",
   "metadata": {},
   "outputs": [
    {
     "data": {
      "text/plain": [
       "(412, 24)"
      ]
     },
     "execution_count": 27,
     "metadata": {},
     "output_type": "execute_result"
    }
   ],
   "source": [
    "data = data[(data[\"Omicron\"] == 0) | (data[\"Omicron\"].isna())]\n",
    "data.shape"
   ]
  },
  {
   "cell_type": "markdown",
   "id": "85cb8945",
   "metadata": {},
   "source": [
    "### Факторизация исходов"
   ]
  },
  {
   "cell_type": "code",
   "execution_count": 29,
   "id": "73227cf1",
   "metadata": {},
   "outputs": [
    {
     "data": {
      "text/plain": [
       "выписана                   201\n",
       "выписан                    182\n",
       "амбул                        4\n",
       "умер                         1\n",
       "умерла 17.10                 1\n",
       "умерла 01.01                 1\n",
       "умерла 12.12                 1\n",
       "умерла 17.11                 1\n",
       "переведена на реабил         1\n",
       "умер 08.10.2021              1\n",
       "умер 07.10.2021              1\n",
       "умерла 06.10                 1\n",
       "переведена реаб.25.10        1\n",
       "умерла 16.09                 1\n",
       "переведен на реаб.15.10      1\n",
       "умер 14.08.2021              1\n",
       "умерла 25.08                 1\n",
       "умерла 08.09                 1\n",
       "умер 20.07.2021              1\n",
       "умерла 17.08                 1\n",
       "умер 21.07.2021              1\n",
       "умерла 06.08                 1\n",
       "умерла 31.08                 1\n",
       "умер 17.07.2021              1\n",
       "умер 13.06.2021              1\n",
       "умер 16.07.2021              1\n",
       "умер 13.07.2021              1\n",
       "умер 07.02                   1\n",
       "Name: Outcome, dtype: int64"
      ]
     },
     "execution_count": 29,
     "metadata": {},
     "output_type": "execute_result"
    }
   ],
   "source": [
    "data[\"Outcome\"].value_counts()"
   ]
  },
  {
   "cell_type": "code",
   "execution_count": 30,
   "id": "55d0d1c6",
   "metadata": {},
   "outputs": [],
   "source": [
    "data.loc[data['Outcome'].str.contains(\"выписан\"),\"Outcome\"] = \"выписка\"\n",
    "data.loc[data['Outcome'].str.contains(\"амбул\"),\"Outcome\"] = \"амбулаторно\"\n",
    "data.loc[data['Outcome'].str.contains(\"умер\"),\"Outcome\"] = \"смерть\"\n",
    "data.loc[data['Outcome'].str.contains(\"реаб\"),\"Outcome\"] = \"реабилитация\""
   ]
  },
  {
   "cell_type": "code",
   "execution_count": 31,
   "id": "5c3ecc4c",
   "metadata": {},
   "outputs": [
    {
     "data": {
      "text/plain": [
       "выписка         383\n",
       "смерть           22\n",
       "амбулаторно       4\n",
       "реабилитация      3\n",
       "Name: Outcome, dtype: int64"
      ]
     },
     "execution_count": 31,
     "metadata": {},
     "output_type": "execute_result"
    }
   ],
   "source": [
    "data[\"Outcome\"].value_counts()"
   ]
  },
  {
   "cell_type": "markdown",
   "id": "db02dffb",
   "metadata": {},
   "source": [
    "### Формирование групп"
   ]
  },
  {
   "cell_type": "markdown",
   "id": "a50f8e90",
   "metadata": {},
   "source": [
    "Необходимо, чтобы распределения возраста и пола в группах примерно совпадали по форм. Группа пациентов с благоприятным исходом несколько превосходила группу с неблагоприятным исходом по количество образцов."
   ]
  },
  {
   "cell_type": "code",
   "execution_count": 33,
   "id": "4aa6c5a4",
   "metadata": {},
   "outputs": [
    {
     "data": {
      "text/plain": [
       "<AxesSubplot:xlabel='Age', ylabel='Count'>"
      ]
     },
     "execution_count": 33,
     "metadata": {},
     "output_type": "execute_result"
    },
    {
     "data": {
      "image/png": "[encoded data removed]",
      "text/plain": [
       "<Figure size 432x288 with 1 Axes>"
      ]
     },
     "metadata": {
      "needs_background": "light"
     },
     "output_type": "display_data"
    }
   ],
   "source": [
    "sns.histplot(data.loc[data[\"Outcome\"] == \"смерть\",\"Age\"],binwidth = 5)"
   ]
  },
  {
   "cell_type": "code",
   "execution_count": 34,
   "id": "8d654e45",
   "metadata": {},
   "outputs": [
    {
     "data": {
      "text/plain": [
       "42.0    1\n",
       "50.0    1\n",
       "53.0    1\n",
       "55.0    1\n",
       "57.0    2\n",
       "59.0    3\n",
       "60.0    1\n",
       "61.0    1\n",
       "62.0    1\n",
       "65.0    3\n",
       "66.0    1\n",
       "68.0    3\n",
       "69.0    2\n",
       "70.0    1\n",
       "Name: Age, dtype: int64"
      ]
     },
     "execution_count": 34,
     "metadata": {},
     "output_type": "execute_result"
    }
   ],
   "source": [
    "data.loc[data[\"Outcome\"] == \"смерть\",\"Age\"].value_counts().sort_index()"
   ]
  },
  {
   "cell_type": "code",
   "execution_count": 35,
   "id": "b692a6dd",
   "metadata": {},
   "outputs": [
    {
     "data": {
      "text/plain": [
       "40.0    13\n",
       "41.0    10\n",
       "42.0     3\n",
       "43.0    13\n",
       "44.0    13\n",
       "45.0    10\n",
       "46.0    12\n",
       "47.0    14\n",
       "48.0     5\n",
       "49.0    11\n",
       "50.0     8\n",
       "51.0    14\n",
       "52.0     8\n",
       "53.0    10\n",
       "54.0    12\n",
       "55.0    10\n",
       "56.0    10\n",
       "57.0    17\n",
       "58.0    13\n",
       "59.0    12\n",
       "60.0    18\n",
       "61.0    16\n",
       "62.0    22\n",
       "63.0    22\n",
       "64.0    15\n",
       "65.0    14\n",
       "66.0    14\n",
       "67.0    11\n",
       "68.0    16\n",
       "69.0    10\n",
       "70.0    10\n",
       "Name: Age, dtype: int64"
      ]
     },
     "execution_count": 35,
     "metadata": {},
     "output_type": "execute_result"
    }
   ],
   "source": [
    "favorable = data[(data[\"Outcome\"] == \"выписка\") | (data[\"Outcome\"] == \"реабилитация\")]\n",
    "favorable[\"Age\"].value_counts().sort_index()"
   ]
  },
  {
   "cell_type": "code",
   "execution_count": 36,
   "id": "f49fa1b1",
   "metadata": {},
   "outputs": [],
   "source": [
    "# необходимо было отобрать в 3 раза больше образцов, чем нужно, так как не было известно, \n",
    "# какие образцы есть в достаточном количестве\n",
    "k = 3 "
   ]
  },
  {
   "cell_type": "code",
   "execution_count": 37,
   "id": "3b274c94",
   "metadata": {},
   "outputs": [],
   "source": [
    "# Случайный выбор образцов из возрастных групп\n",
    "age40_45 = favorable[(favorable[\"Age\"] > 40) & (favorable[\"Age\"] <= 45)].sample(n = 1 * k,random_state = 555)\n",
    "age45_50 = favorable[(favorable[\"Age\"] > 45) & (favorable[\"Age\"] <= 50)].sample(n = 1 * k,random_state = 555)\n",
    "age50_55 = favorable[(favorable[\"Age\"] > 50) & (favorable[\"Age\"] <= 55)].sample(n = 2 * k,random_state = 555)\n",
    "age55_60 = favorable[(favorable[\"Age\"] > 55) & (favorable[\"Age\"] <= 60)].sample(n = 6 * k,random_state = 555)\n",
    "age60_65 = favorable[(favorable[\"Age\"] > 60) & (favorable[\"Age\"] <= 65)].sample(n = 5 * k,random_state = 555)\n",
    "age65_70 = favorable[(favorable[\"Age\"] > 65) & (favorable[\"Age\"] <= 70)].sample(n = 7 * k,random_state = 555)"
   ]
  },
  {
   "cell_type": "code",
   "execution_count": 38,
   "id": "61761fb0",
   "metadata": {},
   "outputs": [
    {
     "data": {
      "text/plain": [
       "41.0    1\n",
       "44.0    1\n",
       "45.0    1\n",
       "47.0    1\n",
       "49.0    2\n",
       "51.0    1\n",
       "52.0    1\n",
       "53.0    1\n",
       "54.0    1\n",
       "55.0    2\n",
       "56.0    3\n",
       "57.0    4\n",
       "58.0    3\n",
       "59.0    4\n",
       "60.0    4\n",
       "61.0    1\n",
       "62.0    6\n",
       "63.0    5\n",
       "64.0    2\n",
       "65.0    1\n",
       "66.0    4\n",
       "67.0    3\n",
       "68.0    5\n",
       "69.0    3\n",
       "70.0    6\n",
       "Name: Age, dtype: int64"
      ]
     },
     "execution_count": 38,
     "metadata": {},
     "output_type": "execute_result"
    }
   ],
   "source": [
    "sample_favor = pd.concat([age40_45,age45_50,age50_55,age55_60,age60_65,age65_70],axis = 0)\n",
    "sample_favor[\"Age\"].value_counts().sort_index()"
   ]
  },
  {
   "cell_type": "markdown",
   "id": "6e52ef7e",
   "metadata": {},
   "source": [
    "Распределение по возрасту в выборке совпало по форме с исходной генеральной совокупностью."
   ]
  },
  {
   "cell_type": "code",
   "execution_count": 39,
   "id": "e52f5b33",
   "metadata": {},
   "outputs": [
    {
     "data": {
      "text/plain": [
       "<AxesSubplot:xlabel='Age', ylabel='Count'>"
      ]
     },
     "execution_count": 39,
     "metadata": {},
     "output_type": "execute_result"
    },
    {
     "data": {
      "image/png": "[encoded data removed]",
      "text/plain": [
       "<Figure size 432x288 with 1 Axes>"
      ]
     },
     "metadata": {
      "needs_background": "light"
     },
     "output_type": "display_data"
    }
   ],
   "source": [
    "sns.histplot(data.loc[data[\"Outcome\"] == \"смерть\",\"Age\"], binwidth = 5)\n",
    "sns.histplot(sample_favor[\"Age\"],binwidth = 5,color = \"red\",alpha = 0.3)"
   ]
  },
  {
   "cell_type": "code",
   "execution_count": 41,
   "id": "ed3e0426",
   "metadata": {},
   "outputs": [
    {
     "name": "stdout",
     "output_type": "stream",
     "text": [
      "Количество образцов = 66\n"
     ]
    }
   ],
   "source": [
    "print(\"Количество образцов = \" + str(len(sample_favor.index)))"
   ]
  },
  {
   "cell_type": "markdown",
   "id": "25f5ea1d",
   "metadata": {},
   "source": [
    "К сожалению, распределение по полу не удалось сделать равномерным, но мы постарались минимизировать различия."
   ]
  },
  {
   "cell_type": "code",
   "execution_count": 42,
   "id": "3b3f9b97",
   "metadata": {},
   "outputs": [
    {
     "data": {
      "text/plain": [
       "2.0    39\n",
       "1.0    27\n",
       "Name: Sex, dtype: int64"
      ]
     },
     "execution_count": 42,
     "metadata": {},
     "output_type": "execute_result"
    }
   ],
   "source": [
    "sample_favor[\"Sex\"].value_counts()"
   ]
  },
  {
   "cell_type": "markdown",
   "id": "db556c8c",
   "metadata": {},
   "source": [
    "### Сохраняем списки"
   ]
  },
  {
   "cell_type": "code",
   "execution_count": null,
   "id": "b3eae5ad",
   "metadata": {},
   "outputs": [],
   "source": [
    "final = pd.concat([data[data[\"Outcome\"] == \"смерть\"],sample_favor])\n",
    "final = final[[\"ID\",\"Outcome\",\"Age\", \"Sex\"]].sort_values(by = [\"Outcome\",\"Age\",\"Sex\"])\n",
    "final.head()"
   ]
  },
  {
   "cell_type": "code",
   "execution_count": null,
   "id": "13dd4f45",
   "metadata": {},
   "outputs": [],
   "source": [
    "final[(final[\"Sex\"] == 1) & (final[\"Outcome\"] == \"выписка\")].sort_values(by = \"Age\").to_excel(\"~/Documents/Piter/Immunology/surv_men.xlsx\",index = False)"
   ]
  },
  {
   "cell_type": "code",
   "execution_count": null,
   "id": "ff2ab3b5",
   "metadata": {},
   "outputs": [],
   "source": [
    "final[(final[\"Sex\"] == 2) & (final[\"Outcome\"] == \"выписка\")].sort_values(by = \"Age\").to_excel(\"~/Documents/Piter/Immunology/surv_women.xlsx\",index = False)"
   ]
  },
  {
   "cell_type": "code",
   "execution_count": null,
   "id": "a883aed1",
   "metadata": {},
   "outputs": [],
   "source": [
    "final[(final[\"Sex\"] == 1) & (final[\"Outcome\"] == \"смерть\")].sort_values(by = \"Age\").to_excel(\"~/Documents/Piter/Immunology/dead_men.xlsx\",index = False)"
   ]
  },
  {
   "cell_type": "code",
   "execution_count": null,
   "id": "c8670ecf",
   "metadata": {},
   "outputs": [],
   "source": [
    "final[(final[\"Sex\"] == 2) & (final[\"Outcome\"] == \"смерть\")].sort_values(by = \"Age\").to_excel(\"~/Documents/Piter/Immunology/dead_women.xlsx\",index = False)"
   ]
  },
  {
   "cell_type": "markdown",
   "id": "dfc52f2f",
   "metadata": {},
   "source": [
    "Также вручную были отобраны образцы 8 здоровых людей так, чтобы распределение по полу и возрасту соответствовали опытным группам. "
   ]
  },
  {
   "cell_type": "markdown",
   "id": "98d0a65c",
   "metadata": {},
   "source": [
    "# Эксперимент"
   ]
  },
  {
   "cell_type": "markdown",
   "id": "6c5caacf",
   "metadata": {},
   "source": [
    "## Поиск образцов"
   ]
  },
  {
   "cell_type": "code",
   "execution_count": 47,
   "id": "d6c0b062",
   "metadata": {
    "scrolled": true
   },
   "outputs": [
    {
     "data": {
      "text/html": [
       "<div>\n",
       "<style scoped>\n",
       "    .dataframe tbody tr th:only-of-type {\n",
       "        vertical-align: middle;\n",
       "    }\n",
       "\n",
       "    .dataframe tbody tr th {\n",
       "        vertical-align: top;\n",
       "    }\n",
       "\n",
       "    .dataframe thead tr th {\n",
       "        text-align: left;\n",
       "    }\n",
       "</style>\n",
       "<table border=\"1\" class=\"dataframe\">\n",
       "  <thead>\n",
       "    <tr>\n",
       "      <th></th>\n",
       "      <th colspan=\"5\" halign=\"left\">Мужчины</th>\n",
       "      <th colspan=\"5\" halign=\"left\">Женщины</th>\n",
       "      <th colspan=\"5\" halign=\"left\">Мужчины</th>\n",
       "      <th colspan=\"4\" halign=\"left\">Женщины</th>\n",
       "    </tr>\n",
       "    <tr>\n",
       "      <th></th>\n",
       "      <th>ID</th>\n",
       "      <th>Outcome</th>\n",
       "      <th>Age</th>\n",
       "      <th>Exist</th>\n",
       "      <th>Exist.1</th>\n",
       "      <th>ID</th>\n",
       "      <th>Outcome</th>\n",
       "      <th>Age</th>\n",
       "      <th>Exist</th>\n",
       "      <th>Exist.1</th>\n",
       "      <th>ID.1</th>\n",
       "      <th>Outcome.1</th>\n",
       "      <th>Age.1</th>\n",
       "      <th>Exist.2</th>\n",
       "      <th>Exist.3</th>\n",
       "      <th>ID.1</th>\n",
       "      <th>Outcome.1</th>\n",
       "      <th>Age.1</th>\n",
       "      <th>Exist.2</th>\n",
       "    </tr>\n",
       "  </thead>\n",
       "  <tbody>\n",
       "    <tr>\n",
       "      <th>0</th>\n",
       "      <td>С-311</td>\n",
       "      <td>выписка</td>\n",
       "      <td>41.0</td>\n",
       "      <td>0.0</td>\n",
       "      <td>NaN</td>\n",
       "      <td>С-405</td>\n",
       "      <td>выписка</td>\n",
       "      <td>45.0</td>\n",
       "      <td>False</td>\n",
       "      <td>NaN</td>\n",
       "      <td>C-144</td>\n",
       "      <td>смерть</td>\n",
       "      <td>42.0</td>\n",
       "      <td>0.0</td>\n",
       "      <td>NaN</td>\n",
       "      <td>С-1331</td>\n",
       "      <td>смерть</td>\n",
       "      <td>57.0</td>\n",
       "      <td>0.0</td>\n",
       "    </tr>\n",
       "    <tr>\n",
       "      <th>1</th>\n",
       "      <td>C-244</td>\n",
       "      <td>выписка</td>\n",
       "      <td>44.0</td>\n",
       "      <td>0.0</td>\n",
       "      <td>NaN</td>\n",
       "      <td>C-1094</td>\n",
       "      <td>выписка</td>\n",
       "      <td>52.0</td>\n",
       "      <td>True</td>\n",
       "      <td>NaN</td>\n",
       "      <td>С-70</td>\n",
       "      <td>смерть</td>\n",
       "      <td>50.0</td>\n",
       "      <td>1.0</td>\n",
       "      <td>NaN</td>\n",
       "      <td>С-313</td>\n",
       "      <td>смерть</td>\n",
       "      <td>59.0</td>\n",
       "      <td>1.0</td>\n",
       "    </tr>\n",
       "    <tr>\n",
       "      <th>2</th>\n",
       "      <td>С-270</td>\n",
       "      <td>выписка</td>\n",
       "      <td>47.0</td>\n",
       "      <td>0.0</td>\n",
       "      <td>NaN</td>\n",
       "      <td>С-289</td>\n",
       "      <td>выписка</td>\n",
       "      <td>53.0</td>\n",
       "      <td>False</td>\n",
       "      <td>NaN</td>\n",
       "      <td>С-910</td>\n",
       "      <td>смерть</td>\n",
       "      <td>53.0</td>\n",
       "      <td>1.0</td>\n",
       "      <td>NaN</td>\n",
       "      <td>С-540</td>\n",
       "      <td>смерть</td>\n",
       "      <td>59.0</td>\n",
       "      <td>1.0</td>\n",
       "    </tr>\n",
       "    <tr>\n",
       "      <th>3</th>\n",
       "      <td>С-267</td>\n",
       "      <td>выписка</td>\n",
       "      <td>49.0</td>\n",
       "      <td>0.0</td>\n",
       "      <td>NaN</td>\n",
       "      <td>C-69</td>\n",
       "      <td>выписка</td>\n",
       "      <td>56.0</td>\n",
       "      <td>False</td>\n",
       "      <td>NaN</td>\n",
       "      <td>С-464</td>\n",
       "      <td>смерть</td>\n",
       "      <td>55.0</td>\n",
       "      <td>1.0</td>\n",
       "      <td>NaN</td>\n",
       "      <td>C-1056</td>\n",
       "      <td>смерть</td>\n",
       "      <td>61.0</td>\n",
       "      <td>0.0</td>\n",
       "    </tr>\n",
       "    <tr>\n",
       "      <th>4</th>\n",
       "      <td>С-986</td>\n",
       "      <td>выписка</td>\n",
       "      <td>49.0</td>\n",
       "      <td>0.0</td>\n",
       "      <td>NaN</td>\n",
       "      <td>С-542</td>\n",
       "      <td>выписка</td>\n",
       "      <td>57.0</td>\n",
       "      <td>True</td>\n",
       "      <td>NaN</td>\n",
       "      <td>C-110</td>\n",
       "      <td>смерть</td>\n",
       "      <td>57.0</td>\n",
       "      <td>1.0</td>\n",
       "      <td>NaN</td>\n",
       "      <td>С-822</td>\n",
       "      <td>смерть</td>\n",
       "      <td>65.0</td>\n",
       "      <td>1.0</td>\n",
       "    </tr>\n",
       "    <tr>\n",
       "      <th>5</th>\n",
       "      <td>C-157</td>\n",
       "      <td>выписка</td>\n",
       "      <td>51.0</td>\n",
       "      <td>0.0</td>\n",
       "      <td>NaN</td>\n",
       "      <td>С-1374</td>\n",
       "      <td>выписка</td>\n",
       "      <td>57.0</td>\n",
       "      <td>False</td>\n",
       "      <td>NaN</td>\n",
       "      <td>С-7</td>\n",
       "      <td>смерть</td>\n",
       "      <td>59.0</td>\n",
       "      <td>1.0</td>\n",
       "      <td>NaN</td>\n",
       "      <td>С-546</td>\n",
       "      <td>смерть</td>\n",
       "      <td>66.0</td>\n",
       "      <td>1.0</td>\n",
       "    </tr>\n",
       "    <tr>\n",
       "      <th>6</th>\n",
       "      <td>С-770</td>\n",
       "      <td>выписка</td>\n",
       "      <td>54.0</td>\n",
       "      <td>1.0</td>\n",
       "      <td>NaN</td>\n",
       "      <td>C-1126</td>\n",
       "      <td>выписка</td>\n",
       "      <td>57.0</td>\n",
       "      <td>True</td>\n",
       "      <td>NaN</td>\n",
       "      <td>C-191</td>\n",
       "      <td>смерть</td>\n",
       "      <td>60.0</td>\n",
       "      <td>1.0</td>\n",
       "      <td>NaN</td>\n",
       "      <td>C-174</td>\n",
       "      <td>смерть</td>\n",
       "      <td>68.0</td>\n",
       "      <td>1.0</td>\n",
       "    </tr>\n",
       "    <tr>\n",
       "      <th>7</th>\n",
       "      <td>C-140</td>\n",
       "      <td>выписка</td>\n",
       "      <td>55.0</td>\n",
       "      <td>0.0</td>\n",
       "      <td>NaN</td>\n",
       "      <td>С-903</td>\n",
       "      <td>выписка</td>\n",
       "      <td>58.0</td>\n",
       "      <td>True</td>\n",
       "      <td>NaN</td>\n",
       "      <td>C-129</td>\n",
       "      <td>смерть</td>\n",
       "      <td>62.0</td>\n",
       "      <td>1.0</td>\n",
       "      <td>NaN</td>\n",
       "      <td>С-432</td>\n",
       "      <td>смерть</td>\n",
       "      <td>68.0</td>\n",
       "      <td>1.0</td>\n",
       "    </tr>\n",
       "    <tr>\n",
       "      <th>8</th>\n",
       "      <td>С-1325</td>\n",
       "      <td>выписка</td>\n",
       "      <td>55.0</td>\n",
       "      <td>0.0</td>\n",
       "      <td>NaN</td>\n",
       "      <td>C-87</td>\n",
       "      <td>выписка</td>\n",
       "      <td>58.0</td>\n",
       "      <td>True</td>\n",
       "      <td>NaN</td>\n",
       "      <td>С-865</td>\n",
       "      <td>смерть</td>\n",
       "      <td>65.0</td>\n",
       "      <td>1.0</td>\n",
       "      <td>NaN</td>\n",
       "      <td>C-1163</td>\n",
       "      <td>смерть</td>\n",
       "      <td>68.0</td>\n",
       "      <td>0.0</td>\n",
       "    </tr>\n",
       "    <tr>\n",
       "      <th>9</th>\n",
       "      <td>C-226</td>\n",
       "      <td>выписка</td>\n",
       "      <td>56.0</td>\n",
       "      <td>1.0</td>\n",
       "      <td>NaN</td>\n",
       "      <td>С-1350</td>\n",
       "      <td>выписка</td>\n",
       "      <td>58.0</td>\n",
       "      <td>False</td>\n",
       "      <td>NaN</td>\n",
       "      <td>С-1347</td>\n",
       "      <td>смерть</td>\n",
       "      <td>65.0</td>\n",
       "      <td>0.0</td>\n",
       "      <td>NaN</td>\n",
       "      <td>C-165</td>\n",
       "      <td>смерть</td>\n",
       "      <td>69.0</td>\n",
       "      <td>1.0</td>\n",
       "    </tr>\n",
       "    <tr>\n",
       "      <th>10</th>\n",
       "      <td>C-1153</td>\n",
       "      <td>выписка</td>\n",
       "      <td>56.0</td>\n",
       "      <td>1.0</td>\n",
       "      <td>NaN</td>\n",
       "      <td>C-64</td>\n",
       "      <td>выписка</td>\n",
       "      <td>59.0</td>\n",
       "      <td>True</td>\n",
       "      <td>NaN</td>\n",
       "      <td>С-356</td>\n",
       "      <td>смерть</td>\n",
       "      <td>70.0</td>\n",
       "      <td>1.0</td>\n",
       "      <td>NaN</td>\n",
       "      <td>С-790</td>\n",
       "      <td>смерть</td>\n",
       "      <td>69.0</td>\n",
       "      <td>1.0</td>\n",
       "    </tr>\n",
       "    <tr>\n",
       "      <th>11</th>\n",
       "      <td>С-1261</td>\n",
       "      <td>выписка</td>\n",
       "      <td>57.0</td>\n",
       "      <td>1.0</td>\n",
       "      <td>NaN</td>\n",
       "      <td>С-670</td>\n",
       "      <td>выписка</td>\n",
       "      <td>59.0</td>\n",
       "      <td>True</td>\n",
       "      <td>NaN</td>\n",
       "      <td>NaN</td>\n",
       "      <td>NaN</td>\n",
       "      <td>NaN</td>\n",
       "      <td>NaN</td>\n",
       "      <td>NaN</td>\n",
       "      <td>NaN</td>\n",
       "      <td>NaN</td>\n",
       "      <td>NaN</td>\n",
       "      <td>NaN</td>\n",
       "    </tr>\n",
       "    <tr>\n",
       "      <th>12</th>\n",
       "      <td>C-76</td>\n",
       "      <td>выписка</td>\n",
       "      <td>59.0</td>\n",
       "      <td>0.0</td>\n",
       "      <td>NaN</td>\n",
       "      <td>С-1185</td>\n",
       "      <td>выписка</td>\n",
       "      <td>59.0</td>\n",
       "      <td>True</td>\n",
       "      <td>NaN</td>\n",
       "      <td>NaN</td>\n",
       "      <td>NaN</td>\n",
       "      <td>NaN</td>\n",
       "      <td>NaN</td>\n",
       "      <td>NaN</td>\n",
       "      <td>NaN</td>\n",
       "      <td>NaN</td>\n",
       "      <td>NaN</td>\n",
       "      <td>NaN</td>\n",
       "    </tr>\n",
       "    <tr>\n",
       "      <th>13</th>\n",
       "      <td>С-774</td>\n",
       "      <td>выписка</td>\n",
       "      <td>60.0</td>\n",
       "      <td>1.0</td>\n",
       "      <td>NaN</td>\n",
       "      <td>С-1362</td>\n",
       "      <td>выписка</td>\n",
       "      <td>60.0</td>\n",
       "      <td>False</td>\n",
       "      <td>NaN</td>\n",
       "      <td>NaN</td>\n",
       "      <td>NaN</td>\n",
       "      <td>NaN</td>\n",
       "      <td>NaN</td>\n",
       "      <td>NaN</td>\n",
       "      <td>NaN</td>\n",
       "      <td>NaN</td>\n",
       "      <td>NaN</td>\n",
       "      <td>NaN</td>\n",
       "    </tr>\n",
       "    <tr>\n",
       "      <th>14</th>\n",
       "      <td>С-722</td>\n",
       "      <td>выписка</td>\n",
       "      <td>60.0</td>\n",
       "      <td>1.0</td>\n",
       "      <td>NaN</td>\n",
       "      <td>С-898a</td>\n",
       "      <td>выписка</td>\n",
       "      <td>60.0</td>\n",
       "      <td>True</td>\n",
       "      <td>NaN</td>\n",
       "      <td>NaN</td>\n",
       "      <td>NaN</td>\n",
       "      <td>NaN</td>\n",
       "      <td>NaN</td>\n",
       "      <td>NaN</td>\n",
       "      <td>NaN</td>\n",
       "      <td>NaN</td>\n",
       "      <td>NaN</td>\n",
       "      <td>NaN</td>\n",
       "    </tr>\n",
       "    <tr>\n",
       "      <th>15</th>\n",
       "      <td>C-122</td>\n",
       "      <td>выписка</td>\n",
       "      <td>61.0</td>\n",
       "      <td>0.0</td>\n",
       "      <td>NaN</td>\n",
       "      <td>C-176</td>\n",
       "      <td>выписка</td>\n",
       "      <td>62.0</td>\n",
       "      <td>False</td>\n",
       "      <td>NaN</td>\n",
       "      <td>NaN</td>\n",
       "      <td>NaN</td>\n",
       "      <td>NaN</td>\n",
       "      <td>NaN</td>\n",
       "      <td>NaN</td>\n",
       "      <td>NaN</td>\n",
       "      <td>NaN</td>\n",
       "      <td>NaN</td>\n",
       "      <td>NaN</td>\n",
       "    </tr>\n",
       "    <tr>\n",
       "      <th>16</th>\n",
       "      <td>С-462</td>\n",
       "      <td>выписка</td>\n",
       "      <td>62.0</td>\n",
       "      <td>0.0</td>\n",
       "      <td>NaN</td>\n",
       "      <td>C-117</td>\n",
       "      <td>выписка</td>\n",
       "      <td>62.0</td>\n",
       "      <td>False</td>\n",
       "      <td>NaN</td>\n",
       "      <td>NaN</td>\n",
       "      <td>NaN</td>\n",
       "      <td>NaN</td>\n",
       "      <td>NaN</td>\n",
       "      <td>NaN</td>\n",
       "      <td>NaN</td>\n",
       "      <td>NaN</td>\n",
       "      <td>NaN</td>\n",
       "      <td>NaN</td>\n",
       "    </tr>\n",
       "    <tr>\n",
       "      <th>17</th>\n",
       "      <td>C-55</td>\n",
       "      <td>выписка</td>\n",
       "      <td>62.0</td>\n",
       "      <td>1.0</td>\n",
       "      <td>NaN</td>\n",
       "      <td>С-941</td>\n",
       "      <td>выписка</td>\n",
       "      <td>62.0</td>\n",
       "      <td>False</td>\n",
       "      <td>NaN</td>\n",
       "      <td>NaN</td>\n",
       "      <td>NaN</td>\n",
       "      <td>NaN</td>\n",
       "      <td>NaN</td>\n",
       "      <td>NaN</td>\n",
       "      <td>NaN</td>\n",
       "      <td>NaN</td>\n",
       "      <td>NaN</td>\n",
       "      <td>NaN</td>\n",
       "    </tr>\n",
       "    <tr>\n",
       "      <th>18</th>\n",
       "      <td>C-118</td>\n",
       "      <td>выписка</td>\n",
       "      <td>64.0</td>\n",
       "      <td>0.0</td>\n",
       "      <td>NaN</td>\n",
       "      <td>C-1129</td>\n",
       "      <td>выписка</td>\n",
       "      <td>62.0</td>\n",
       "      <td>True</td>\n",
       "      <td>NaN</td>\n",
       "      <td>NaN</td>\n",
       "      <td>NaN</td>\n",
       "      <td>NaN</td>\n",
       "      <td>NaN</td>\n",
       "      <td>NaN</td>\n",
       "      <td>NaN</td>\n",
       "      <td>NaN</td>\n",
       "      <td>NaN</td>\n",
       "      <td>NaN</td>\n",
       "    </tr>\n",
       "    <tr>\n",
       "      <th>19</th>\n",
       "      <td>C-238</td>\n",
       "      <td>выписка</td>\n",
       "      <td>66.0</td>\n",
       "      <td>1.0</td>\n",
       "      <td>NaN</td>\n",
       "      <td>С-844</td>\n",
       "      <td>выписка</td>\n",
       "      <td>63.0</td>\n",
       "      <td>True</td>\n",
       "      <td>NaN</td>\n",
       "      <td>NaN</td>\n",
       "      <td>NaN</td>\n",
       "      <td>NaN</td>\n",
       "      <td>NaN</td>\n",
       "      <td>NaN</td>\n",
       "      <td>NaN</td>\n",
       "      <td>NaN</td>\n",
       "      <td>NaN</td>\n",
       "      <td>NaN</td>\n",
       "    </tr>\n",
       "    <tr>\n",
       "      <th>20</th>\n",
       "      <td>C-225</td>\n",
       "      <td>выписка</td>\n",
       "      <td>67.0</td>\n",
       "      <td>0.0</td>\n",
       "      <td>NaN</td>\n",
       "      <td>С-406</td>\n",
       "      <td>выписка</td>\n",
       "      <td>63.0</td>\n",
       "      <td>False</td>\n",
       "      <td>NaN</td>\n",
       "      <td>NaN</td>\n",
       "      <td>NaN</td>\n",
       "      <td>NaN</td>\n",
       "      <td>NaN</td>\n",
       "      <td>NaN</td>\n",
       "      <td>NaN</td>\n",
       "      <td>NaN</td>\n",
       "      <td>NaN</td>\n",
       "      <td>NaN</td>\n",
       "    </tr>\n",
       "    <tr>\n",
       "      <th>21</th>\n",
       "      <td>С-260</td>\n",
       "      <td>выписка</td>\n",
       "      <td>68.0</td>\n",
       "      <td>0.0</td>\n",
       "      <td>NaN</td>\n",
       "      <td>С-705</td>\n",
       "      <td>выписка</td>\n",
       "      <td>63.0</td>\n",
       "      <td>True</td>\n",
       "      <td>NaN</td>\n",
       "      <td>NaN</td>\n",
       "      <td>NaN</td>\n",
       "      <td>NaN</td>\n",
       "      <td>NaN</td>\n",
       "      <td>NaN</td>\n",
       "      <td>NaN</td>\n",
       "      <td>NaN</td>\n",
       "      <td>NaN</td>\n",
       "      <td>NaN</td>\n",
       "    </tr>\n",
       "    <tr>\n",
       "      <th>22</th>\n",
       "      <td>С-447</td>\n",
       "      <td>выписка</td>\n",
       "      <td>68.0</td>\n",
       "      <td>0.0</td>\n",
       "      <td>NaN</td>\n",
       "      <td>C-241</td>\n",
       "      <td>выписка</td>\n",
       "      <td>63.0</td>\n",
       "      <td>False</td>\n",
       "      <td>NaN</td>\n",
       "      <td>NaN</td>\n",
       "      <td>NaN</td>\n",
       "      <td>NaN</td>\n",
       "      <td>NaN</td>\n",
       "      <td>NaN</td>\n",
       "      <td>NaN</td>\n",
       "      <td>NaN</td>\n",
       "      <td>NaN</td>\n",
       "      <td>NaN</td>\n",
       "    </tr>\n",
       "    <tr>\n",
       "      <th>23</th>\n",
       "      <td>С-689</td>\n",
       "      <td>выписка</td>\n",
       "      <td>68.0</td>\n",
       "      <td>1.0</td>\n",
       "      <td>NaN</td>\n",
       "      <td>С-632</td>\n",
       "      <td>выписка</td>\n",
       "      <td>63.0</td>\n",
       "      <td>True</td>\n",
       "      <td>NaN</td>\n",
       "      <td>NaN</td>\n",
       "      <td>NaN</td>\n",
       "      <td>NaN</td>\n",
       "      <td>NaN</td>\n",
       "      <td>NaN</td>\n",
       "      <td>NaN</td>\n",
       "      <td>NaN</td>\n",
       "      <td>NaN</td>\n",
       "      <td>NaN</td>\n",
       "    </tr>\n",
       "    <tr>\n",
       "      <th>24</th>\n",
       "      <td>С-280</td>\n",
       "      <td>выписка</td>\n",
       "      <td>70.0</td>\n",
       "      <td>1.0</td>\n",
       "      <td>NaN</td>\n",
       "      <td>C-39</td>\n",
       "      <td>выписка</td>\n",
       "      <td>64.0</td>\n",
       "      <td>False</td>\n",
       "      <td>NaN</td>\n",
       "      <td>NaN</td>\n",
       "      <td>NaN</td>\n",
       "      <td>NaN</td>\n",
       "      <td>NaN</td>\n",
       "      <td>NaN</td>\n",
       "      <td>NaN</td>\n",
       "      <td>NaN</td>\n",
       "      <td>NaN</td>\n",
       "      <td>NaN</td>\n",
       "    </tr>\n",
       "    <tr>\n",
       "      <th>25</th>\n",
       "      <td>С-809</td>\n",
       "      <td>выписка</td>\n",
       "      <td>70.0</td>\n",
       "      <td>1.0</td>\n",
       "      <td>NaN</td>\n",
       "      <td>С-635</td>\n",
       "      <td>выписка</td>\n",
       "      <td>65.0</td>\n",
       "      <td>True</td>\n",
       "      <td>NaN</td>\n",
       "      <td>NaN</td>\n",
       "      <td>NaN</td>\n",
       "      <td>NaN</td>\n",
       "      <td>NaN</td>\n",
       "      <td>NaN</td>\n",
       "      <td>NaN</td>\n",
       "      <td>NaN</td>\n",
       "      <td>NaN</td>\n",
       "      <td>NaN</td>\n",
       "    </tr>\n",
       "    <tr>\n",
       "      <th>26</th>\n",
       "      <td>С-877</td>\n",
       "      <td>выписка</td>\n",
       "      <td>70.0</td>\n",
       "      <td>1.0</td>\n",
       "      <td>NaN</td>\n",
       "      <td>С-811</td>\n",
       "      <td>выписка</td>\n",
       "      <td>66.0</td>\n",
       "      <td>True</td>\n",
       "      <td>NaN</td>\n",
       "      <td>NaN</td>\n",
       "      <td>NaN</td>\n",
       "      <td>NaN</td>\n",
       "      <td>NaN</td>\n",
       "      <td>NaN</td>\n",
       "      <td>NaN</td>\n",
       "      <td>NaN</td>\n",
       "      <td>NaN</td>\n",
       "      <td>NaN</td>\n",
       "    </tr>\n",
       "    <tr>\n",
       "      <th>27</th>\n",
       "      <td>NaN</td>\n",
       "      <td>NaN</td>\n",
       "      <td>NaN</td>\n",
       "      <td>NaN</td>\n",
       "      <td>NaN</td>\n",
       "      <td>С-681</td>\n",
       "      <td>выписка</td>\n",
       "      <td>66.0</td>\n",
       "      <td>True</td>\n",
       "      <td>NaN</td>\n",
       "      <td>NaN</td>\n",
       "      <td>NaN</td>\n",
       "      <td>NaN</td>\n",
       "      <td>NaN</td>\n",
       "      <td>NaN</td>\n",
       "      <td>NaN</td>\n",
       "      <td>NaN</td>\n",
       "      <td>NaN</td>\n",
       "      <td>NaN</td>\n",
       "    </tr>\n",
       "    <tr>\n",
       "      <th>28</th>\n",
       "      <td>NaN</td>\n",
       "      <td>NaN</td>\n",
       "      <td>NaN</td>\n",
       "      <td>NaN</td>\n",
       "      <td>NaN</td>\n",
       "      <td>С-607</td>\n",
       "      <td>выписка</td>\n",
       "      <td>66.0</td>\n",
       "      <td>True</td>\n",
       "      <td>NaN</td>\n",
       "      <td>NaN</td>\n",
       "      <td>NaN</td>\n",
       "      <td>NaN</td>\n",
       "      <td>NaN</td>\n",
       "      <td>NaN</td>\n",
       "      <td>NaN</td>\n",
       "      <td>NaN</td>\n",
       "      <td>NaN</td>\n",
       "      <td>NaN</td>\n",
       "    </tr>\n",
       "    <tr>\n",
       "      <th>29</th>\n",
       "      <td>NaN</td>\n",
       "      <td>NaN</td>\n",
       "      <td>NaN</td>\n",
       "      <td>NaN</td>\n",
       "      <td>NaN</td>\n",
       "      <td>C-1087</td>\n",
       "      <td>выписка</td>\n",
       "      <td>67.0</td>\n",
       "      <td>True</td>\n",
       "      <td>NaN</td>\n",
       "      <td>NaN</td>\n",
       "      <td>NaN</td>\n",
       "      <td>NaN</td>\n",
       "      <td>NaN</td>\n",
       "      <td>NaN</td>\n",
       "      <td>NaN</td>\n",
       "      <td>NaN</td>\n",
       "      <td>NaN</td>\n",
       "      <td>NaN</td>\n",
       "    </tr>\n",
       "    <tr>\n",
       "      <th>30</th>\n",
       "      <td>NaN</td>\n",
       "      <td>NaN</td>\n",
       "      <td>NaN</td>\n",
       "      <td>NaN</td>\n",
       "      <td>NaN</td>\n",
       "      <td>C-1077</td>\n",
       "      <td>выписка</td>\n",
       "      <td>67.0</td>\n",
       "      <td>True</td>\n",
       "      <td>NaN</td>\n",
       "      <td>NaN</td>\n",
       "      <td>NaN</td>\n",
       "      <td>NaN</td>\n",
       "      <td>NaN</td>\n",
       "      <td>NaN</td>\n",
       "      <td>NaN</td>\n",
       "      <td>NaN</td>\n",
       "      <td>NaN</td>\n",
       "      <td>NaN</td>\n",
       "    </tr>\n",
       "    <tr>\n",
       "      <th>31</th>\n",
       "      <td>NaN</td>\n",
       "      <td>NaN</td>\n",
       "      <td>NaN</td>\n",
       "      <td>NaN</td>\n",
       "      <td>NaN</td>\n",
       "      <td>С-1392</td>\n",
       "      <td>выписка</td>\n",
       "      <td>68.0</td>\n",
       "      <td>False</td>\n",
       "      <td>NaN</td>\n",
       "      <td>NaN</td>\n",
       "      <td>NaN</td>\n",
       "      <td>NaN</td>\n",
       "      <td>NaN</td>\n",
       "      <td>NaN</td>\n",
       "      <td>NaN</td>\n",
       "      <td>NaN</td>\n",
       "      <td>NaN</td>\n",
       "      <td>NaN</td>\n",
       "    </tr>\n",
       "    <tr>\n",
       "      <th>32</th>\n",
       "      <td>NaN</td>\n",
       "      <td>NaN</td>\n",
       "      <td>NaN</td>\n",
       "      <td>NaN</td>\n",
       "      <td>NaN</td>\n",
       "      <td>С-374</td>\n",
       "      <td>выписка</td>\n",
       "      <td>68.0</td>\n",
       "      <td>True</td>\n",
       "      <td>NaN</td>\n",
       "      <td>NaN</td>\n",
       "      <td>NaN</td>\n",
       "      <td>NaN</td>\n",
       "      <td>NaN</td>\n",
       "      <td>NaN</td>\n",
       "      <td>NaN</td>\n",
       "      <td>NaN</td>\n",
       "      <td>NaN</td>\n",
       "      <td>NaN</td>\n",
       "    </tr>\n",
       "    <tr>\n",
       "      <th>33</th>\n",
       "      <td>NaN</td>\n",
       "      <td>NaN</td>\n",
       "      <td>NaN</td>\n",
       "      <td>NaN</td>\n",
       "      <td>NaN</td>\n",
       "      <td>С-351</td>\n",
       "      <td>выписка</td>\n",
       "      <td>69.0</td>\n",
       "      <td>True</td>\n",
       "      <td>NaN</td>\n",
       "      <td>NaN</td>\n",
       "      <td>NaN</td>\n",
       "      <td>NaN</td>\n",
       "      <td>NaN</td>\n",
       "      <td>NaN</td>\n",
       "      <td>NaN</td>\n",
       "      <td>NaN</td>\n",
       "      <td>NaN</td>\n",
       "      <td>NaN</td>\n",
       "    </tr>\n",
       "    <tr>\n",
       "      <th>34</th>\n",
       "      <td>NaN</td>\n",
       "      <td>NaN</td>\n",
       "      <td>NaN</td>\n",
       "      <td>NaN</td>\n",
       "      <td>NaN</td>\n",
       "      <td>С-1377</td>\n",
       "      <td>выписка</td>\n",
       "      <td>69.0</td>\n",
       "      <td>True</td>\n",
       "      <td>NaN</td>\n",
       "      <td>NaN</td>\n",
       "      <td>NaN</td>\n",
       "      <td>NaN</td>\n",
       "      <td>NaN</td>\n",
       "      <td>NaN</td>\n",
       "      <td>NaN</td>\n",
       "      <td>NaN</td>\n",
       "      <td>NaN</td>\n",
       "      <td>NaN</td>\n",
       "    </tr>\n",
       "    <tr>\n",
       "      <th>35</th>\n",
       "      <td>NaN</td>\n",
       "      <td>NaN</td>\n",
       "      <td>NaN</td>\n",
       "      <td>NaN</td>\n",
       "      <td>NaN</td>\n",
       "      <td>С-906</td>\n",
       "      <td>выписка</td>\n",
       "      <td>69.0</td>\n",
       "      <td>True</td>\n",
       "      <td>NaN</td>\n",
       "      <td>NaN</td>\n",
       "      <td>NaN</td>\n",
       "      <td>NaN</td>\n",
       "      <td>NaN</td>\n",
       "      <td>NaN</td>\n",
       "      <td>NaN</td>\n",
       "      <td>NaN</td>\n",
       "      <td>NaN</td>\n",
       "      <td>NaN</td>\n",
       "    </tr>\n",
       "    <tr>\n",
       "      <th>36</th>\n",
       "      <td>NaN</td>\n",
       "      <td>NaN</td>\n",
       "      <td>NaN</td>\n",
       "      <td>NaN</td>\n",
       "      <td>NaN</td>\n",
       "      <td>C-184</td>\n",
       "      <td>выписка</td>\n",
       "      <td>70.0</td>\n",
       "      <td>True</td>\n",
       "      <td>NaN</td>\n",
       "      <td>NaN</td>\n",
       "      <td>NaN</td>\n",
       "      <td>NaN</td>\n",
       "      <td>NaN</td>\n",
       "      <td>NaN</td>\n",
       "      <td>NaN</td>\n",
       "      <td>NaN</td>\n",
       "      <td>NaN</td>\n",
       "      <td>NaN</td>\n",
       "    </tr>\n",
       "    <tr>\n",
       "      <th>37</th>\n",
       "      <td>NaN</td>\n",
       "      <td>NaN</td>\n",
       "      <td>NaN</td>\n",
       "      <td>NaN</td>\n",
       "      <td>NaN</td>\n",
       "      <td>С-998</td>\n",
       "      <td>выписка</td>\n",
       "      <td>70.0</td>\n",
       "      <td>True</td>\n",
       "      <td>NaN</td>\n",
       "      <td>NaN</td>\n",
       "      <td>NaN</td>\n",
       "      <td>NaN</td>\n",
       "      <td>NaN</td>\n",
       "      <td>NaN</td>\n",
       "      <td>NaN</td>\n",
       "      <td>NaN</td>\n",
       "      <td>NaN</td>\n",
       "      <td>NaN</td>\n",
       "    </tr>\n",
       "    <tr>\n",
       "      <th>38</th>\n",
       "      <td>NaN</td>\n",
       "      <td>NaN</td>\n",
       "      <td>NaN</td>\n",
       "      <td>NaN</td>\n",
       "      <td>NaN</td>\n",
       "      <td>С-605</td>\n",
       "      <td>выписка</td>\n",
       "      <td>70.0</td>\n",
       "      <td>True</td>\n",
       "      <td>NaN</td>\n",
       "      <td>NaN</td>\n",
       "      <td>NaN</td>\n",
       "      <td>NaN</td>\n",
       "      <td>NaN</td>\n",
       "      <td>NaN</td>\n",
       "      <td>NaN</td>\n",
       "      <td>NaN</td>\n",
       "      <td>NaN</td>\n",
       "      <td>NaN</td>\n",
       "    </tr>\n",
       "  </tbody>\n",
       "</table>\n",
       "</div>"
      ],
      "text/plain": [
       "   Мужчины                              Женщины                                \\\n",
       "        ID  Outcome   Age Exist Exist.1      ID  Outcome   Age  Exist Exist.1   \n",
       "0    С-311  выписка  41.0   0.0     NaN   С-405  выписка  45.0  False     NaN   \n",
       "1    C-244  выписка  44.0   0.0     NaN  C-1094  выписка  52.0   True     NaN   \n",
       "2    С-270  выписка  47.0   0.0     NaN   С-289  выписка  53.0  False     NaN   \n",
       "3    С-267  выписка  49.0   0.0     NaN    C-69  выписка  56.0  False     NaN   \n",
       "4    С-986  выписка  49.0   0.0     NaN   С-542  выписка  57.0   True     NaN   \n",
       "5    C-157  выписка  51.0   0.0     NaN  С-1374  выписка  57.0  False     NaN   \n",
       "6    С-770  выписка  54.0   1.0     NaN  C-1126  выписка  57.0   True     NaN   \n",
       "7    C-140  выписка  55.0   0.0     NaN   С-903  выписка  58.0   True     NaN   \n",
       "8   С-1325  выписка  55.0   0.0     NaN    C-87  выписка  58.0   True     NaN   \n",
       "9    C-226  выписка  56.0   1.0     NaN  С-1350  выписка  58.0  False     NaN   \n",
       "10  C-1153  выписка  56.0   1.0     NaN    C-64  выписка  59.0   True     NaN   \n",
       "11  С-1261  выписка  57.0   1.0     NaN   С-670  выписка  59.0   True     NaN   \n",
       "12    C-76  выписка  59.0   0.0     NaN  С-1185  выписка  59.0   True     NaN   \n",
       "13   С-774  выписка  60.0   1.0     NaN  С-1362  выписка  60.0  False     NaN   \n",
       "14   С-722  выписка  60.0   1.0     NaN  С-898a  выписка  60.0   True     NaN   \n",
       "15   C-122  выписка  61.0   0.0     NaN   C-176  выписка  62.0  False     NaN   \n",
       "16   С-462  выписка  62.0   0.0     NaN   C-117  выписка  62.0  False     NaN   \n",
       "17    C-55  выписка  62.0   1.0     NaN   С-941  выписка  62.0  False     NaN   \n",
       "18   C-118  выписка  64.0   0.0     NaN  C-1129  выписка  62.0   True     NaN   \n",
       "19   C-238  выписка  66.0   1.0     NaN   С-844  выписка  63.0   True     NaN   \n",
       "20   C-225  выписка  67.0   0.0     NaN   С-406  выписка  63.0  False     NaN   \n",
       "21   С-260  выписка  68.0   0.0     NaN   С-705  выписка  63.0   True     NaN   \n",
       "22   С-447  выписка  68.0   0.0     NaN   C-241  выписка  63.0  False     NaN   \n",
       "23   С-689  выписка  68.0   1.0     NaN   С-632  выписка  63.0   True     NaN   \n",
       "24   С-280  выписка  70.0   1.0     NaN    C-39  выписка  64.0  False     NaN   \n",
       "25   С-809  выписка  70.0   1.0     NaN   С-635  выписка  65.0   True     NaN   \n",
       "26   С-877  выписка  70.0   1.0     NaN   С-811  выписка  66.0   True     NaN   \n",
       "27     NaN      NaN   NaN   NaN     NaN   С-681  выписка  66.0   True     NaN   \n",
       "28     NaN      NaN   NaN   NaN     NaN   С-607  выписка  66.0   True     NaN   \n",
       "29     NaN      NaN   NaN   NaN     NaN  C-1087  выписка  67.0   True     NaN   \n",
       "30     NaN      NaN   NaN   NaN     NaN  C-1077  выписка  67.0   True     NaN   \n",
       "31     NaN      NaN   NaN   NaN     NaN  С-1392  выписка  68.0  False     NaN   \n",
       "32     NaN      NaN   NaN   NaN     NaN   С-374  выписка  68.0   True     NaN   \n",
       "33     NaN      NaN   NaN   NaN     NaN   С-351  выписка  69.0   True     NaN   \n",
       "34     NaN      NaN   NaN   NaN     NaN  С-1377  выписка  69.0   True     NaN   \n",
       "35     NaN      NaN   NaN   NaN     NaN   С-906  выписка  69.0   True     NaN   \n",
       "36     NaN      NaN   NaN   NaN     NaN   C-184  выписка  70.0   True     NaN   \n",
       "37     NaN      NaN   NaN   NaN     NaN   С-998  выписка  70.0   True     NaN   \n",
       "38     NaN      NaN   NaN   NaN     NaN   С-605  выписка  70.0   True     NaN   \n",
       "\n",
       "   Мужчины                                 Женщины                          \n",
       "      ID.1 Outcome.1 Age.1 Exist.2 Exist.3    ID.1 Outcome.1 Age.1 Exist.2  \n",
       "0    C-144    смерть  42.0     0.0     NaN  С-1331    смерть  57.0     0.0  \n",
       "1     С-70    смерть  50.0     1.0     NaN   С-313    смерть  59.0     1.0  \n",
       "2    С-910    смерть  53.0     1.0     NaN   С-540    смерть  59.0     1.0  \n",
       "3    С-464    смерть  55.0     1.0     NaN  C-1056    смерть  61.0     0.0  \n",
       "4    C-110    смерть  57.0     1.0     NaN   С-822    смерть  65.0     1.0  \n",
       "5      С-7    смерть  59.0     1.0     NaN   С-546    смерть  66.0     1.0  \n",
       "6    C-191    смерть  60.0     1.0     NaN   C-174    смерть  68.0     1.0  \n",
       "7    C-129    смерть  62.0     1.0     NaN   С-432    смерть  68.0     1.0  \n",
       "8    С-865    смерть  65.0     1.0     NaN  C-1163    смерть  68.0     0.0  \n",
       "9   С-1347    смерть  65.0     0.0     NaN   C-165    смерть  69.0     1.0  \n",
       "10   С-356    смерть  70.0     1.0     NaN   С-790    смерть  69.0     1.0  \n",
       "11     NaN       NaN   NaN     NaN     NaN     NaN       NaN   NaN     NaN  \n",
       "12     NaN       NaN   NaN     NaN     NaN     NaN       NaN   NaN     NaN  \n",
       "13     NaN       NaN   NaN     NaN     NaN     NaN       NaN   NaN     NaN  \n",
       "14     NaN       NaN   NaN     NaN     NaN     NaN       NaN   NaN     NaN  \n",
       "15     NaN       NaN   NaN     NaN     NaN     NaN       NaN   NaN     NaN  \n",
       "16     NaN       NaN   NaN     NaN     NaN     NaN       NaN   NaN     NaN  \n",
       "17     NaN       NaN   NaN     NaN     NaN     NaN       NaN   NaN     NaN  \n",
       "18     NaN       NaN   NaN     NaN     NaN     NaN       NaN   NaN     NaN  \n",
       "19     NaN       NaN   NaN     NaN     NaN     NaN       NaN   NaN     NaN  \n",
       "20     NaN       NaN   NaN     NaN     NaN     NaN       NaN   NaN     NaN  \n",
       "21     NaN       NaN   NaN     NaN     NaN     NaN       NaN   NaN     NaN  \n",
       "22     NaN       NaN   NaN     NaN     NaN     NaN       NaN   NaN     NaN  \n",
       "23     NaN       NaN   NaN     NaN     NaN     NaN       NaN   NaN     NaN  \n",
       "24     NaN       NaN   NaN     NaN     NaN     NaN       NaN   NaN     NaN  \n",
       "25     NaN       NaN   NaN     NaN     NaN     NaN       NaN   NaN     NaN  \n",
       "26     NaN       NaN   NaN     NaN     NaN     NaN       NaN   NaN     NaN  \n",
       "27     NaN       NaN   NaN     NaN     NaN     NaN       NaN   NaN     NaN  \n",
       "28     NaN       NaN   NaN     NaN     NaN     NaN       NaN   NaN     NaN  \n",
       "29     NaN       NaN   NaN     NaN     NaN     NaN       NaN   NaN     NaN  \n",
       "30     NaN       NaN   NaN     NaN     NaN     NaN       NaN   NaN     NaN  \n",
       "31     NaN       NaN   NaN     NaN     NaN     NaN       NaN   NaN     NaN  \n",
       "32     NaN       NaN   NaN     NaN     NaN     NaN       NaN   NaN     NaN  \n",
       "33     NaN       NaN   NaN     NaN     NaN     NaN       NaN   NaN     NaN  \n",
       "34     NaN       NaN   NaN     NaN     NaN     NaN       NaN   NaN     NaN  \n",
       "35     NaN       NaN   NaN     NaN     NaN     NaN       NaN   NaN     NaN  \n",
       "36     NaN       NaN   NaN     NaN     NaN     NaN       NaN   NaN     NaN  \n",
       "37     NaN       NaN   NaN     NaN     NaN     NaN       NaN   NaN     NaN  \n",
       "38     NaN       NaN   NaN     NaN     NaN     NaN       NaN   NaN     NaN  "
      ]
     },
     "execution_count": 47,
     "metadata": {},
     "output_type": "execute_result"
    }
   ],
   "source": [
    "plan = pd.read_excel(\"~/Documents/Piter/Immunology/tables/planning_elisa.xlsx\",  sheet_name=\"Список образцов\", header = [0,1])\n",
    "plan"
   ]
  },
  {
   "cell_type": "markdown",
   "id": "55daa3a6",
   "metadata": {},
   "source": [
    "## Разметка планшета и результат"
   ]
  },
  {
   "cell_type": "markdown",
   "id": "9966e143",
   "metadata": {},
   "source": [
    "|   | 1           | 2      | 3      | 4      | 5      | 6       | 7       | 8       | 9       | 10     | 11     | 12     |\n",
    "| - | ----------- | ------ | ------ | ------ | ------ | ------- | ------- | ------- | ------- | ------ | ------ | ------ |\n",
    "| <b>A</b> | калибратор1 | 910\\_1 | 191\\_1 | 313\\_1 | 174\\_1 | 770\\_1  | 542\\_1  | 898а\\_1 | 607\\_1  | 280\\_1 | зд1\\_1 | зд5\\_1 |\n",
    "| <b>B</b> | калибратор2 | 910\\_2 | 70\\_2  | 313\\_2 | 174\\_2 | 770\\_2  | 542\\_2  | 898а\\_2 | 607\\_2  | 280\\_2 | зд1\\_2 | зд5\\_2 |\n",
    "| <b>C</b> | калибратор3 | 464\\_1 | 129\\_1 | 540\\_1 | 432\\_1 | 226\\_1  | 1126\\_1 | 1129\\_1 | 1087\\_1 | 809\\_1 | зд2\\_1 | зд6\\_1 |\n",
    "| <b>D</b> | калибратор4 | 464\\_2 | 129\\_2 | 540\\_2 | 432\\_2 | 226\\_2  | 1126\\_2 | 1129\\_2 | 1087\\_2 | 809\\_2 | зд2\\_2 | зд6\\_2 |\n",
    "| <b>E</b> | калибратор5 | 110\\_1 | 865\\_1 | 822\\_1 | 165\\_1 | 1153\\_1 | 774\\_1  | 238\\_1  | 1077\\_1 | 998\\_1 | зд3\\_1 | зд7\\_1 |\n",
    "| <b>F</b> | калибратор6 | 110\\_2 | 865\\_2 | 822\\_2 | 165\\_2 | 1153\\_2 | 774\\_2  | 238\\_2  | 1077\\_2 | 998\\_2 | зд3\\_2 | зд7\\_2 |\n",
    "| <b>G</b> | контроль    | 7\\_1   | 356\\_1 | 546\\_1 | 790\\_1 | 1094\\_1 | 55\\_1   | 689\\_1  | 351\\_1  | 605\\_1 | зд4\\_1 | зд8\\_1 |\n",
    "| <b>H</b> | 70\\_1       | 7\\_2   | 356\\_2 | 546\\_2 | 790\\_2 | 1094\\_2 | 55\\_2   | 689\\_2  | 351\\_2  | 605\\_2 | зд4\\_2 | зд8\\_2 |"
   ]
  },
  {
   "cell_type": "markdown",
   "id": "e1a6cc8f",
   "metadata": {},
   "source": [
    "|   | 1     | 2     | 3     | 4     | 5     | 6     | 7     | 8     | 9     | 10    | 11    | 12    |\n",
    "| - | ----- | ----- | ----- | ----- | ----- | ----- | ----- | ----- | ----- | ----- | ----- | ----- |\n",
    "| <b>A</b> |       | 94,23 | 65,35 | 52,7  | 46,57 | 73,58 | 34,15 | 150,9 | 34,73 | 40,8  | 6,815 | 11,78 |\n",
    "| <b>B</b> |       | 43,04 | 54,35 | 52,85 | 48,7  | 73,07 | 30,57 | 142   | 35,22 | 42,31 | 7,806 | 12,84 |\n",
    "| <b>C</b> |       | 39,49 | 133,3 | 39,96 | 38,61 | 7,302 | 8,317 | 23,55 | 47,04 | 210,4 | 8,691 | 7,111 |\n",
    "| <b>D</b> |       | 37,82 | 155,1 | 42,34 | 44,5  | 7,424 | 7,446 | 28    | 45,32 | 141,2 | 10,03 | 5,004 |\n",
    "| <b>E</b> |       | 17,86 | 10,91 | 11,18 | 60,07 | 72,61 | 34,25 | 45,68 | 44,8  | 60,05 | 8,37  | 4,788 |\n",
    "| <b>F</b> |       | 21,03 | 16,38 | 16,02 | 48,2  | 44,25 | 31,1  | 36,73 | 38,17 | 54,74 | 9,677 | 4,937 |\n",
    "| <b>G</b> | 65,07 | 30,68 | 37,25 | 56,83 | 65,81 | 24,26 | 26,29 | 49,21 | 28,9  | 26,17 | 10,4  | 5,281 |\n",
    "| <b>H</b> | 51,69 | 31,13 | 32,89 | 57,87 | 41,14 | 29,4  | 24,84 | 65,47 | 44,88 | 32,18 | 21,62 | 25,78 |"
   ]
  },
  {
   "cell_type": "markdown",
   "id": "b3df2d7b",
   "metadata": {},
   "source": [
    "Единицы измерения - пг/мл. Все образцы сделаны в дублях, за исключением одного (№191) из-за недостаточности плазмы. Ретроспективно мы добавили результаты оценки концентраций IL-6 с помощью технологии xMAP. "
   ]
  },
  {
   "cell_type": "markdown",
   "id": "3e4abb36",
   "metadata": {},
   "source": [
    "# Обработка результатов"
   ]
  },
  {
   "cell_type": "markdown",
   "id": "de023164",
   "metadata": {},
   "source": [
    "## Описательная статистика"
   ]
  },
  {
   "cell_type": "markdown",
   "id": "9dc2011d",
   "metadata": {},
   "source": [
    "### Сопоставление данных пациентов с результатами"
   ]
  },
  {
   "cell_type": "code",
   "execution_count": 49,
   "id": "fe1ac815",
   "metadata": {},
   "outputs": [
    {
     "data": {
      "text/html": [
       "<div>\n",
       "<style scoped>\n",
       "    .dataframe tbody tr th:only-of-type {\n",
       "        vertical-align: middle;\n",
       "    }\n",
       "\n",
       "    .dataframe tbody tr th {\n",
       "        vertical-align: top;\n",
       "    }\n",
       "\n",
       "    .dataframe thead th {\n",
       "        text-align: right;\n",
       "    }\n",
       "</style>\n",
       "<table border=\"1\" class=\"dataframe\">\n",
       "  <thead>\n",
       "    <tr style=\"text-align: right;\">\n",
       "      <th></th>\n",
       "      <th>Holes</th>\n",
       "      <th>Outcome</th>\n",
       "      <th>Age</th>\n",
       "      <th>Sex</th>\n",
       "      <th>Try_1, pg/ml</th>\n",
       "      <th>Try_2, pg/ml</th>\n",
       "      <th>Mean, pg/ml</th>\n",
       "    </tr>\n",
       "    <tr>\n",
       "      <th>ID</th>\n",
       "      <th></th>\n",
       "      <th></th>\n",
       "      <th></th>\n",
       "      <th></th>\n",
       "      <th></th>\n",
       "      <th></th>\n",
       "      <th></th>\n",
       "    </tr>\n",
       "  </thead>\n",
       "  <tbody>\n",
       "    <tr>\n",
       "      <th>70</th>\n",
       "      <td>H1,B3</td>\n",
       "      <td>NaN</td>\n",
       "      <td>NaN</td>\n",
       "      <td>NaN</td>\n",
       "      <td>51.69</td>\n",
       "      <td>54.35</td>\n",
       "      <td>53.02</td>\n",
       "    </tr>\n",
       "    <tr>\n",
       "      <th>910</th>\n",
       "      <td>A2,B2</td>\n",
       "      <td>NaN</td>\n",
       "      <td>NaN</td>\n",
       "      <td>NaN</td>\n",
       "      <td>94.23</td>\n",
       "      <td>43.04</td>\n",
       "      <td>68.64</td>\n",
       "    </tr>\n",
       "    <tr>\n",
       "      <th>464</th>\n",
       "      <td>C2,D2</td>\n",
       "      <td>NaN</td>\n",
       "      <td>NaN</td>\n",
       "      <td>NaN</td>\n",
       "      <td>39.49</td>\n",
       "      <td>37.82</td>\n",
       "      <td>38.66</td>\n",
       "    </tr>\n",
       "    <tr>\n",
       "      <th>110</th>\n",
       "      <td>E2,F2</td>\n",
       "      <td>NaN</td>\n",
       "      <td>NaN</td>\n",
       "      <td>NaN</td>\n",
       "      <td>17.86</td>\n",
       "      <td>21.03</td>\n",
       "      <td>19.45</td>\n",
       "    </tr>\n",
       "    <tr>\n",
       "      <th>7</th>\n",
       "      <td>G2,H2</td>\n",
       "      <td>NaN</td>\n",
       "      <td>NaN</td>\n",
       "      <td>NaN</td>\n",
       "      <td>30.68</td>\n",
       "      <td>31.13</td>\n",
       "      <td>30.91</td>\n",
       "    </tr>\n",
       "  </tbody>\n",
       "</table>\n",
       "</div>"
      ],
      "text/plain": [
       "     Holes  Outcome  Age  Sex  Try_1, pg/ml  Try_2, pg/ml  Mean, pg/ml\n",
       "ID                                                                    \n",
       "70   H1,B3      NaN  NaN  NaN         51.69         54.35        53.02\n",
       "910  A2,B2      NaN  NaN  NaN         94.23         43.04        68.64\n",
       "464  C2,D2      NaN  NaN  NaN         39.49         37.82        38.66\n",
       "110  E2,F2      NaN  NaN  NaN         17.86         21.03        19.45\n",
       "7    G2,H2      NaN  NaN  NaN         30.68         31.13        30.91"
      ]
     },
     "execution_count": 49,
     "metadata": {},
     "output_type": "execute_result"
    }
   ],
   "source": [
    "results = pd.read_excel(\"~/Documents/Piter/Immunology/tables/results.ods\",engine = \"odf\",index_col = 0)\n",
    "results.head()"
   ]
  },
  {
   "cell_type": "code",
   "execution_count": 50,
   "id": "7811150d",
   "metadata": {},
   "outputs": [
    {
     "data": {
      "text/html": [
       "<div>\n",
       "<style scoped>\n",
       "    .dataframe tbody tr th:only-of-type {\n",
       "        vertical-align: middle;\n",
       "    }\n",
       "\n",
       "    .dataframe tbody tr th {\n",
       "        vertical-align: top;\n",
       "    }\n",
       "\n",
       "    .dataframe thead th {\n",
       "        text-align: right;\n",
       "    }\n",
       "</style>\n",
       "<table border=\"1\" class=\"dataframe\">\n",
       "  <thead>\n",
       "    <tr style=\"text-align: right;\">\n",
       "      <th></th>\n",
       "      <th>Outcome</th>\n",
       "      <th>Age</th>\n",
       "      <th>Sex</th>\n",
       "      <th>Exist</th>\n",
       "    </tr>\n",
       "    <tr>\n",
       "      <th>ID</th>\n",
       "      <th></th>\n",
       "      <th></th>\n",
       "      <th></th>\n",
       "      <th></th>\n",
       "    </tr>\n",
       "  </thead>\n",
       "  <tbody>\n",
       "    <tr>\n",
       "      <th>770</th>\n",
       "      <td>выписка</td>\n",
       "      <td>54</td>\n",
       "      <td>1</td>\n",
       "      <td>ИСТИНА</td>\n",
       "    </tr>\n",
       "    <tr>\n",
       "      <th>226</th>\n",
       "      <td>выписка</td>\n",
       "      <td>56</td>\n",
       "      <td>1</td>\n",
       "      <td>ИСТИНА</td>\n",
       "    </tr>\n",
       "    <tr>\n",
       "      <th>1153</th>\n",
       "      <td>выписка</td>\n",
       "      <td>56</td>\n",
       "      <td>1</td>\n",
       "      <td>ИСТИНА</td>\n",
       "    </tr>\n",
       "    <tr>\n",
       "      <th>1261</th>\n",
       "      <td>выписка</td>\n",
       "      <td>57</td>\n",
       "      <td>1</td>\n",
       "      <td>ИСТИНА</td>\n",
       "    </tr>\n",
       "    <tr>\n",
       "      <th>774</th>\n",
       "      <td>выписка</td>\n",
       "      <td>60</td>\n",
       "      <td>1</td>\n",
       "      <td>ИСТИНА</td>\n",
       "    </tr>\n",
       "  </tbody>\n",
       "</table>\n",
       "</div>"
      ],
      "text/plain": [
       "      Outcome  Age  Sex   Exist\n",
       "ID                             \n",
       "770   выписка   54    1  ИСТИНА\n",
       "226   выписка   56    1  ИСТИНА\n",
       "1153  выписка   56    1  ИСТИНА\n",
       "1261  выписка   57    1  ИСТИНА\n",
       "774   выписка   60    1  ИСТИНА"
      ]
     },
     "execution_count": 50,
     "metadata": {},
     "output_type": "execute_result"
    }
   ],
   "source": [
    "samples = pd.read_excel(\"~/Documents/Piter/Immunology/tables/samples.ods\",engine = \"odf\",index_col = 0)\n",
    "samples.head()"
   ]
  },
  {
   "cell_type": "code",
   "execution_count": 52,
   "id": "221456e4",
   "metadata": {},
   "outputs": [],
   "source": [
    "for i in results.index:\n",
    "    results.loc[i,\"Outcome\"] = samples.loc[i,\"Outcome\"]\n",
    "    results.loc[i,\"Age\"] = samples.loc[i,\"Age\"]\n",
    "    results.loc[i,\"Sex\"] = samples.loc[i,\"Sex\"]"
   ]
  },
  {
   "cell_type": "code",
   "execution_count": 53,
   "id": "16966629",
   "metadata": {},
   "outputs": [
    {
     "data": {
      "text/html": [
       "<div>\n",
       "<style scoped>\n",
       "    .dataframe tbody tr th:only-of-type {\n",
       "        vertical-align: middle;\n",
       "    }\n",
       "\n",
       "    .dataframe tbody tr th {\n",
       "        vertical-align: top;\n",
       "    }\n",
       "\n",
       "    .dataframe thead th {\n",
       "        text-align: right;\n",
       "    }\n",
       "</style>\n",
       "<table border=\"1\" class=\"dataframe\">\n",
       "  <thead>\n",
       "    <tr style=\"text-align: right;\">\n",
       "      <th></th>\n",
       "      <th>Holes</th>\n",
       "      <th>Outcome</th>\n",
       "      <th>Age</th>\n",
       "      <th>Sex</th>\n",
       "      <th>Try_1, pg/ml</th>\n",
       "      <th>Try_2, pg/ml</th>\n",
       "      <th>Mean, pg/ml</th>\n",
       "    </tr>\n",
       "    <tr>\n",
       "      <th>ID</th>\n",
       "      <th></th>\n",
       "      <th></th>\n",
       "      <th></th>\n",
       "      <th></th>\n",
       "      <th></th>\n",
       "      <th></th>\n",
       "      <th></th>\n",
       "    </tr>\n",
       "  </thead>\n",
       "  <tbody>\n",
       "    <tr>\n",
       "      <th>70</th>\n",
       "      <td>H1,B3</td>\n",
       "      <td>смерть</td>\n",
       "      <td>50.0</td>\n",
       "      <td>1.0</td>\n",
       "      <td>51.69</td>\n",
       "      <td>54.35</td>\n",
       "      <td>53.02</td>\n",
       "    </tr>\n",
       "    <tr>\n",
       "      <th>910</th>\n",
       "      <td>A2,B2</td>\n",
       "      <td>смерть</td>\n",
       "      <td>53.0</td>\n",
       "      <td>1.0</td>\n",
       "      <td>94.23</td>\n",
       "      <td>43.04</td>\n",
       "      <td>68.64</td>\n",
       "    </tr>\n",
       "    <tr>\n",
       "      <th>464</th>\n",
       "      <td>C2,D2</td>\n",
       "      <td>смерть</td>\n",
       "      <td>55.0</td>\n",
       "      <td>1.0</td>\n",
       "      <td>39.49</td>\n",
       "      <td>37.82</td>\n",
       "      <td>38.66</td>\n",
       "    </tr>\n",
       "    <tr>\n",
       "      <th>110</th>\n",
       "      <td>E2,F2</td>\n",
       "      <td>смерть</td>\n",
       "      <td>57.0</td>\n",
       "      <td>1.0</td>\n",
       "      <td>17.86</td>\n",
       "      <td>21.03</td>\n",
       "      <td>19.45</td>\n",
       "    </tr>\n",
       "    <tr>\n",
       "      <th>7</th>\n",
       "      <td>G2,H2</td>\n",
       "      <td>смерть</td>\n",
       "      <td>59.0</td>\n",
       "      <td>1.0</td>\n",
       "      <td>30.68</td>\n",
       "      <td>31.13</td>\n",
       "      <td>30.91</td>\n",
       "    </tr>\n",
       "  </tbody>\n",
       "</table>\n",
       "</div>"
      ],
      "text/plain": [
       "     Holes Outcome   Age  Sex  Try_1, pg/ml  Try_2, pg/ml  Mean, pg/ml\n",
       "ID                                                                    \n",
       "70   H1,B3  смерть  50.0  1.0         51.69         54.35        53.02\n",
       "910  A2,B2  смерть  53.0  1.0         94.23         43.04        68.64\n",
       "464  C2,D2  смерть  55.0  1.0         39.49         37.82        38.66\n",
       "110  E2,F2  смерть  57.0  1.0         17.86         21.03        19.45\n",
       "7    G2,H2  смерть  59.0  1.0         30.68         31.13        30.91"
      ]
     },
     "execution_count": 53,
     "metadata": {},
     "output_type": "execute_result"
    }
   ],
   "source": [
    "results.head()"
   ]
  },
  {
   "cell_type": "markdown",
   "id": "dc55312a",
   "metadata": {},
   "source": [
    "### Распределение по полу и возрасту"
   ]
  },
  {
   "cell_type": "code",
   "execution_count": 57,
   "id": "e7e8c897",
   "metadata": {},
   "outputs": [
    {
     "data": {
      "text/plain": [
       "Text(0, 0.5, 'Возраст, года')"
      ]
     },
     "execution_count": 57,
     "metadata": {},
     "output_type": "execute_result"
    },
    {
     "data": {
      "image/png": "[encoded data removed]",
      "text/plain": [
       "<Figure size 576x576 with 1 Axes>"
      ]
     },
     "metadata": {
      "needs_background": "light"
     },
     "output_type": "display_data"
    }
   ],
   "source": [
    "fig,ax = plt.subplots(figsize = (8,8))\n",
    "sns.boxplot(data=results, x=\"Outcome\", y=\"Age\", boxprops={'alpha': 0.4},ax = ax,showfliers = False)\n",
    "sns.stripplot(data=results, x=\"Outcome\", y=\"Age\", dodge=True, ax=ax)\n",
    "ax.set_xlabel(\"Исход\")\n",
    "ax.set_ylabel(\"Возраст, года\")"
   ]
  },
  {
   "cell_type": "markdown",
   "id": "4653e148",
   "metadata": {},
   "source": [
    "| Группа           | Мужчины (n = 21) | Женщины (n = 24) |\n",
    "| ---------------- | ---------------- | ---------------- |\n",
    "| Выписка (n = 20) | 9                | 11               |\n",
    "| Смерть (n = 17)  | 9                | 8                |\n",
    "| Здоровые (n = 8) | 3                | 5                |"
   ]
  },
  {
   "cell_type": "markdown",
   "id": "34b910cf",
   "metadata": {},
   "source": [
    "### Результаты"
   ]
  },
  {
   "cell_type": "code",
   "execution_count": 73,
   "id": "38dfda3b",
   "metadata": {},
   "outputs": [
    {
     "data": {
      "image/png": "[encoded data removed]",
      "text/plain": [
       "<Figure size 576x576 with 1 Axes>"
      ]
     },
     "metadata": {
      "needs_background": "light"
     },
     "output_type": "display_data"
    }
   ],
   "source": [
    "fig,ax = plt.subplots(figsize = (8,8))\n",
    "sns.boxplot(data=results, x=\"Outcome\", y=\"Mean, pg/ml\", boxprops={'alpha': 0.4},ax = ax,showfliers = False)\n",
    "sns.stripplot(data=results, x=\"Outcome\", y=\"Mean, pg/ml\", dodge=True, ax=ax)\n",
    "ax.set_xlabel(\"Исход\")\n",
    "ax.set_ylabel(\"ИЛ-6, пг/мл\")\n",
    "plt.savefig(\"res.png\",dpi = 300)"
   ]
  },
  {
   "cell_type": "code",
   "execution_count": 75,
   "id": "b3f90004",
   "metadata": {},
   "outputs": [],
   "source": [
    "r1 = results.copy()\n",
    "for i in r1.index:\n",
    "    if samples.loc[i,\"Outcome\"] == \"здоровый\":    \n",
    "        r1.loc[i,\"Outcome\"] = samples.loc[i,\"Outcome\"]\n",
    "    else:\n",
    "        r1.loc[i,\"Outcome\"] = \"больной\"\n",
    "    r1.loc[i,\"Age\"] = samples.loc[i,\"Age\"]\n",
    "    r1.loc[i,\"Sex\"] = samples.loc[i,\"Sex\"]"
   ]
  },
  {
   "cell_type": "code",
   "execution_count": 76,
   "id": "e29a00b9",
   "metadata": {},
   "outputs": [
    {
     "data": {
      "image/png": "[encoded data removed]",
      "text/plain": [
       "<Figure size 576x576 with 1 Axes>"
      ]
     },
     "metadata": {
      "needs_background": "light"
     },
     "output_type": "display_data"
    }
   ],
   "source": [
    "fig,ax = plt.subplots(figsize = (8,8))\n",
    "sns.boxplot(data=r1, x=\"Outcome\", y=\"Mean, pg/ml\", boxprops={'alpha': 0.4},ax = ax,showfliers = False)\n",
    "sns.stripplot(data=r1, x=\"Outcome\", y=\"Mean, pg/ml\", dodge=True, ax=ax)\n",
    "ax.set_xlabel(\"Исход\")\n",
    "ax.set_ylabel(\"ИЛ-6, пг/мл\")\n",
    "plt.savefig(\"il6_1.png\",dpi = 300)"
   ]
  },
  {
   "cell_type": "markdown",
   "id": "ee58d008",
   "metadata": {},
   "source": [
    "## Проверка априорных гипотез"
   ]
  },
  {
   "cell_type": "markdown",
   "id": "c8ef5c66",
   "metadata": {},
   "source": [
    "### Проверка на нормальность распределения"
   ]
  },
  {
   "cell_type": "markdown",
   "id": "e0399596",
   "metadata": {},
   "source": [
    "Результаты проверки зависят от того считаем ли мы уровень ИЛ-6 > 125 пг/мл выбросами."
   ]
  },
  {
   "cell_type": "markdown",
   "id": "68618dff",
   "metadata": {},
   "source": [
    "#### Если не считаем"
   ]
  },
  {
   "cell_type": "code",
   "execution_count": 113,
   "id": "6a513441",
   "metadata": {},
   "outputs": [],
   "source": [
    "dead_with_high = results.loc[(results[\"Outcome\"] == \"смерть\"),\"Mean, pg/ml\"]\n",
    "survive_with_high = results.loc[(results[\"Outcome\"] == \"выписка\"),\"Mean, pg/ml\"]\n",
    "sick_with_high = results.loc[((results[\"Outcome\"] == \"смерть\") | (results[\"Outcome\"] == \"выписка\")),\"Mean, pg/ml\"]\n",
    "healthy_with_high = results.loc[(results[\"Outcome\"] == \"здоровый\"),\"Mean, pg/ml\"]"
   ]
  },
  {
   "cell_type": "code",
   "execution_count": 114,
   "id": "9d3448ef",
   "metadata": {},
   "outputs": [
    {
     "name": "stdout",
     "output_type": "stream",
     "text": [
      "ShapiroResult(statistic=0.7973724603652954, pvalue=0.00186758185736835)\n"
     ]
    },
    {
     "data": {
      "text/plain": [
       "((array([-1.7512281 , -1.29947609, -1.01741764, -0.79927841, -0.61386703,\n",
       "         -0.44755083, -0.29283065, -0.14485444,  0.        ,  0.14485444,\n",
       "          0.29283065,  0.44755083,  0.61386703,  0.79927841,  1.01741764,\n",
       "          1.29947609,  1.7512281 ]),\n",
       "  array([ 13.6 ,  13.65,  19.45,  30.91,  35.07,  38.66,  41.15,  41.56,\n",
       "          47.64,  52.78,  53.02,  53.48,  54.14,  57.35,  65.35,  68.64,\n",
       "         144.2 ])),\n",
       " (27.51478588756497, 48.86176470588236, 0.8775627782505899))"
      ]
     },
     "execution_count": 114,
     "metadata": {},
     "output_type": "execute_result"
    },
    {
     "data": {
      "image/png": "[encoded data removed]",
      "text/plain": [
       "<Figure size 432x288 with 1 Axes>"
      ]
     },
     "metadata": {
      "needs_background": "light"
     },
     "output_type": "display_data"
    }
   ],
   "source": [
    "print(sp.stats.shapiro(dead_with_high))\n",
    "sp.stats.probplot(dead_with_high,plot = plt)"
   ]
  },
  {
   "cell_type": "code",
   "execution_count": 115,
   "id": "ab777b25",
   "metadata": {},
   "outputs": [
    {
     "name": "stdout",
     "output_type": "stream",
     "text": [
      "ShapiroResult(statistic=0.72792649269104, pvalue=8.714490104466677e-05)\n"
     ]
    },
    {
     "data": {
      "text/plain": [
       "((array([-1.8241636 , -1.38768012, -1.11829229, -0.91222575, -0.73908135,\n",
       "         -0.5857176 , -0.44506467, -0.31273668, -0.18568928, -0.06158146,\n",
       "          0.06158146,  0.18568928,  0.31273668,  0.44506467,  0.5857176 ,\n",
       "          0.73908135,  0.91222575,  1.11829229,  1.38768012,  1.8241636 ]),\n",
       "  array([  7.36,   7.88,  25.57,  25.78,  26.83,  29.18,  32.36,  32.68,\n",
       "          34.98,  36.89,  41.21,  41.49,  41.56,  46.18,  57.34,  57.4 ,\n",
       "          58.43,  73.33, 146.45, 175.8 ])),\n",
       " (36.932200631836686, 49.934999999999995, 0.8431906428725423))"
      ]
     },
     "execution_count": 115,
     "metadata": {},
     "output_type": "execute_result"
    },
    {
     "data": {
      "image/png": "[encoded data removed]",
      "text/plain": [
       "<Figure size 432x288 with 1 Axes>"
      ]
     },
     "metadata": {
      "needs_background": "light"
     },
     "output_type": "display_data"
    }
   ],
   "source": [
    "print(sp.stats.shapiro(survive_with_high))\n",
    "sp.stats.probplot(survive_with_high,plot = plt)"
   ]
  },
  {
   "cell_type": "code",
   "execution_count": 116,
   "id": "0e322d35",
   "metadata": {},
   "outputs": [
    {
     "name": "stdout",
     "output_type": "stream",
     "text": [
      "ShapiroResult(statistic=0.7563283443450928, pvalue=1.9274734768259805e-06)\n"
     ]
    },
    {
     "data": {
      "text/plain": [
       "((array([-2.0844567 , -1.69509426, -1.46257551, -1.28983027, -1.14880688,\n",
       "         -1.0275498 , -0.91978012, -0.82175965, -0.73106454, -0.646021  ,\n",
       "         -0.56541462, -0.48832761, -0.41404133, -0.34197479, -0.27164383,\n",
       "         -0.20263297, -0.13457495, -0.06713532,  0.        ,  0.06713532,\n",
       "          0.13457495,  0.20263297,  0.27164383,  0.34197479,  0.41404133,\n",
       "          0.48832761,  0.56541462,  0.646021  ,  0.73106454,  0.82175965,\n",
       "          0.91978012,  1.0275498 ,  1.14880688,  1.28983027,  1.46257551,\n",
       "          1.69509426,  2.0844567 ]),\n",
       "  array([  7.36,   7.88,  13.6 ,  13.65,  19.45,  25.57,  25.78,  26.83,\n",
       "          29.18,  30.91,  32.36,  32.68,  34.98,  35.07,  36.89,  38.66,\n",
       "          41.15,  41.21,  41.49,  41.56,  41.56,  46.18,  47.64,  52.78,\n",
       "          53.02,  53.48,  54.14,  57.34,  57.35,  57.4 ,  58.43,  65.35,\n",
       "          68.64,  73.33, 144.2 , 146.45, 175.8 ])),\n",
       " (32.18002193424201, 49.4418918918919, 0.8632756095253724))"
      ]
     },
     "execution_count": 116,
     "metadata": {},
     "output_type": "execute_result"
    },
    {
     "data": {
      "image/png": "[encoded data removed]",
      "text/plain": [
       "<Figure size 432x288 with 1 Axes>"
      ]
     },
     "metadata": {
      "needs_background": "light"
     },
     "output_type": "display_data"
    }
   ],
   "source": [
    "print(sp.stats.shapiro(sick_with_high))\n",
    "sp.stats.probplot(sick_with_high,plot = plt)"
   ]
  },
  {
   "cell_type": "code",
   "execution_count": 117,
   "id": "20c6c05d",
   "metadata": {},
   "outputs": [
    {
     "name": "stdout",
     "output_type": "stream",
     "text": [
      "ShapiroResult(statistic=0.9231124520301819, pvalue=0.45562413334846497)\n"
     ]
    },
    {
     "data": {
      "text/plain": [
       "((array([-1.38519806, -0.83757156, -0.46579419, -0.15039337,  0.15039337,\n",
       "          0.46579419,  0.83757156,  1.38519806]),\n",
       "  array([ 4.86,  6.06,  7.31,  9.02,  9.36, 12.31, 15.53, 16.01])),\n",
       " (4.503134064185856, 10.057500000000001, 0.9728136559128856))"
      ]
     },
     "execution_count": 117,
     "metadata": {},
     "output_type": "execute_result"
    },
    {
     "data": {
      "image/png": "[encoded data removed]",
      "text/plain": [
       "<Figure size 432x288 with 1 Axes>"
      ]
     },
     "metadata": {
      "needs_background": "light"
     },
     "output_type": "display_data"
    }
   ],
   "source": [
    "print(sp.stats.shapiro(healthy_with_high))\n",
    "sp.stats.probplot(healthy_with_high,plot = plt)"
   ]
  },
  {
   "cell_type": "markdown",
   "id": "4b7416ff",
   "metadata": {},
   "source": [
    "#### Если считаем"
   ]
  },
  {
   "cell_type": "code",
   "execution_count": 118,
   "id": "2e0cf401",
   "metadata": {},
   "outputs": [],
   "source": [
    "dead_without_high = results.loc[(results[\"Outcome\"] == \"смерть\") & (results[\"Mean, pg/ml\"] < 125),\"Mean, pg/ml\"]\n",
    "survive_without_high = results.loc[(results[\"Outcome\"] == \"выписка\") & (results[\"Mean, pg/ml\"] < 125),\"Mean, pg/ml\"]\n",
    "sick_without_high = results.loc[((results[\"Outcome\"] == \"смерть\") | (results[\"Outcome\"] == \"выписка\")) & (results[\"Mean, pg/ml\"] < 125),\"Mean, pg/ml\"]\n",
    "healthy_without_high = results.loc[(results[\"Outcome\"] == \"здоровый\") & (results[\"Mean, pg/ml\"] < 125),\"Mean, pg/ml\"]"
   ]
  },
  {
   "cell_type": "code",
   "execution_count": 119,
   "id": "8b32f0dc",
   "metadata": {},
   "outputs": [
    {
     "name": "stdout",
     "output_type": "stream",
     "text": [
      "ShapiroResult(statistic=0.940981924533844, pvalue=0.3612158000469208)\n"
     ]
    },
    {
     "data": {
      "text/plain": [
       "((array([-1.72352605, -1.26569652, -0.97848645, -0.75533862, -0.56472935,\n",
       "         -0.39279634, -0.23181469, -0.07666006,  0.07666006,  0.23181469,\n",
       "          0.39279634,  0.56472935,  0.75533862,  0.97848645,  1.26569652,\n",
       "          1.72352605]),\n",
       "  array([13.6 , 13.65, 19.45, 30.91, 35.07, 38.66, 41.15, 41.56, 47.64,\n",
       "         52.78, 53.02, 53.48, 54.14, 57.35, 65.35, 68.64])),\n",
       " (17.648001593640767, 42.903125, 0.977087409833935))"
      ]
     },
     "execution_count": 119,
     "metadata": {},
     "output_type": "execute_result"
    },
    {
     "data": {
      "image/png": "[encoded data removed]",
      "text/plain": [
       "<Figure size 432x288 with 1 Axes>"
      ]
     },
     "metadata": {
      "needs_background": "light"
     },
     "output_type": "display_data"
    }
   ],
   "source": [
    "print(sp.stats.shapiro(dead_without_high))\n",
    "sp.stats.probplot(dead_without_high,plot = plt)"
   ]
  },
  {
   "cell_type": "code",
   "execution_count": 120,
   "id": "755b36b4",
   "metadata": {},
   "outputs": [
    {
     "name": "stdout",
     "output_type": "stream",
     "text": [
      "ShapiroResult(statistic=0.9634000062942505, pvalue=0.6683553457260132)\n"
     ]
    },
    {
     "data": {
      "text/plain": [
       "((array([-1.77709673, -1.33087857, -1.05345661, -0.83977496, -0.6589352 ,\n",
       "         -0.49749478, -0.34812942, -0.20618578, -0.06829777,  0.06829777,\n",
       "          0.20618578,  0.34812942,  0.49749478,  0.6589352 ,  0.83977496,\n",
       "          1.05345661,  1.33087857,  1.77709673]),\n",
       "  array([ 7.36,  7.88, 25.57, 25.78, 26.83, 29.18, 32.36, 32.68, 34.98,\n",
       "         36.89, 41.21, 41.49, 41.56, 46.18, 57.34, 57.4 , 58.43, 73.33])),\n",
       " (17.679068580211705, 37.580555555555556, 0.9805158159874794))"
      ]
     },
     "execution_count": 120,
     "metadata": {},
     "output_type": "execute_result"
    },
    {
     "data": {
      "image/png": "[encoded data removed]",
      "text/plain": [
       "<Figure size 432x288 with 1 Axes>"
      ]
     },
     "metadata": {
      "needs_background": "light"
     },
     "output_type": "display_data"
    }
   ],
   "source": [
    "print(sp.stats.shapiro(survive_without_high))\n",
    "sp.stats.probplot(survive_without_high,plot = plt)"
   ]
  },
  {
   "cell_type": "code",
   "execution_count": 121,
   "id": "e4937c65",
   "metadata": {},
   "outputs": [
    {
     "name": "stdout",
     "output_type": "stream",
     "text": [
      "ShapiroResult(statistic=0.9791789650917053, pvalue=0.7467572093009949)\n"
     ]
    },
    {
     "data": {
      "text/plain": [
       "((array([-2.0500397 , -1.65502516, -1.41824878, -1.24178231, -1.09728771,\n",
       "         -0.97267593, -0.86159007, -0.76023875, -0.66615719, -0.57763676,\n",
       "         -0.49343093, -0.4125902 , -0.33436303, -0.25813285, -0.18337584,\n",
       "         -0.10963119, -0.03647875,  0.03647875,  0.10963119,  0.18337584,\n",
       "          0.25813285,  0.33436303,  0.4125902 ,  0.49343093,  0.57763676,\n",
       "          0.66615719,  0.76023875,  0.86159007,  0.97267593,  1.09728771,\n",
       "          1.24178231,  1.41824878,  1.65502516,  2.0500397 ]),\n",
       "  array([ 7.36,  7.88, 13.6 , 13.65, 19.45, 25.57, 25.78, 26.83, 29.18,\n",
       "         30.91, 32.36, 32.68, 34.98, 35.07, 36.89, 38.66, 41.15, 41.21,\n",
       "         41.49, 41.56, 41.56, 46.18, 47.64, 52.78, 53.02, 53.48, 54.14,\n",
       "         57.34, 57.35, 57.4 , 58.43, 65.35, 68.64, 73.33])),\n",
       " (17.45867310496335, 40.08529411764706, 0.9932140123518024))"
      ]
     },
     "execution_count": 121,
     "metadata": {},
     "output_type": "execute_result"
    },
    {
     "data": {
      "image/png": "[encoded data removed]",
      "text/plain": [
       "<Figure size 432x288 with 1 Axes>"
      ]
     },
     "metadata": {
      "needs_background": "light"
     },
     "output_type": "display_data"
    }
   ],
   "source": [
    "print(sp.stats.shapiro(sick_without_high))\n",
    "sp.stats.probplot(sick_without_high,plot = plt)"
   ]
  },
  {
   "cell_type": "code",
   "execution_count": 122,
   "id": "d9d104fc",
   "metadata": {},
   "outputs": [
    {
     "name": "stdout",
     "output_type": "stream",
     "text": [
      "ShapiroResult(statistic=0.9231124520301819, pvalue=0.45562413334846497)\n"
     ]
    },
    {
     "data": {
      "text/plain": [
       "((array([-1.38519806, -0.83757156, -0.46579419, -0.15039337,  0.15039337,\n",
       "          0.46579419,  0.83757156,  1.38519806]),\n",
       "  array([ 4.86,  6.06,  7.31,  9.02,  9.36, 12.31, 15.53, 16.01])),\n",
       " (4.503134064185856, 10.057500000000001, 0.9728136559128856))"
      ]
     },
     "execution_count": 122,
     "metadata": {},
     "output_type": "execute_result"
    },
    {
     "data": {
      "image/png": "[encoded data removed]",
      "text/plain": [
       "<Figure size 432x288 with 1 Axes>"
      ]
     },
     "metadata": {
      "needs_background": "light"
     },
     "output_type": "display_data"
    }
   ],
   "source": [
    "print(sp.stats.shapiro(healthy_without_high))\n",
    "sp.stats.probplot(healthy_without_high,plot = plt)"
   ]
  },
  {
   "cell_type": "markdown",
   "id": "ab479e4e",
   "metadata": {},
   "source": [
    "Если мы считаем высокие значения ИЛ-6 выбросами, то все группы имеют нормальное распределение. Если нет, только группа здоровых имеет нормальное распределение, хотя малая величина группы позволяет сомневаться в этом. Гипотезы будут проверены как параметрическими критериями, так и непараметрическими. Мы рекомендуем использовать в качестве референтных непараметрические критерии."
   ]
  },
  {
   "cell_type": "markdown",
   "id": "d8be3ef8",
   "metadata": {},
   "source": [
    "### Проверка статистическим критерием"
   ]
  },
  {
   "cell_type": "code",
   "execution_count": 123,
   "id": "60ab69a9",
   "metadata": {},
   "outputs": [
    {
     "data": {
      "text/plain": [
       "MannwhitneyuResult(statistic=190.5, pvalue=0.27107728855503743)"
      ]
     },
     "execution_count": 123,
     "metadata": {},
     "output_type": "execute_result"
    }
   ],
   "source": [
    "sp.stats.mannwhitneyu(dead_with_high, survive_with_high, use_continuity = True, alternative = \"greater\")"
   ]
  },
  {
   "cell_type": "code",
   "execution_count": 124,
   "id": "e408348f",
   "metadata": {},
   "outputs": [
    {
     "data": {
      "text/plain": [
       "Ttest_indResult(statistic=0.9103588616246996, pvalue=0.1847199613537608)"
      ]
     },
     "execution_count": 124,
     "metadata": {},
     "output_type": "execute_result"
    }
   ],
   "source": [
    "sp.stats.ttest_ind(dead_without_high, survive_without_high, alternative = \"greater\", random_state = 555)"
   ]
  },
  {
   "cell_type": "code",
   "execution_count": 125,
   "id": "65a34f3f",
   "metadata": {},
   "outputs": [
    {
     "data": {
      "text/plain": [
       "MannwhitneyuResult(statistic=150.0, pvalue=4.375656549569593e-05)"
      ]
     },
     "execution_count": 125,
     "metadata": {},
     "output_type": "execute_result"
    }
   ],
   "source": [
    "sp.stats.mannwhitneyu(survive_with_high, healthy_with_high, use_continuity = True, alternative = \"greater\")"
   ]
  },
  {
   "cell_type": "code",
   "execution_count": 126,
   "id": "536d4179",
   "metadata": {},
   "outputs": [
    {
     "data": {
      "text/plain": [
       "Ttest_indResult(statistic=4.460742655987436, pvalue=8.183262055374946e-05)"
      ]
     },
     "execution_count": 126,
     "metadata": {},
     "output_type": "execute_result"
    }
   ],
   "source": [
    "sp.stats.ttest_ind(survive_without_high, healthy_without_high, alternative = \"greater\", random_state = 555)"
   ]
  },
  {
   "cell_type": "code",
   "execution_count": 127,
   "id": "dfb469d1",
   "metadata": {},
   "outputs": [
    {
     "data": {
      "text/plain": [
       "MannwhitneyuResult(statistic=282.0, pvalue=3.695407164693908e-05)"
      ]
     },
     "execution_count": 127,
     "metadata": {},
     "output_type": "execute_result"
    }
   ],
   "source": [
    "sp.stats.mannwhitneyu(sick_with_high, healthy_with_high, use_continuity = True, alternative = \"greater\")"
   ]
  },
  {
   "cell_type": "code",
   "execution_count": 128,
   "id": "050305f5",
   "metadata": {},
   "outputs": [
    {
     "data": {
      "text/plain": [
       "Ttest_indResult(statistic=4.925368129574753, pvalue=7.507397385592211e-06)"
      ]
     },
     "execution_count": 128,
     "metadata": {},
     "output_type": "execute_result"
    }
   ],
   "source": [
    "sp.stats.ttest_ind(sick_without_high, healthy_without_high, alternative = \"greater\", random_state = 555)"
   ]
  },
  {
   "cell_type": "markdown",
   "id": "7c4e9c72",
   "metadata": {},
   "source": [
    "Несмотря на споры по поводу вида распределения, выбор критерия не влияет на конечный результат. Визуально видно, что поправки на множественное сравнения также не повлияют на результат."
   ]
  },
  {
   "cell_type": "markdown",
   "id": "f820f574",
   "metadata": {},
   "source": [
    "### Выводы"
   ]
  },
  {
   "cell_type": "markdown",
   "id": "fdead7f8",
   "metadata": {},
   "source": [
    "1. ИЛ-6 участвует в воспалительном процессе при COVID-19.\n",
    "2. Эксперимент проведен корректно, так как уровень ИЛ-6 в плазме крови у здоровых больных меньше, чем у больных: как умерших, так и выздоровевших.\n",
    "3. ИЛ-6 изолированно не может использоваться для прогноза исхода заболевания.\n"
   ]
  },
  {
   "cell_type": "markdown",
   "id": "2c5ed1f3",
   "metadata": {},
   "source": [
    "## Проверка апостериорных гипотез"
   ]
  },
  {
   "cell_type": "markdown",
   "id": "26a79122",
   "metadata": {},
   "source": [
    "Результаты ИФА и MAGPIX"
   ]
  },
  {
   "cell_type": "code",
   "execution_count": 138,
   "id": "eb8d32c6",
   "metadata": {},
   "outputs": [
    {
     "data": {
      "text/html": [
       "<div>\n",
       "<style scoped>\n",
       "    .dataframe tbody tr th:only-of-type {\n",
       "        vertical-align: middle;\n",
       "    }\n",
       "\n",
       "    .dataframe tbody tr th {\n",
       "        vertical-align: top;\n",
       "    }\n",
       "\n",
       "    .dataframe thead th {\n",
       "        text-align: right;\n",
       "    }\n",
       "</style>\n",
       "<table border=\"1\" class=\"dataframe\">\n",
       "  <thead>\n",
       "    <tr style=\"text-align: right;\">\n",
       "      <th></th>\n",
       "      <th>ID</th>\n",
       "      <th>Holes</th>\n",
       "      <th>Outcome</th>\n",
       "      <th>Age</th>\n",
       "      <th>Sex</th>\n",
       "      <th>Try_1, pg/ml</th>\n",
       "      <th>Try_2, pg/ml</th>\n",
       "      <th>ELISA, pg/ml</th>\n",
       "      <th>xMAP, pg/ml</th>\n",
       "    </tr>\n",
       "  </thead>\n",
       "  <tbody>\n",
       "    <tr>\n",
       "      <th>0</th>\n",
       "      <td>7</td>\n",
       "      <td>G2,H2</td>\n",
       "      <td>смерть</td>\n",
       "      <td>59</td>\n",
       "      <td>1</td>\n",
       "      <td>30.68</td>\n",
       "      <td>31.13</td>\n",
       "      <td>30.91</td>\n",
       "      <td>60.042296</td>\n",
       "    </tr>\n",
       "    <tr>\n",
       "      <th>1</th>\n",
       "      <td>55</td>\n",
       "      <td>G7,H7</td>\n",
       "      <td>тяжелый</td>\n",
       "      <td>62</td>\n",
       "      <td>1</td>\n",
       "      <td>26.29</td>\n",
       "      <td>24.84</td>\n",
       "      <td>25.57</td>\n",
       "      <td>20.481909</td>\n",
       "    </tr>\n",
       "    <tr>\n",
       "      <th>2</th>\n",
       "      <td>70</td>\n",
       "      <td>H1,B3</td>\n",
       "      <td>смерть</td>\n",
       "      <td>50</td>\n",
       "      <td>1</td>\n",
       "      <td>51.69</td>\n",
       "      <td>54.35</td>\n",
       "      <td>53.02</td>\n",
       "      <td>48.805099</td>\n",
       "    </tr>\n",
       "    <tr>\n",
       "      <th>3</th>\n",
       "      <td>110</td>\n",
       "      <td>E2,F2</td>\n",
       "      <td>смерть</td>\n",
       "      <td>57</td>\n",
       "      <td>1</td>\n",
       "      <td>17.86</td>\n",
       "      <td>21.03</td>\n",
       "      <td>19.45</td>\n",
       "      <td>7.412301</td>\n",
       "    </tr>\n",
       "    <tr>\n",
       "      <th>4</th>\n",
       "      <td>129</td>\n",
       "      <td>C3,D3</td>\n",
       "      <td>смерть</td>\n",
       "      <td>62</td>\n",
       "      <td>1</td>\n",
       "      <td>133.30</td>\n",
       "      <td>155.10</td>\n",
       "      <td>144.20</td>\n",
       "      <td>144.136971</td>\n",
       "    </tr>\n",
       "  </tbody>\n",
       "</table>\n",
       "</div>"
      ],
      "text/plain": [
       "    ID  Holes  Outcome  Age  Sex  Try_1, pg/ml  Try_2, pg/ml  ELISA, pg/ml  \\\n",
       "0    7  G2,H2   смерть   59    1         30.68         31.13         30.91   \n",
       "1   55  G7,H7  тяжелый   62    1         26.29         24.84         25.57   \n",
       "2   70  H1,B3   смерть   50    1         51.69         54.35         53.02   \n",
       "3  110  E2,F2   смерть   57    1         17.86         21.03         19.45   \n",
       "4  129  C3,D3   смерть   62    1        133.30        155.10        144.20   \n",
       "\n",
       "   xMAP, pg/ml  \n",
       "0    60.042296  \n",
       "1    20.481909  \n",
       "2    48.805099  \n",
       "3     7.412301  \n",
       "4   144.136971  "
      ]
     },
     "execution_count": 138,
     "metadata": {},
     "output_type": "execute_result"
    }
   ],
   "source": [
    "result = pd.read_excel(\"~/Documents/Piter/Immunology/tables/results_xmap_and_vector.xlsx\")\n",
    "result.head()"
   ]
  },
  {
   "cell_type": "markdown",
   "id": "86e7ff3b",
   "metadata": {},
   "source": [
    "### Сопоставимость методов"
   ]
  },
  {
   "cell_type": "markdown",
   "id": "6fff7b94",
   "metadata": {
    "citation-manager": {
     "citations": {
      "8arjk": [
       {
        "id": "13080035/GRKMZUTZ",
        "source": "zotero"
       }
      ],
      "lvnin": [
       {
        "id": "13080035/YT8T2TDV",
        "source": "zotero"
       }
      ],
      "tpglv": [
       {
        "id": "13080035/PXBMYYI5",
        "source": "zotero"
       }
      ]
     }
    },
    "tags": []
   },
   "source": [
    "Сопоставимость методов будем смотреть следующими способами:\n",
    "1. Коэффициент корреляции Спирмена. Применение коэффициента корреляции для сравнения двух методов не вполне корректно, но ввиду распространенности этого метода в медицинской и технической литературе мы выбрали включить его в анализ.\n",
    "2. Тест Вилкоксона\n",
    "3. График Бланда-Альтмана<cite id=\"8arjk\"><a href=\"#zotero%7C13080035%2FGRKMZUTZ\">(BLAND &#38; ALTMAN, 1986)</a></cite>\n",
    "4. Регрессия Пассинга-Баблока<cite id=\"tpglv\"><a href=\"#zotero%7C13080035%2FPXBMYYI5\">(Passing &#38; Bablok, 1983)</a></cite><cite id=\"lvnin\"><a href=\"#zotero%7C13080035%2FYT8T2TDV\">(Passing &#38; Bablok, 1984)</a></cite>\n",
    "\n",
    "\n",
    "MAGPIX условно считается референсным, так как эксперимент с этой тест-системой выполнялся на более свежих образцах плазмы более опытным экспериментатором"
   ]
  },
  {
   "cell_type": "markdown",
   "id": "972f35c0",
   "metadata": {},
   "source": [
    "#### Коэффициент корреляции Спирмена"
   ]
  },
  {
   "cell_type": "code",
   "execution_count": 142,
   "id": "4282293e",
   "metadata": {},
   "outputs": [
    {
     "data": {
      "text/plain": [
       "Text(50, 200, 'Searman r = 0.87\\np-value = 0.0\\nRegression p-value = 0.0')"
      ]
     },
     "execution_count": 142,
     "metadata": {},
     "output_type": "execute_result"
    },
    {
     "data": {
      "image/png": "[encoded data removed]",
      "text/plain": [
       "<Figure size 576x576 with 1 Axes>"
      ]
     },
     "metadata": {
      "needs_background": "light"
     },
     "output_type": "display_data"
    }
   ],
   "source": [
    "fig, ax = plt.subplots(figsize = (8,8))\n",
    "elisa_spearman, elisa_p = sp.stats.spearmanr(a = result[\"ELISA, pg/ml\"], b = result[\"xMAP, pg/ml\"])\n",
    "res = sp.stats.linregress(x = result[\"ELISA, pg/ml\"],y = result[\"xMAP, pg/ml\"])\n",
    "text = \"Searman r = \" + str(round(elisa_spearman,2)) + \"\\n\" + \"p-value = \" + str(round(elisa_p,5)) + \"\\nRegression p-value = \" + str(round(res.pvalue,5))\n",
    "sns.scatterplot(data = result, x = \"ELISA, pg/ml\", y = \"xMAP, pg/ml\", hue = \"Outcome\", ax =ax)\n",
    "x = result[\"ELISA, pg/ml\"]\n",
    "y = res.intercept + res.slope*result[\"ELISA, pg/ml\"]\n",
    "plt.plot(x, y, 'r', label='fitted line')\n",
    "plt.text(50,200,text)"
   ]
  },
  {
   "cell_type": "markdown",
   "id": "a9635bec",
   "metadata": {},
   "source": [
    "#### Тест Вилкоксона"
   ]
  },
  {
   "cell_type": "code",
   "execution_count": 144,
   "id": "c456ec00",
   "metadata": {},
   "outputs": [
    {
     "data": {
      "text/plain": [
       "WilcoxonResult(statistic=195.0, pvalue=0.0002784212790652485)"
      ]
     },
     "execution_count": 144,
     "metadata": {},
     "output_type": "execute_result"
    }
   ],
   "source": [
    "sp.stats.wilcoxon(result[\"ELISA, pg/ml\"], result[\"xMAP, pg/ml\"], correction = True)"
   ]
  },
  {
   "cell_type": "markdown",
   "id": "b63a0ce8",
   "metadata": {},
   "source": [
    "#### График Бланда-Альтмана"
   ]
  },
  {
   "cell_type": "markdown",
   "id": "13401d04",
   "metadata": {},
   "source": [
    "Для графика Бланда-Альтмана необходимо, чтобы разница между двумя методами была распределена нормально. "
   ]
  },
  {
   "cell_type": "code",
   "execution_count": 147,
   "id": "60e6e5c9",
   "metadata": {},
   "outputs": [
    {
     "data": {
      "text/plain": [
       "(array([1., 0., 0., 0., 0., 2., 0., 1., 1., 3., 8., 8., 5., 2., 3., 2., 3.,\n",
       "        0., 0., 2., 1., 1., 0.]),\n",
       " array([-30, -27, -24, -21, -18, -15, -12,  -9,  -6,  -3,   0,   3,   6,\n",
       "          9,  12,  15,  18,  21,  24,  27,  30,  33,  36,  39]),\n",
       " <BarContainer object of 23 artists>)"
      ]
     },
     "execution_count": 147,
     "metadata": {},
     "output_type": "execute_result"
    },
    {
     "data": {
      "image/png": "[encoded data removed]",
      "text/plain": [
       "<Figure size 432x288 with 1 Axes>"
      ]
     },
     "metadata": {
      "needs_background": "light"
     },
     "output_type": "display_data"
    }
   ],
   "source": [
    "result[\"Diff\"] = result[\"ELISA, pg/ml\"] - result[\"xMAP, pg/ml\"]\n",
    "plt.hist(result[\"Diff\"], bins=range(-30,40,3))"
   ]
  },
  {
   "cell_type": "code",
   "execution_count": 148,
   "id": "9694e327",
   "metadata": {},
   "outputs": [
    {
     "data": {
      "text/plain": [
       "ShapiroResult(statistic=0.9151248931884766, pvalue=0.0029017869383096695)"
      ]
     },
     "execution_count": 148,
     "metadata": {},
     "output_type": "execute_result"
    }
   ],
   "source": [
    "sp.stats.shapiro(result[\"Diff\"])"
   ]
  },
  {
   "cell_type": "code",
   "execution_count": 149,
   "id": "d65fdf43",
   "metadata": {},
   "outputs": [
    {
     "data": {
      "text/plain": [
       "((array([-2.16261902, -1.78552545, -1.56210618, -1.397212  , -1.26342445,\n",
       "         -1.1490787 , -1.04806126, -0.95674251, -0.87277802, -0.79455752,\n",
       "         -0.72092154, -0.65100286, -0.58413203, -0.51977796, -0.45750906,\n",
       "         -0.39696667, -0.33784646, -0.27988499, -0.22284956, -0.16653055,\n",
       "         -0.11073524, -0.05528282,  0.        ,  0.05528282,  0.11073524,\n",
       "          0.16653055,  0.22284956,  0.27988499,  0.33784646,  0.39696667,\n",
       "          0.45750906,  0.51977796,  0.58413203,  0.65100286,  0.72092154,\n",
       "          0.79455752,  0.87277802,  0.95674251,  1.04806126,  1.1490787 ,\n",
       "          1.26342445,  1.397212  ,  1.56210618,  1.78552545,  2.16261902]),\n",
       "  array([-44.2808    , -29.13229574, -13.8038491 , -13.09559303,\n",
       "          -6.721808  ,  -3.84382361,  -1.19848503,  -0.20797493,\n",
       "          -0.1030144 ,   0.06302913,   0.23861845,   0.33807919,\n",
       "           2.01117685,   2.1925812 ,   2.21902093,   2.487163  ,\n",
       "           2.7506151 ,   3.0761598 ,   3.3581629 ,   4.1268331 ,\n",
       "           4.21490081,   4.45508894,   4.75780982,   4.86      ,\n",
       "           5.08809087,   6.28      ,   6.5996361 ,   6.88339407,\n",
       "           7.74339043,   8.3096361 ,   9.53096043,  10.18000009,\n",
       "          12.03769946,  12.53191038,  14.93076337,  15.20818342,\n",
       "          17.59515972,  18.12609811,  18.1452818 ,  20.05524804,\n",
       "          28.78048781,  29.63606573,  31.11434807,  34.27065731,\n",
       "          46.20152   ])),\n",
       " (14.780667372384976, 6.400225037734283, 0.9469916562343702))"
      ]
     },
     "execution_count": 149,
     "metadata": {},
     "output_type": "execute_result"
    },
    {
     "data": {
      "image/png": "[encoded data removed]",
      "text/plain": [
       "<Figure size 432x288 with 1 Axes>"
      ]
     },
     "metadata": {
      "needs_background": "light"
     },
     "output_type": "display_data"
    }
   ],
   "source": [
    "sp.stats.probplot(result[\"Diff\"],plot = plt)"
   ]
  },
  {
   "cell_type": "markdown",
   "id": "fc9f4314",
   "metadata": {},
   "source": [
    "Как можно видеть, распределение разницы между двумя методами распределено не по нормальному закону. Мы применим преобразование, сводящее распределение к нормальному, взяв квадратный корень от значений концентрации. Однако поскольку корень из концентраций несет исключительно математическое значение, и не имеет биологического смысла, мы дополнительно прилагаем график и для неизменных концентраций."
   ]
  },
  {
   "cell_type": "markdown",
   "id": "061cc0c5",
   "metadata": {},
   "source": [
    "##### Обычные остатки"
   ]
  },
  {
   "cell_type": "code",
   "execution_count": 157,
   "id": "a8e48824",
   "metadata": {},
   "outputs": [
    {
     "data": {
      "text/plain": [
       "[]"
      ]
     },
     "execution_count": 157,
     "metadata": {},
     "output_type": "execute_result"
    },
    {
     "data": {
      "image/png": "[encoded data removed]",
      "text/plain": [
       "<Figure size 576x576 with 1 Axes>"
      ]
     },
     "metadata": {
      "needs_background": "light"
     },
     "output_type": "display_data"
    }
   ],
   "source": [
    "fig, ax = plt.subplots(figsize = (8,8))\n",
    "#result[\"sqrt_Vector\"] = np.sqrt(result[\"Mean, pg/ml\"])\n",
    "#result[\"sqrt_xMAP\"] = np.sqrt(result[\"xMAP, pg/ml\"])\n",
    "#result[\"delta_sqrt\"] = result[\"sqrt_Vector\"] - result[\"sqrt_xMAP\"]\n",
    "#sp.stats.shapiro(result[\"delta_sqrt\"])\n",
    "t = sp.stats.t(df = len(result.index) - 1).ppf(0.975)\n",
    "se_mean = np.std(result[\"Diff\"]) / np.sqrt(len(result.index))\n",
    "se_limit = np.std(result[\"Diff\"]) * np.sqrt(3) / np.sqrt(len(result.index))\n",
    "sm.graphics.mean_diff_plot(result[\"ELISA, pg/ml\"],result[\"xMAP, pg/ml\"], ax = ax)\n",
    "x = list(range(0,200))\n",
    "upper = result[\"Diff\"].mean() + result[\"Diff\"].std() * 1.96\n",
    "lower = result[\"Diff\"].mean() - result[\"Diff\"].std() * 1.96\n",
    "plt.plot(x,np.repeat(0,len(x)),color = \"r\", linestyle = \"--\")\n",
    "ax.fill_between(x, np.repeat(result[\"Diff\"].mean() - t*se_mean,len(x)), np.repeat(result[\"Diff\"].mean() + t*se_mean,len(x)), color = \"grey\", alpha = 0.3)\n",
    "ax.fill_between(x, np.repeat(upper - t*se_limit,len(x)), np.repeat(upper + t*se_limit,len(x)), color = \"grey\", alpha = 0.3)\n",
    "ax.fill_between(x, np.repeat(lower - t*se_limit,len(x)), np.repeat(lower + t*se_limit,len(x)), color = \"grey\", alpha = 0.3)\n",
    "plt.plot()"
   ]
  },
  {
   "cell_type": "markdown",
   "id": "e7b81594",
   "metadata": {},
   "source": [
    "##### Корень из остатков"
   ]
  },
  {
   "cell_type": "code",
   "execution_count": 160,
   "id": "d9f948fc",
   "metadata": {},
   "outputs": [
    {
     "name": "stdout",
     "output_type": "stream",
     "text": [
      "ShapiroResult(statistic=0.9743266701698303, pvalue=0.4111796021461487)\n"
     ]
    }
   ],
   "source": [
    "result[\"sqrt_Vector\"] = np.sqrt(result[\"ELISA, pg/ml\"])\n",
    "result[\"sqrt_xMAP\"] = np.sqrt(result[\"xMAP, pg/ml\"])\n",
    "result[\"delta_sqrt\"] = result[\"sqrt_Vector\"] - result[\"sqrt_xMAP\"]\n",
    "print(sp.stats.shapiro(result[\"delta_sqrt\"]))\n",
    "t = sp.stats.t(df = len(result.index) - 1).ppf(0.975)\n",
    "se_mean = np.std(result[\"delta_sqrt\"]) / np.sqrt(len(result.index))\n",
    "se_limit = np.std(result[\"delta_sqrt\"]) * np.sqrt(3) / np.sqrt(len(result.index))"
   ]
  },
  {
   "cell_type": "code",
   "execution_count": 163,
   "id": "8e4fa8df",
   "metadata": {},
   "outputs": [
    {
     "data": {
      "image/png": "[encoded data removed]",
      "text/plain": [
       "<Figure size 576x576 with 1 Axes>"
      ]
     },
     "metadata": {
      "needs_background": "light"
     },
     "output_type": "display_data"
    }
   ],
   "source": [
    "fig, ax = plt.subplots(figsize = (8,8))\n",
    "sm.graphics.mean_diff_plot(result[\"sqrt_Vector\"],result[\"sqrt_xMAP\"], ax = ax)\n",
    "x = list(range(1,15))\n",
    "upper = result[\"delta_sqrt\"].mean() + result[\"delta_sqrt\"].std() * 1.96\n",
    "lower = result[\"delta_sqrt\"].mean() - result[\"delta_sqrt\"].std() * 1.96\n",
    "plt.plot(x,np.repeat(0,len(x)),color = \"r\", linestyle = \"--\")\n",
    "ax.fill_between(x, np.repeat(result[\"delta_sqrt\"].mean() - t*se_mean,len(x)), np.repeat(result[\"delta_sqrt\"].mean() + t*se_mean,len(x)), color = \"grey\", alpha = 0.3)\n",
    "ax.fill_between(x, np.repeat(upper - t*se_limit,len(x)), np.repeat(upper + t*se_limit,len(x)), color = \"grey\", alpha = 0.3)\n",
    "ax.fill_between(x, np.repeat(lower - t*se_limit,len(x)), np.repeat(lower + t*se_limit,len(x)), color = \"grey\", alpha = 0.3)\n",
    "plt.show()"
   ]
  },
  {
   "cell_type": "markdown",
   "id": "740367e6",
   "metadata": {},
   "source": [
    "#### Регрессия Пассинга-Баблока"
   ]
  },
  {
   "cell_type": "code",
   "execution_count": 166,
   "id": "06ba7b9b",
   "metadata": {},
   "outputs": [
    {
     "name": "stdout",
     "output_type": "stream",
     "text": [
      "The rpy2.ipython extension is already loaded. To reload it, use:\n",
      "  %reload_ext rpy2.ipython\n",
      "3.5.4\n"
     ]
    }
   ],
   "source": [
    "import rpy2\n",
    "%load_ext rpy2.ipython\n",
    "print(rpy2.__version__)"
   ]
  },
  {
   "cell_type": "code",
   "execution_count": null,
   "id": "6f1d1779",
   "metadata": {
    "scrolled": true
   },
   "outputs": [],
   "source": [
    "%%R\n",
    "install.packages(\"mcr\")\n",
    "install.packages(\"cellranger\")\n",
    "install.packages(\"readxl\")"
   ]
  },
  {
   "cell_type": "code",
   "execution_count": 187,
   "id": "80902fe8",
   "metadata": {},
   "outputs": [
    {
     "name": "stdout",
     "output_type": "stream",
     "text": [
      "               _                           \n",
      "platform       x86_64-pc-linux-gnu         \n",
      "arch           x86_64                      \n",
      "os             linux-gnu                   \n",
      "system         x86_64, linux-gnu           \n",
      "status                                     \n",
      "major          4                           \n",
      "minor          2.0                         \n",
      "year           2022                        \n",
      "month          04                          \n",
      "day            22                          \n",
      "svn rev        82229                       \n",
      "language       R                           \n",
      "version.string R version 4.2.0 (2022-04-22)\n",
      "nickname       Vigorous Calisthenics       \n"
     ]
    }
   ],
   "source": [
    "%%R\n",
    "print(R.version)"
   ]
  },
  {
   "cell_type": "code",
   "execution_count": 173,
   "id": "58266ac2",
   "metadata": {},
   "outputs": [
    {
     "name": "stdout",
     "output_type": "stream",
     "text": [
      "[1] ‘1.2.2’\n"
     ]
    }
   ],
   "source": [
    "%%R\n",
    "print(packageVersion(\"mcr\"))"
   ]
  },
  {
   "cell_type": "code",
   "execution_count": 168,
   "id": "a03a8173",
   "metadata": {},
   "outputs": [
    {
     "name": "stdout",
     "output_type": "stream",
     "text": [
      "   ID Holes Outcome Age Sex Try_1, pg/ml Try_2, pg/ml ELISA, pg/ml xMAP, pg/ml\n",
      "1   7 G2,H2  смерть  59   1        30.68        31.13        30.91   60.042296\n",
      "2  55 G7,H7 тяжелый  62   1        26.29        24.84        25.57   20.481909\n",
      "3  70 H1,B3  смерть  50   1        51.69        54.35        53.02   48.805099\n",
      "4 110 E2,F2  смерть  57   1        17.86        21.03        19.45    7.412301\n",
      "5 129 C3,D3  смерть  62   1       133.30       155.10       144.20  144.136971\n",
      "6 165 E5,F5  смерть  69   2        60.07        48.20        54.14   53.901382\n"
     ]
    }
   ],
   "source": [
    "%%R\n",
    "library(mcr)\n",
    "data = as.data.frame(readxl::read_excel(\"~/Documents/Piter/Immunology/tables/results_xmap_and_vector.xlsx\"))\n",
    "head(data)"
   ]
  },
  {
   "cell_type": "code",
   "execution_count": 170,
   "id": "158cdd99",
   "metadata": {},
   "outputs": [
    {
     "name": "stdout",
     "output_type": "stream",
     "text": [
      "                EST SE         LCI       UCI\n",
      "Intercept -6.980365 NA -10.9658199 -2.985483\n",
      "Slope      1.063538 NA   0.8368185  1.207993\n"
     ]
    }
   ],
   "source": [
    "%%R\n",
    "PB.reg <- mcreg(as.numeric(data[,\"ELISA, pg/ml\"]),as.numeric(data[,\"xMAP, pg/ml\"]), method.reg = \"PaBa\")\n",
    "PB.reg@para"
   ]
  },
  {
   "cell_type": "code",
   "execution_count": 171,
   "id": "e02d3b78",
   "metadata": {},
   "outputs": [
    {
     "data": {
      "image/png": "[encoded data removed]"
     },
     "metadata": {},
     "output_type": "display_data"
    }
   ],
   "source": [
    "%%R\n",
    "plot(PB.reg)"
   ]
  },
  {
   "cell_type": "code",
   "execution_count": 172,
   "id": "de27b3b5",
   "metadata": {},
   "outputs": [
    {
     "name": "stdout",
     "output_type": "stream",
     "text": [
      "\n",
      "\n",
      "------------------------------------------\n",
      "\n",
      "Reference method: Method1\n",
      "Test method:     Method2\n",
      "Number of data points: 45\n",
      "\n",
      "------------------------------------------\n",
      "\n",
      "The confidence intervals are calculated with\n",
      " bootstrap  ( quantile ) method.\n",
      "Confidence level: 95%\n",
      "\n",
      "\n",
      "------------------------------------------\n",
      "\n",
      "PASSING BABLOK REGRESSION FIT:\n",
      "\n",
      "                EST SE         LCI       UCI\n",
      "Intercept -6.980365 NA -10.9658199 -2.985483\n",
      "Slope      1.063538 NA   0.8368185  1.207993\n",
      "\n",
      "\n",
      "------------------------------------------\n",
      "\n",
      "BOOTSTRAP SUMMARY\n",
      "\n",
      "          global.est bootstrap.mean     bias bootstrap.se\n",
      "Intercept   -6.98036       -7.09656 -0.11619      2.11293\n",
      "Slope        1.06354        1.05759 -0.00595      0.08816\n",
      "\n",
      "Bootstrap results generated with environment RNG settings.\n",
      "NULL\n"
     ]
    }
   ],
   "source": [
    "%%R\n",
    "printSummary(PB.reg)"
   ]
  },
  {
   "cell_type": "markdown",
   "id": "8742a98c",
   "metadata": {},
   "source": [
    "### Корреляция ИЛ-6 с возрастом"
   ]
  },
  {
   "cell_type": "code",
   "execution_count": 177,
   "id": "981e0142",
   "metadata": {},
   "outputs": [
    {
     "data": {
      "text/plain": [
       "<matplotlib.legend.Legend at 0x7f0a9d8c6070>"
      ]
     },
     "execution_count": 177,
     "metadata": {},
     "output_type": "execute_result"
    },
    {
     "data": {
      "image/png": "[encoded data removed]",
      "text/plain": [
       "<Figure size 432x432 with 3 Axes>"
      ]
     },
     "metadata": {
      "needs_background": "light"
     },
     "output_type": "display_data"
    }
   ],
   "source": [
    "r, p = sp.stats.spearmanr(a = result[\"Age\"], b = result[\"xMAP, pg/ml\"])\n",
    "ax = sns.jointplot(data = result, x = \"Age\", y = \"xMAP, pg/ml\", kind=\"reg\", line_kws={'label':\"r={:.2f};p={:.2f}\".format(r,p)})\n",
    "ax.ax_joint.legend()"
   ]
  },
  {
   "cell_type": "markdown",
   "id": "ec673889",
   "metadata": {},
   "source": [
    "### Сравнение уровня ИЛ-6 у больных с разной степенью тяжести"
   ]
  },
  {
   "cell_type": "code",
   "execution_count": 178,
   "id": "fc36114c",
   "metadata": {},
   "outputs": [
    {
     "name": "stdout",
     "output_type": "stream",
     "text": [
      "(37, 13)\n"
     ]
    }
   ],
   "source": [
    "disease = result[result[\"Outcome\"] != \"здоровый\"]\n",
    "print(disease.shape)"
   ]
  },
  {
   "cell_type": "code",
   "execution_count": 179,
   "id": "e31ed355",
   "metadata": {},
   "outputs": [
    {
     "data": {
      "text/plain": [
       "смерть     17\n",
       "средний    14\n",
       "тяжелый     6\n",
       "Name: Outcome, dtype: int64"
      ]
     },
     "execution_count": 179,
     "metadata": {},
     "output_type": "execute_result"
    }
   ],
   "source": [
    "disease[\"Outcome\"].value_counts()"
   ]
  },
  {
   "cell_type": "code",
   "execution_count": 180,
   "id": "6f9e26ad",
   "metadata": {},
   "outputs": [],
   "source": [
    "dead = disease.loc[disease[\"Outcome\"] == \"смерть\", \"xMAP, pg/ml\"]\n",
    "moderate = disease.loc[disease[\"Outcome\"] == \"средний\", \"xMAP, pg/ml\"]\n",
    "severe = disease.loc[disease[\"Outcome\"] == \"тяжелый\", \"xMAP, pg/ml\"]"
   ]
  },
  {
   "cell_type": "code",
   "execution_count": 181,
   "id": "2d66f007",
   "metadata": {},
   "outputs": [
    {
     "data": {
      "text/plain": [
       "KruskalResult(statistic=0.36038825202913927, pvalue=0.8351080794715648)"
      ]
     },
     "execution_count": 181,
     "metadata": {},
     "output_type": "execute_result"
    }
   ],
   "source": [
    "sp.stats.kruskal(dead,moderate,severe)"
   ]
  },
  {
   "cell_type": "code",
   "execution_count": 182,
   "id": "55d9b0ce",
   "metadata": {},
   "outputs": [
    {
     "data": {
      "text/plain": [
       "MannwhitneyuResult(statistic=128.0, pvalue=0.735814797438752)"
      ]
     },
     "execution_count": 182,
     "metadata": {},
     "output_type": "execute_result"
    }
   ],
   "source": [
    "sp.stats.mannwhitneyu(dead,moderate)"
   ]
  },
  {
   "cell_type": "code",
   "execution_count": 183,
   "id": "8734f20b",
   "metadata": {},
   "outputs": [
    {
     "data": {
      "text/plain": [
       "MannwhitneyuResult(statistic=47.0, pvalue=0.7180598555211559)"
      ]
     },
     "execution_count": 183,
     "metadata": {},
     "output_type": "execute_result"
    }
   ],
   "source": [
    "sp.stats.mannwhitneyu(severe,moderate)"
   ]
  },
  {
   "cell_type": "code",
   "execution_count": 184,
   "id": "5c96253c",
   "metadata": {},
   "outputs": [
    {
     "data": {
      "text/plain": [
       "MannwhitneyuResult(statistic=59.0, pvalue=0.608794714057872)"
      ]
     },
     "execution_count": 184,
     "metadata": {},
     "output_type": "execute_result"
    }
   ],
   "source": [
    "sp.stats.mannwhitneyu(severe,dead)"
   ]
  },
  {
   "cell_type": "markdown",
   "id": "0476496e",
   "metadata": {},
   "source": [
    "### Выводы"
   ]
  },
  {
   "cell_type": "markdown",
   "id": "9101943e",
   "metadata": {},
   "source": [
    "1. Методы ИФА и MAGPIX в целом сопоставимы, но имеется статистически значимое смещение результатов одного метода над другим: у ИФА завышенные результаты относительно MAGPIX\n",
    "2. Присутствует статистически значимая корреляция уровня ИЛ-6 в плазме крови с возрастом\n",
    "3. Уровень ИЛ-6 не отличается в группах с различной тяжестью заболевания\n"
   ]
  },
  {
   "cell_type": "markdown",
   "id": "015b66ba",
   "metadata": {},
   "source": [
    "# Выводы"
   ]
  },
  {
   "cell_type": "markdown",
   "id": "1e406122",
   "metadata": {},
   "source": [
    "**ИЛ-6 не может изолированно использоваться ни для прогноза исхода заболевания, ни степени тяжести. Методы ИФА и MAGPIX сопоставимы для определения ИЛ-6 в плазме, пусть и с некоторой систематической ошибкой. Концентрация ИЛ-6 в плазме коррелирует с возрастом пациентов.**"
   ]
  },
  {
   "cell_type": "markdown",
   "id": "542deb93",
   "metadata": {},
   "source": [
    "# Обсуждения"
   ]
  },
  {
   "cell_type": "markdown",
   "id": "3642829c",
   "metadata": {},
   "source": [
    "В ходе обработки результатов, мы столкнулись с двумя лимитирующими факторами:\n",
    "1. Постановка иммуноферментного анализа и мультиплексного анализа выполнялась в технически различающихся условиях.\n",
    "2. В наше исследование включены образцы  с генетически подтвержденным вариантом Дельта (B1.617.2). Возможно, полученные нами результаты не будут в полной мере применимы к другим геновариантам вируса."
   ]
  },
  {
   "cell_type": "markdown",
   "id": "5f8527e2",
   "metadata": {},
   "source": [
    "# Библиография"
   ]
  },
  {
   "cell_type": "markdown",
   "id": "ca58f32c",
   "metadata": {},
   "source": [
    "<!-- BIBLIOGRAPHY START -->\n",
    "<div class=\"csl-bib-body\">\n",
    "  <div class=\"csl-entry\"><i id=\"zotero|13080035/GRKMZUTZ\"></i>BLAND, J. M., &#38; ALTMAN, D. G. (1986). STATISTICAL METHODS FOR ASSESSING AGREEMENT BETWEEN TWO METHODS OF CLINICAL MEASUREMENT. <i>The Lancet</i>. <a href=\"https://doi.org/10.1016/S0140-6736(86)90837-8\">https://doi.org/10.1016/S0140-6736(86)90837-8</a></div>\n",
    "  <div class=\"csl-entry\"><i id=\"zotero|13080035/ZF4M2P6U\"></i>Hu, B., Huang, S., &#38; Yin, L. (2021). The cytokine storm and COVID‐19. <i>Journal of Medical Virology</i>, <i>93</i>(1), 250–256. <a href=\"https://doi.org/10.1002/jmv.26232\">https://doi.org/10.1002/jmv.26232</a></div>\n",
    "  <div class=\"csl-entry\"><i id=\"zotero|13080035/DV7XQA97\"></i>Nitin, P., Nandhakumar, R., Vidhya, B., Rajesh, S., &#38; Sakunthala, A. (2022). COVID-19: Invasion, pathogenesis and possible cure – A review. <i>Journal of Virological Methods</i>, <i>300</i>, 114434. <a href=\"https://doi.org/10.1016/j.jviromet.2021.114434\">https://doi.org/10.1016/j.jviromet.2021.114434</a></div>\n",
    "  <div class=\"csl-entry\"><i id=\"zotero|13080035/PXBMYYI5\"></i>Passing, H., &#38; Bablok, W. (1983). A New Biometrical Procedure for Testing the Equality of Measurements from Two Different Analytical Methods. Application of linear regression procedures for method comparison studies in Clinical Chemistry, Part I. <i>Cclm</i>, <i>21</i>(11), 709–720. <a href=\"https://doi.org/10.1515/cclm.1983.21.11.709\">https://doi.org/10.1515/cclm.1983.21.11.709</a></div>\n",
    "  <div class=\"csl-entry\"><i id=\"zotero|13080035/YT8T2TDV\"></i>Passing, H., &#38; Bablok, W. (1984). Comparison of Several Regression Procedures for Method Comparison Studies and Determination of Sample Sizes Application of linear regression procedures for method comparison studies in Clinical Chemistry, Part II. <i>Clinical Chemistry and Laboratory Medicine</i>, <i>22</i>(6). <a href=\"https://doi.org/10.1515/cclm.1984.22.6.431\">https://doi.org/10.1515/cclm.1984.22.6.431</a></div>\n",
    "  <div class=\"csl-entry\"><i id=\"zotero|13080035/NRUIAVCN\"></i>Santa Cruz, A., Mendes-Frias, A., Oliveira, A. I., Dias, L., Matos, A. R., Carvalho, A., Capela, C., Pedrosa, J., Castro, A. G., &#38; Silvestre, R. (2021). Interleukin-6 Is a Biomarker for the Development of Fatal Severe Acute Respiratory Syndrome Coronavirus 2 Pneumonia. <i>Frontiers in Immunology</i>, <i>12</i>, 613422. <a href=\"https://doi.org/10.3389/fimmu.2021.613422\">https://doi.org/10.3389/fimmu.2021.613422</a></div>\n",
    "  <div class=\"csl-entry\"><i id=\"zotero|13080035/KMLHMQK2\"></i>Siordia, J. A. (2020). Epidemiology and clinical features of COVID-19: A review of current literature. <i>Journal of Clinical Virology</i>, <i>127</i>, 104357. <a href=\"https://doi.org/10.1016/j.jcv.2020.104357\">https://doi.org/10.1016/j.jcv.2020.104357</a></div>\n",
    "</div>\n",
    "<!-- BIBLIOGRAPHY END -->"
   ]
  },
  {
   "cell_type": "code",
   "execution_count": null,
   "id": "b06deff5-890a-40a1-a236-e1216a16207d",
   "metadata": {},
   "outputs": [],
   "source": []
  }
 ],
 "metadata": {
  "citation-manager": {
   "items": {
    "zotero": {
     "13080035/DV7XQA97": {
      "DOI": "10.1016/j.jviromet.2021.114434",
      "URL": "https://linkinghub.elsevier.com/retrieve/pii/S0166093421003736",
      "abstract": "Today, Coronavirus disease (COVID-19) which is believed to be transmitted from bats to humans where the people of Wuhan city, China exposed to the wet animal market is an important international public health anxiety (Xiong et al., 2020). Although, several measures were undertaken to treat the diseases by various medical advancements and by a variety of treatment procedures, still the mortality is higher. Hence, social distancing has been implemented to control the current outburst of this pandemic which spreads through human to human transmission. As a consequence, there is a need to completely understand the route of invasions of the virus into the humans and the target receptors besides the other factors leading to the disease. Several vaccines and drugs have been developed with its own pros and cons. Many are still under the various phase of R&D and clinical trials. Here we highlight the possible entry molecules, pathogenesis, symptomatology, probable cure and the recently developed vaccines for the existing pandemic due to the COVID-19.",
      "accessed": {
       "date-parts": [
        [
         2023,
         1,
         21
        ]
       ]
      },
      "author": [
       {
        "family": "Nitin",
        "given": "P"
       },
       {
        "family": "Nandhakumar",
        "given": "R"
       },
       {
        "family": "Vidhya",
        "given": "B"
       },
       {
        "family": "Rajesh",
        "given": "S"
       },
       {
        "family": "Sakunthala",
        "given": "A"
       }
      ],
      "container-title": "Journal of Virological Methods",
      "id": "13080035/DV7XQA97",
      "issued": {
       "date-parts": [
        [
         "2022"
        ]
       ]
      },
      "journalAbbreviation": "Journal of Virological Methods",
      "language": "en",
      "page": "114434",
      "shortTitle": "COVID-19",
      "system_id": "zotero|13080035/DV7XQA97",
      "title": "COVID-19: Invasion, pathogenesis and possible cure – A review",
      "type": "article-journal",
      "volume": "300"
     },
     "13080035/GRKMZUTZ": {
      "DOI": "https://doi.org/10.1016/S0140-6736(86)90837-8",
      "abstract": "In clinical measurement comparison of a new measurement technique with an established one is often needed to see whether they agree sufficiently for the new to replace the old. Such investigations\nare often analysed inappropriately, notably by using\ncorrelation coefficients. The use of correlation is misleading. An alternative approach, based on graphical techniques and simple calculations, is described, together with the relation between this analysis and the assessment of repeatability.",
      "author": [
       {
        "family": "BLAND",
        "given": "J. MARTIN"
       },
       {
        "family": "ALTMAN",
        "given": "DOUGLAS G."
       }
      ],
      "container-title": "The Lancet",
      "id": "13080035/GRKMZUTZ",
      "issued": {
       "date-parts": [
        [
         "1986",
         2,
         8
        ]
       ]
      },
      "language": "en",
      "system_id": "zotero|13080035/GRKMZUTZ",
      "title": "STATISTICAL METHODS FOR ASSESSING AGREEMENT BETWEEN TWO METHODS OF CLINICAL MEASUREMENT",
      "type": "article-journal"
     },
     "13080035/KMLHMQK2": {
      "DOI": "10.1016/j.jcv.2020.104357",
      "URL": "https://linkinghub.elsevier.com/retrieve/pii/S1386653220300998",
      "abstract": "Coronavirus disease 2019 is a pandemic influencing the first half of the year 2020. The virus has rapidly spread to many countries. Studies are rapidly published to share information regarding epidemiology, clinical and diagnostic patterns, and prognosis. The following review condenses the surge of information into an organized format.",
      "accessed": {
       "date-parts": [
        [
         2023,
         1,
         21
        ]
       ]
      },
      "author": [
       {
        "family": "Siordia",
        "given": "Juan A."
       }
      ],
      "container-title": "Journal of Clinical Virology",
      "id": "13080035/KMLHMQK2",
      "issued": {
       "date-parts": [
        [
         "2020"
        ]
       ]
      },
      "journalAbbreviation": "Journal of Clinical Virology",
      "language": "en",
      "page": "104357",
      "shortTitle": "Epidemiology and clinical features of COVID-19",
      "system_id": "zotero|13080035/KMLHMQK2",
      "title": "Epidemiology and clinical features of COVID-19: A review of current literature",
      "type": "article-journal",
      "volume": "127"
     },
     "13080035/NRUIAVCN": {
      "DOI": "10.3389/fimmu.2021.613422",
      "URL": "https://www.frontiersin.org/articles/10.3389/fimmu.2021.613422/full",
      "abstract": "Hyper-inflammatory responses induced by severe acute respiratory syndrome coronavirus 2 (SARS-CoV-2) are a major cause of disease severity and death. Predictive prognosis biomarkers to guide therapeutics are critically lacking. Several studies have indicated a “cytokine storm” with the release of interleukin-1 (IL-1), IL-6, and IL-8, along with tumor necrosis factor alpha (TNFα) and other inflammatory mediators. Here, we proposed to assess the relationship between IL-6 and outcomes of patients with coronavirus disease 2019 (COVID-19). Our cohort consisted of 46 adult patients with PCR-proven SARS-CoV-2 infection admitted in a COVID-19 ward of the Hospital de Braga (HB) from April 7 to May 7, 2020, whose IL-6 levels were followed over time. We found that IL-6 levels were significantly different between the disease stages. Also, we found a significant negative correlation between IL-6 levels during stages IIb and III, peripheral oxygen saturation (SpO\n              2\n              ), and partial pressure of oxygen in arterial blood (PaO\n              2\n              ), showing that IL-6 correlates with respiratory failure. Compared to the inflammatory markers available in the clinic routine, we found a positive correlation between IL-6 and C-reactive protein (CRP). However, when we assessed the predictive value of these two markers, IL-6 behaves as a better predictor of disease progression. In a binary logistic regression, IL-6 level was the most significant predictor of the non-survivors group, when compared to age and CRP. Herein, we present IL-6 as a relevant tool for prognostic evaluation, mainly as a predictor of outcome.",
      "accessed": {
       "date-parts": [
        [
         2023,
         1,
         21
        ]
       ]
      },
      "author": [
       {
        "family": "Santa Cruz",
        "given": "André"
       },
       {
        "family": "Mendes-Frias",
        "given": "Ana"
       },
       {
        "family": "Oliveira",
        "given": "Ana Isabel"
       },
       {
        "family": "Dias",
        "given": "Luís"
       },
       {
        "family": "Matos",
        "given": "Ana Rita"
       },
       {
        "family": "Carvalho",
        "given": "Alexandre"
       },
       {
        "family": "Capela",
        "given": "Carlos"
       },
       {
        "family": "Pedrosa",
        "given": "Jorge"
       },
       {
        "family": "Castro",
        "given": "António Gil"
       },
       {
        "family": "Silvestre",
        "given": "Ricardo"
       }
      ],
      "container-title": "Frontiers in Immunology",
      "id": "13080035/NRUIAVCN",
      "issued": {
       "date-parts": [
        [
         2021,
         2,
         18
        ]
       ]
      },
      "journalAbbreviation": "Front. Immunol.",
      "language": "en",
      "page": "613422",
      "system_id": "zotero|13080035/NRUIAVCN",
      "title": "Interleukin-6 Is a Biomarker for the Development of Fatal Severe Acute Respiratory Syndrome Coronavirus 2 Pneumonia",
      "type": "article-journal",
      "volume": "12"
     },
     "13080035/PXBMYYI5": {
      "DOI": "10.1515/cclm.1983.21.11.709",
      "URL": "https://www.degruyter.com/document/doi/10.1515/cclm.1983.21.11.709/html",
      "abstract": "Procedures for the statistical evaluation of method comparisons and Instrument tests often have a requirement for distributional properties of the experimental data, but this requirement is frequently not met. In our paper we propose a new linear regression procedure with no special assumptions regarding the distribution of the samples and the measurement errors. The result does not depend on the assignment of the methods (instruments) to X and Y. After testing a linear relationship between X and confidence limits are given for the slope and the intercept a; they are used to determine whether there is only a chance difference between and l and between and 0. The mathematical background is amplified separately in an appendix.",
      "accessed": {
       "date-parts": [
        [
         2023,
         1,
         21
        ]
       ]
      },
      "author": [
       {
        "family": "Passing",
        "given": "H."
       },
       {
        "family": "Bablok",
        "given": "W."
       }
      ],
      "container-title": "cclm",
      "id": "13080035/PXBMYYI5",
      "issue": "11",
      "issued": {
       "date-parts": [
        [
         1983
        ]
       ]
      },
      "language": "en",
      "page": "709-720",
      "system_id": "zotero|13080035/PXBMYYI5",
      "title": "A New Biometrical Procedure for Testing the Equality of Measurements from Two Different Analytical Methods. Application of linear regression procedures for method comparison studies in Clinical Chemistry, Part I",
      "type": "article-journal",
      "volume": "21"
     },
     "13080035/YT8T2TDV": {
      "DOI": "10.1515/cclm.1984.22.6.431",
      "URL": "https://www.degruyter.com/document/doi/10.1515/cclm.1984.22.6.431/html",
      "abstract": "In part I of this series (H. Passing & W. Bablok (1983), J. Clin. Chem. Clin. Biochem. 27, 709—720) we described a new biometrical procedure for the evaluation of method comparison studies. In part II we now discuss its properties and compare them with thöse of other established procedures by means of a Simulation study, We demonstrate that the reliability of the results not only depends on the sample size but also on the sampling distribution, the precisipn of the methods, and the concentration ränge covered by the samples. Linear regression and principal component procedures are either inadequate or not äs reliable äs our new procedure. The appropriate sample size is discussed and recommendations are given.",
      "accessed": {
       "date-parts": [
        [
         2023,
         1,
         21
        ]
       ]
      },
      "author": [
       {
        "family": "Passing",
        "given": "H."
       },
       {
        "family": "Bablok",
        "given": "W."
       }
      ],
      "container-title": "Clinical Chemistry and Laboratory Medicine",
      "id": "13080035/YT8T2TDV",
      "issue": "6",
      "issued": {
       "date-parts": [
        [
         1984
        ]
       ]
      },
      "language": "en",
      "system_id": "zotero|13080035/YT8T2TDV",
      "title": "Comparison of Several Regression Procedures for Method Comparison Studies and Determination of Sample Sizes Application of linear regression procedures for method comparison studies in Clinical Chemistry, Part II",
      "type": "article-journal",
      "volume": "22"
     },
     "13080035/ZF4M2P6U": {
      "DOI": "10.1002/jmv.26232",
      "URL": "https://onlinelibrary.wiley.com/doi/10.1002/jmv.26232",
      "abstract": "Coronavirus disease 2019 (COVID‐19), which began in Wuhan, China, in December 2019, has caused a large global pandemic and poses a serious threat to public health. More than 4 million cases of COVID‐19, which is caused by the severe acute respiratory syndrome coronavirus 2 (SARS‐CoV‐2), have been confirmed as of 11 May 2020. SARS‐CoV‐2 is a highly pathogenic and transmissible coronavirus that primarily spreads through respiratory droplets and close contact. A growing body of clinical data suggests that a cytokine storm is associated with COVID‐19 severity and is also a crucial cause of death from COVID‐19. In the absence of antivirals and vaccines for COVID‐19, there is an urgent need to understand the cytokine storm in COVID‐19. Here, we have reviewed the current understanding of the features of SARS‐CoV‐2 and the pathological features, pathophysiological mechanisms, and treatments of the cytokine storm induced by COVID‐19. In addition, we suggest that the identification and treatment of the cytokine storm are important components for rescuing patients with severe COVID‐19.",
      "accessed": {
       "date-parts": [
        [
         2023,
         1,
         21
        ]
       ]
      },
      "author": [
       {
        "family": "Hu",
        "given": "Biying"
       },
       {
        "family": "Huang",
        "given": "Shaoying"
       },
       {
        "family": "Yin",
        "given": "Lianghong"
       }
      ],
      "container-title": "Journal of Medical Virology",
      "id": "13080035/ZF4M2P6U",
      "issue": "1",
      "issued": {
       "date-parts": [
        [
         "2021"
        ]
       ]
      },
      "journalAbbreviation": "J Med Virol",
      "language": "en",
      "page": "250-256",
      "system_id": "zotero|13080035/ZF4M2P6U",
      "title": "The cytokine storm and COVID‐19",
      "type": "article-journal",
      "volume": "93"
     }
    }
   }
  },
  "cite2c": {
   "citations": {
    "13080035/QWJUXNJK": {
     "URL": "https://www.frontiersin.org/articles/10.3389/fimmu.2021.613422",
     "abstract": "Hyper-inflammatory responses induced by severe acute respiratory syndrome coronavirus 2 (SARS-CoV-2) are a major cause of disease severity and death. Predictive prognosis biomarkers to guide therapeutics are critically lacking. Several studies have indicated a “cytokine storm” with the release of interleukin-1 (IL-1), IL-6, and IL-8, along with tumor necrosis factor alpha (TNFα) and other inflammatory mediators. Here, we proposed to assess the relationship between IL-6 and outcomes of patients with coronavirus disease 2019 (COVID-19). Our cohort consisted of 46 adult patients with PCR-proven SARS-CoV-2 infection admitted in a COVID-19 ward of the Hospital de Braga (HB) from April 7 to May 7, 2020, whose IL-6 levels were followed over time. We found that IL-6 levels were significantly different between the disease stages. Also, we found a significant negative correlation between IL-6 levels during stages IIb and III, peripheral oxygen saturation (SpO2), and partial pressure of oxygen in arterial blood (PaO2), showing that IL-6 correlates with respiratory failure. Compared to the inflammatory markers available in the clinic routine, we found a positive correlation between IL-6 and C-reactive protein (CRP). However, when we assessed the predictive value of these two markers, IL-6 behaves as a better predictor of disease progression. In a binary logistic regression, IL-6 level was the most significant predictor of the non-survivors group, when compared to age and CRP. Herein, we present IL-6 as a relevant tool for prognostic evaluation, mainly as a predictor of outcome.",
     "accessed": {
      "date-parts": [
       [
        2022,
        9,
        18
       ]
      ]
     },
     "author": [
      {
       "family": "Santa Cruz",
       "given": "André"
      },
      {
       "family": "Mendes-Frias",
       "given": "Ana"
      },
      {
       "family": "Oliveira",
       "given": "Ana Isabel"
      },
      {
       "family": "Dias",
       "given": "Luís"
      },
      {
       "family": "Matos",
       "given": "Ana Rita"
      },
      {
       "family": "Carvalho",
       "given": "Alexandre"
      },
      {
       "family": "Capela",
       "given": "Carlos"
      },
      {
       "family": "Pedrosa",
       "given": "Jorge"
      },
      {
       "family": "Castro",
       "given": "António Gil"
      },
      {
       "family": "Silvestre",
       "given": "Ricardo"
      }
     ],
     "container-title": "Frontiers in Immunology",
     "issued": {
      "date-parts": [
       [
        2021
       ]
      ]
     },
     "title": "Interleukin-6 Is a Biomarker for the Development of Fatal Severe Acute Respiratory Syndrome Coronavirus 2 Pneumonia",
     "type": "article-journal",
     "volume": "12"
    },
    "undefined": {
     "URL": "https://www.frontiersin.org/articles/10.3389/fimmu.2021.613422",
     "abstract": "Hyper-inflammatory responses induced by severe acute respiratory syndrome coronavirus 2 (SARS-CoV-2) are a major cause of disease severity and death. Predictive prognosis biomarkers to guide therapeutics are critically lacking. Several studies have indicated a “cytokine storm” with the release of interleukin-1 (IL-1), IL-6, and IL-8, along with tumor necrosis factor alpha (TNFα) and other inflammatory mediators. Here, we proposed to assess the relationship between IL-6 and outcomes of patients with coronavirus disease 2019 (COVID-19). Our cohort consisted of 46 adult patients with PCR-proven SARS-CoV-2 infection admitted in a COVID-19 ward of the Hospital de Braga (HB) from April 7 to May 7, 2020, whose IL-6 levels were followed over time. We found that IL-6 levels were significantly different between the disease stages. Also, we found a significant negative correlation between IL-6 levels during stages IIb and III, peripheral oxygen saturation (SpO2), and partial pressure of oxygen in arterial blood (PaO2), showing that IL-6 correlates with respiratory failure. Compared to the inflammatory markers available in the clinic routine, we found a positive correlation between IL-6 and C-reactive protein (CRP). However, when we assessed the predictive value of these two markers, IL-6 behaves as a better predictor of disease progression. In a binary logistic regression, IL-6 level was the most significant predictor of the non-survivors group, when compared to age and CRP. Herein, we present IL-6 as a relevant tool for prognostic evaluation, mainly as a predictor of outcome.",
     "accessed": {
      "date-parts": [
       [
        2022,
        9,
        18
       ]
      ]
     },
     "author": [
      {
       "family": "Santa Cruz",
       "given": "André"
      },
      {
       "family": "Mendes-Frias",
       "given": "Ana"
      },
      {
       "family": "Oliveira",
       "given": "Ana Isabel"
      },
      {
       "family": "Dias",
       "given": "Luís"
      },
      {
       "family": "Matos",
       "given": "Ana Rita"
      },
      {
       "family": "Carvalho",
       "given": "Alexandre"
      },
      {
       "family": "Capela",
       "given": "Carlos"
      },
      {
       "family": "Pedrosa",
       "given": "Jorge"
      },
      {
       "family": "Castro",
       "given": "António Gil"
      },
      {
       "family": "Silvestre",
       "given": "Ricardo"
      }
     ],
     "container-title": "Frontiers in Immunology",
     "issued": {
      "date-parts": [
       [
        2021
       ]
      ]
     },
     "title": "Interleukin-6 Is a Biomarker for the Development of Fatal Severe Acute Respiratory Syndrome Coronavirus 2 Pneumonia",
     "type": "article-journal",
     "volume": "12"
    }
   }
  },
  "kernelspec": {
   "display_name": "Python 3 (ipykernel)",
   "language": "python",
   "name": "python3"
  },
  "language_info": {
   "codemirror_mode": {
    "name": "ipython",
    "version": 3
   },
   "file_extension": ".py",
   "mimetype": "text/x-python",
   "name": "python",
   "nbconvert_exporter": "python",
   "pygments_lexer": "ipython3",
   "version": "3.9.12"
  },
  "latex_envs": {
   "LaTeX_envs_menu_present": true,
   "autoclose": false,
   "autocomplete": true,
   "bibliofile": "biblio.bib",
   "cite_by": "apalike",
   "current_citInitial": 1,
   "eqLabelWithNumbers": true,
   "eqNumInitial": 1,
   "hotkeys": {
    "equation": "Ctrl-E",
    "itemize": "Ctrl-I"
   },
   "labels_anchors": false,
   "latex_user_defs": false,
   "report_style_numbering": false,
   "user_envs_cfg": false
  },
  "toc": {
   "base_numbering": 1,
   "nav_menu": {
    "height": "200px",
    "width": "802px"
   },
   "number_sections": true,
   "sideBar": true,
   "skip_h1_title": false,
   "title_cell": "Table of Contents",
   "title_sidebar": "Contents",
   "toc_cell": false,
   "toc_position": {
    "height": "calc(100% - 180px)",
    "left": "10px",
    "top": "150px",
    "width": "369.594px"
   },
   "toc_section_display": true,
   "toc_window_display": true
  },
  "varInspector": {
   "cols": {
    "lenName": 16,
    "lenType": 16,
    "lenVar": 40
   },
   "kernels_config": {
    "python": {
     "delete_cmd_postfix": "",
     "delete_cmd_prefix": "del ",
     "library": "var_list.py",
     "varRefreshCmd": "print(var_dic_list())"
    },
    "r": {
     "delete_cmd_postfix": ") ",
     "delete_cmd_prefix": "rm(",
     "library": "var_list.r",
     "varRefreshCmd": "cat(var_dic_list()) "
    }
   },
   "types_to_exclude": [
    "module",
    "function",
    "builtin_function_or_method",
    "instance",
    "_Feature"
   ],
   "window_display": false
  }
 },
 "nbformat": 4,
 "nbformat_minor": 5
}
